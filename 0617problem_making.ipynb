{
 "cells": [
  {
   "cell_type": "code",
   "execution_count": 130,
   "metadata": {},
   "outputs": [
    {
     "name": "stdout",
     "output_type": "stream",
     "text": [
      "The autoreload extension is already loaded. To reload it, use:\n",
      "  %reload_ext autoreload\n"
     ]
    }
   ],
   "source": [
    "#ライブラリの自動リロード\n",
    "%load_ext autoreload\n",
    "%autoreload 2\n",
    "\n",
    "from settings.key import GPT_API_KEY\n",
    "openai.api_key = GPT_API_KEY\n",
    "from LLMSearch.AutoDataset.GPTQuestions import gpt_function_call"
   ]
  },
  {
   "cell_type": "code",
   "execution_count": 131,
   "metadata": {},
   "outputs": [
    {
     "name": "stderr",
     "output_type": "stream",
     "text": [
      "[nltk_data] Downloading package punkt to /home/kh/nltk_data...\n",
      "[nltk_data]   Package punkt is already up-to-date!\n",
      "INFO:faiss.loader:Loading faiss with AVX2 support.\n",
      "INFO:faiss.loader:Successfully loaded faiss with AVX2 support.\n",
      "INFO:torch.distributed.nn.jit.instantiator:Created a temporary directory at /tmp/tmplq527ht7\n",
      "INFO:torch.distributed.nn.jit.instantiator:Writing /tmp/tmplq527ht7/_remote_module_non_scriptable.py\n",
      "INFO:sentence_transformers.SentenceTransformer:Use pytorch device: cuda\n"
     ]
    },
    {
     "data": {
      "application/vnd.jupyter.widget-view+json": {
       "model_id": "b9a47591db8544c99835891b5c45a505",
       "version_major": 2,
       "version_minor": 0
      },
      "text/plain": [
       "Batches:   0%|          | 0/1 [00:00<?, ?it/s]"
      ]
     },
     "metadata": {},
     "output_type": "display_data"
    }
   ],
   "source": [
    "\n",
    "from LLMSearch.AnswerBot import AnswerBot,parse_answer\n",
    "from settings.key import GPT_API_KEY, DEEPL_API_KEY\n",
    "from LLMSearch.GPTQuery import GPTQuery\n",
    "from LLMSearch.BM25DB import BM25DB\n",
    "from LLMSearch.SQLTextDB import SQLTextDB\n",
    "from LLMSearch.Embedding.SBERTFineTuneEmbedding import SBERTFineTuneEmbedding\n",
    "from LLMSearch.VectorSearcher import VectorSearcher\n",
    "\n",
    "embedder=SBERTFineTuneEmbedding()\n",
    "searcher=VectorSearcher(embedder,chunk_size_limit=500)\n",
    "\n",
    "\n",
    "#bm=BM25DB(initiate=True)\n",
    "#searcher=SQLTextDB()\n",
    "\n",
    "# initiate bot module\n",
    "bot1 = AnswerBot(query_module=GPTQuery(GPT_API_KEY),\n",
    "                searcher=searcher,\n",
    "                DEEPL_API_KEY=DEEPL_API_KEY,\n",
    "                )"
   ]
  },
  {
   "cell_type": "code",
   "execution_count": 188,
   "metadata": {},
   "outputs": [],
   "source": [
    "from LLMSearch.DocSplitter import split_text,remove_stopwords\n",
    "path=bot1.searcher.path_list[-1]\n",
    "path_list=list(set(bot1.searcher.path_list))\n",
    "path_list=[path for path in path_list if path.find(\"koko\")==-1]\n"
   ]
  },
  {
   "cell_type": "code",
   "execution_count": 192,
   "metadata": {},
   "outputs": [],
   "source": [
    "path_list=path_list[:5]"
   ]
  },
  {
   "cell_type": "code",
   "execution_count": 193,
   "metadata": {},
   "outputs": [
    {
     "name": "stdout",
     "output_type": "stream",
     "text": [
      "{'q1': 'この研究の目的は何ですか？', 'q2': 'どのような方法でポリアミンの検知を試みましたか？', 'q3': 'どのような現象が観察されましたか？', 'q4': 'c-AuNPsはどのような特性を持っていますか？', 'q5': 'スペルミンに対してc-AuNPsはどのような反応を示しましたか？', 'q6': '他のポリアミンと比べてスペルミンへの反応はどうだったのですか？', 'q7': 'c-AuNPsの検知感度はどのくらいですか？', 'q8': '反応時間はどれくらいでしたか？'}\n",
      "{'q1': 'c-AuNPsの反応性が高まる条件は何か？', 'q2': 'ポリアミンの検知におけるc-AuNPsの粒径の重要性は何か？', 'q3': '実尿中のポリアミンを検知するためにc-AuNPsを使用した結果，どのような変化が見られたか？', 'q4': '金ナノ粒子の特徴的な性質は何か？', 'q5': 'AuNPsの水溶液の色はどのようなものか？', 'q6': '粒子表面状態の化学的変化により何が起こるか？', 'q7': '凝集が生じると可視吸収スペクトルはどのように変化するか？', 'q8': 'c-AuNPsを使った尿中ポリアミンの検知可能性の確認はなぜ重要か？'}\n",
      "{'q1': 'AuNPsの特殊比色測定機能は何に利用されることができますか？', 'q2': 'AuNPsの特殊比色測定機能を利用して、何が検知可能ですか？', 'q3': 'AuNPsはどのような特徴を持っていますか？', 'q4': 'AuNPsの合成法の一つで広く利用されているものは何ですか？', 'q5': 'AuNPsの調製に利用されるクエン酸還元剤の特徴は何ですか？', 'q6': 'ポリアミンとは何ですか？', 'q7': 'ポリアミンにはどのようなアミノ基が結合していますか？', 'q8': 'ポリアミンはどのような化学分野で利用されていますか？'}\n",
      "{'q1': 'ポリアミンはどのような生理活性物質として働くことが知られていますか？', 'q2': 'ポリアミンはどのような組織や細胞に広く分布していますか？', 'q3': 'ポリアミンは何に対して強い親和力をもつことが知られていますか？', 'q4': 'ポリアミンとがんの関係についてはどのような研究が行われていますか？', 'q5': 'スペルミンはどのようなポリアミンですか？', 'q6': 'スペルミンの生化学的検出に関する研究はどのように進んでいますか？', 'q7': 'ポリアミンの研究はいつ始まりましたか？', 'q8': 'ポリアミンはどのように発見されましたか？'}\n",
      "{'q1': 'ポリアミンの検出に広く用いられている分析法は何ですか？', 'q2': '最近報告されたポリアミンの検知方法はありますか？', 'q3': '最近報告されたポリアミンの検知方法の感度はどの程度ですか？', 'q4': 'Martínezらはどのような方法を用いてポリアミンの検出に成功しましたか？', 'q5': 'AuNPsの合成における光還元法の利点は何ですか？', 'q6': 'Martínezらの方法は実尿の分析に適していますか？', 'q7': 'LiuらとLiangらはどのような検知方法を開発しましたか？', 'q8': '新しい検知方法の基盤となっている作用は何ですか？'}\n",
      "{'q1': '本研究では何を開発したのか？', 'q2': 'c-AuNPsの特性を利用して何を検知する方法を開発したのか？', 'q3': 'c-AuNPsの凝集を確認するために何を使用したのか？', 'q4': 'ポリアミン検知においてc-AuNPsの粒子サイズはどのような影響を持つのか？', 'q5': '実尿の分析を行った結果、何が検証されたのか？', 'q6': '本実験で使用したポリアミンはどこから購入したのか？', 'q7': '本実験で使用したc-AuNPsはどこから購入したのか？', 'q8': '本実験で使用したジアミン化合物およびアミノ酸はどこから購入したのか？'}\n",
      "{'q1': 'UV-visスペクトル測定に使用された装置は何ですか？', 'q2': '透過型電子顕微鏡(TEM)に使用された装置は何ですか？', 'q3': '脱イオン純水を得るために使用された方法は何ですか？', 'q4': 'pH測定に使用された装置は何ですか？', 'q5': 'ゼータ電位測定に使用された装置は何ですか？', 'q6': 'アミン化合物とc-AuNPsの反応評価に使用された溶液の構成は何ですか？', 'q7': 'c-AuNPsの粒径は何ですか？', 'q8': 'データ記録が停止するまでの時間はどれくらいですか？'}\n",
      "{'q1': 'クエン酸修飾金ナノ粒子を用いたポリアミンの高感度比色分析とは何ですか？', 'q2': 'UV-visペクトルの520 nmおよび700 nmの吸光度の比率を計算する目的は何ですか？', 'q3': 'c-AuNPsの凝集評価はどのように行われましたか？', 'q4': 'スペルミン水溶液のpH変化を調べる目的は何ですか？', 'q5': 'TEMによる観察は何のために行われましたか？', 'q6': '粒子サイズ効果を調べるために何種類のc-AuNPs溶液が混合されましたか？', 'q7': '尿中ポリアミン検知のために何種類の尿サンプルが使用されましたか？', 'q8': '尿中スペルミンの検知可能性を調べるためにどのような実験が行われましたか？'}\n",
      "{'q1': 'c-AuNPs溶液にスペルミン水溶液を混合した後のUV-visスペクトルの結果に何が示されているか？', 'q2': 'スペルミンの濃度増加に伴い、何が起こったか？', 'q3': 'スペルミンの濃度が3µMの場合、どのような結果が観察されたか？', 'q4': 'なぜスペルミンの添加によってc-AuNPsの吸光度が減少したのか？', 'q5': 'スペルミンとc-AuNPsの混合液で観察された520 nmのSPR吸収バンドのシフトは何を意味するか？', 'q6': 'ポリアミンの代表的な例は何か？', 'q7': '本研究で検知対象とされたポリアミンは何か？', 'q8': 'ポリアミンの検知にc-AuNPsはどのように利用されたか？'}\n",
      "{'q1': '何が観察されたか?', 'q2': 'どの波長付近で新しい光吸収バンドが観測されたか?', 'q3': 'スペルミンとc-AuNPsを混合することで何が起こったか?', 'q4': '混合した後の520 nmと700 nmの吸光度比はどうなったか?', 'q5': 'スペルミン水溶液を混合することで何秒後に700 nmの吸光度が最大になったか?', 'q6': '3µ M以上のスペルミン水溶液の混合によって何が起こったか?', 'q7': 'c-AuNPsの凝集による沈殿は見られたか?', 'q8': 'Figure 2(b)では何が示されているか?'}\n",
      "{'q1': 'Figure 2で示されている実験は何のために行われましたか？', 'q2': 'c-AuNPsの凝集状態の変化が肉眼でも確認できると述べられていますが、その変化は何によって引き起こされるのでしょうか？', 'q3': '実験で使用されたc-AuNPsの特性は何ですか？', 'q4': '実験で使用されたスペルミン水溶液のpHはどの範囲になりますか？', 'q5': 'スペルミンのアミノ基のプロトン化の状態はどうなっていますか？', 'q6': 'c-AuNPsをスペルミン水溶液に混合した場合、溶液のpHはどのように変化しますか？', 'q7': 'スペルミンのアミノ基のpKa値は何ですか？', 'q8': 'スペルミン水溶液におけるc-AuNPsの挙動はどのように考えられますか？'}\n",
      "{'q1': '一級または二級アミノ基のプロトン化によって形成されたヒドロキシ基イオンがc-AuNPsのカルボキシ基との酸塩基反応によって中和される理由は何ですか？', 'q2': 'c-AuNPsとスペルミンの酸塩基相互作用による静電的結合を裏付ける根拠は何ですか？', 'q3': '混合溶液中のc-AuNPsとスペルミンの酸塩基相互作用による凝集が起こる理由は何ですか？', 'q4': '新たな光吸収バンドが700 nm付近に現れる理由は何ですか？', 'q5': 'スペルミンとスペルミジンの比色分析の結果における520 nmと700 nmの吸光度比はどのように計算されましたか？', 'q6': 'c-AuNPsの凝集による700 nmの光吸収バンドが観測できる濃度はどのような値ですか？', 'q7': 'スペルミジン、ジアミンブタン、ジアミノへキサン、ジアミノドデカンを用いた比色分析の結果、それぞれの濃度は何でしたか？', 'q8': '各アミン化合物の検量線の傾きはどのような値ですか？'}\n",
      "{'q1': 'スペルミジンの変色までの時間は約何秒か？', 'q2': 'スペルミジンの変色までの時間が最も長いジアミン化合物は何か？', 'q3': 'スペルミンまたはスペルミジンに対して高い検知感度と選択性を示すものは何か？', 'q4': 'スペルミンのpKaの値は何か？', 'q5': 'ジアミンブタン、ジアミノへキサン、ジアミノドデカンのpKaの値は何か？', 'q6': 'ジアミン化合物の正に帯電している状態を保つことができる化合物は何か？', 'q7': 'c-AuNPsはジアミン化合物に対して選択性があるか？', 'q8': '尿中スペルミンおよびスペルミジンの検知範囲はそれぞれ何から何までと言われているか？'}\n",
      "{'q1': 'スペルミンとは何ですか？', 'q2': 'スペルミジンとは何ですか？', 'q3': '尿中ポリアミンとは何ですか？', 'q4': 'スペルミンおよびスペルミジンの検知限界濃度はどれくらいですか？', 'q5': '700 nmの光吸収バンドは何を示していますか？', 'q6': 'c-AuNPsの溶液量はどれくらいに固定されていますか？', 'q7': 'スペルミン水溶液との混合比を変化させたときにどのような結果が得られましたか？', 'q8': '90µLのスペルミン水溶液と150 µLのc-AuNPs溶液を混合した際に何が起こりましたか？'}\n",
      "{'q1': 'What is the purpose of the study described in Figure 4?', 'q2': 'What is the relationship shown in the calibration curves?', 'q3': 'What is the significance of the inset in Figure 4?', 'q4': 'How can the number of spermine molecules on a single c-AuNP surface be quantitatively calculated?', 'q5': 'What is nAu in the calculation formula?', 'q6': 'What is LAu in the calculation formula?', 'q7': 'What does Cs represent in the calculation formula?', 'q8': 'What does NA represent in the calculation formula?'}\n",
      "{'q1': '式 (4)に何を代入すると2.76×10^9個のスペルミン分子が存在することがわかるか？', 'q2': 'c-AuNPsの粒子サイズは比色分析にどのような影響を与えるか？', 'q3': '本研究では、どのような粒径のc-AuNPsを使用して粒子サイズ効果を調べたか？', 'q4': 'Figure 6には何が示されているか？', 'q5': '凝集前の5 nmのc-AuNPsの場合、スペルミン溶液の添加によりどのような変化が見られるか？', 'q6': '凝集前の20 nmと5 nmの混合c-AuNPsでは、どのような変化が確認されるか？', 'q7': '20 nmのc-AuNPsと5 nmのc-AuNPsのそれぞれがSPR吸収バンドを持っている波長領域はどこか？', 'q8': '20 nmのc-AuNPsと5 nmのc-AuNPsのSPR吸収バンドの変化についてどのような違いがあるか？'}\n",
      "{'q1': 'SPR吸収バンドの長波長側へのシフトは、何によって示唆されていますか？', 'q2': 'c-AuNPsの凝集によるSPRカップリングは、どのような結果をもたらしますか？', 'q3': 'スペルミンへの応答が向上した理由は何ですか？', 'q4': '一般的にAuNPsの共鳴振動、すなわちSPRは何によって引き起こされますか？', 'q5': '図5の(a)では、何が5 µMの水にスペルミンを添加することで変化したのでしょうか？', 'q6': '図5の(b)では、何が520から700 nmの範囲で変化したのでしょうか？', 'q7': '図6では、どのような結果が示されていますか？', 'q8': 'AuNPsの粒径が大きくなると、どうなりますか？'}\n",
      "{'q1': 'AuNPsの粒径が大きくなると、何が起こりますか？', 'q2': 'AuNPsの凝集状態によって何が起こりますか？', 'q3': '5nmのc-AuNPsと20nmのc-AuNPsのポリアミンへの応答性の違いはなぜですか？', 'q4': 'Oishiらによる報告では、なぜ10nmより大きい粒子サイズのAuNPsが有利なのですか？', 'q5': 'AuNPsの粒子サイズの増加がどのような効果をもたらすのですか？', 'q6': '本実験で観察された最大吸収波長の結果は何を意味しますか？', 'q7': 'ポリアミンの柔軟な分子構造や分子サイズがAuNPsの凝集にどのように影響するのですか？', 'q8': 'AuNPsの凝集に何が有利に働くのですか？'}\n",
      "{'q1': 'c-AuNPsのサイズは何に重要なパラメーターですか？', 'q2': 'Russelらの研究では、どのようなポリアミンの検出が行われましたか？', 'q3': '健常者の尿中にはポリアミン以外に何が含まれていることがわかりましたか？', 'q4': 'アミノ酸はc-AuNPsの凝集を引き起こしましたか？', 'q5': '希釈尿とc-AuNPsを混合した時の結果はどうでしたか？', 'q6': '原尿または10倍希釈尿とc-AuNPsを混合した時の結果はどうでしたか？', 'q7': 'イオン交換水による原尿の希釈率によってどうなることがわかりましたか？', 'q8': '100倍希釈尿でも若干のc-AuNPsの凝集が見られた原因はなんですか？'}\n",
      "{'q1': '何が確認できたか？', 'q2': 'どのような比色分析が行われたか？', 'q3': 'どのような結果が得られたか？', 'q4': '何が検知限界であることがわかったか？', 'q5': '健常者の原尿とc-AuNPsを混合した場合、どのような結果が得られたか？', 'q6': '前立腺患者の尿中スペルミンの濃度を調整した場合、どのような結果が得られたか？', 'q7': 'スペルミンの添加前のSPR吸収バンドにはどのような違いが見られたか？', 'q8': 'スペルミンの添加によって何が起こったと考えられるか？'}\n",
      "{'q1': '尿中のポリアミンの濃度には何が関与しているのか？', 'q2': '前立腺がん患者の尿には健常者に比べてなぜポリアミンが多く含まれるのか？', 'q3': '尿中ポリアミンの検査方法はどのような高感度比色分析を利用しているのか？', 'q4': '尿中のポリアミンの量を定量的に評価するためには何が必要なのか？', 'q5': '尿中ポリアミンの検査方法はどのような手法の予備的な検査であるのか？', 'q6': 'どのような実験結果が Figure 10 のUV -visスペクトルから得られたのか？', 'q7': '500µMの高濃度のアミノ酸を尿に混合した場合、どのような現象が観察されるのか？', 'q8': 'c-AuNPsのSPR吸収バンドはどこで確認できたのか？'}\n",
      "{'q1': '尿中に混在するアミノ酸によるc-AuNPsの凝集可能性はあるか？', 'q2': 'アミノ酸がポリアミンの検知に影響するか？', 'q3': 'クエン酸で保護されたアニオン性c-AuNPsの凝集に基づいたポリアミンの比色分析は何を試みたか？', 'q4': 'スペルミンとc-AuNPsの凝集によってどのような現象が観察されたか？', 'q5': 'c-AuNPs溶液の変色は何から何色に変化したか？', 'q6': 'どのような結果から粒子サイズの大きいc-AuNPsがポリアミンに対してより高い感度を示すことがわかったか？', 'q7': 'カチオン性ペプチドに対するAuNPsの結果と比較して何がわかったか？', 'q8': 'c-AuNPsの凝集に強く関係する要因は何か？'}\n",
      "{'q1': 'Martinezらのアプローチと比較して，本研究の利点は何ですか？', 'q2': 'c-AuNPsの利点は何ですか？', 'q3': '本研究では何を検知することができましたか？', 'q4': '実験条件の最適化や検知感度の向上に向けて，今後の研究の方向性はありますか？', 'q5': 'c-AuNPsの粒子サイズはどれくらいですか？', 'q6': '本研究で使用したサンプルは何ですか？', 'q7': 'サンプルの種類によってc-AuNPsのUV-visスペクトルにどのような違いがありましたか？', 'q8': '2.5 µM SPMを添加した際のc-AuNPsのUV-visスペクトルにどのような違いがありましたか？'}\n",
      "{'q1': '文献1では、前立腺がんの検査の具体的な方法論に関する研究は行われていますか？', 'q2': '文献2では、前立腺がんの検査の具体的な方法論に関する研究は行われていますか？', 'q3': '文献3では、前立腺がんの検査の具体的な方法論に関する研究は行われていますか？', 'q4': '文献4では、前立腺がんの検査の具体的な方法論に関する研究は行われていますか？', 'q5': '文献5では、前立腺がんの検査の具体的な方法論に関する研究は行われていますか？', 'q6': '王・副田・李.758高分子論文集、Vol.72、No.12（2015）には、前立腺がんの検査の具体的な方法論に関する研究が含まれていますか？', 'q7': '王・副田・李.758高分子論文集、Vol.72、No.12（2015）の文献1で紹介されている研究は前立腺がんの検査の具体的な方法論に関連していますか？', 'q8': '王・副田・李.758高分子論文集、Vol.72、No.12（2015）の文献5で紹介されている研究は前立腺がんの検査の具体的な方法論に関連していますか？'}\n",
      "{'q1': 'Who are the authors of the article in Anal Chem?', 'q2': 'What is the title of the article published in Angew Chem Int Ed in 2009?', 'q3': 'In which journal was the article published in ACS Appl Mater Interfaces?', 'q4': 'What is the page number of the article published in J Am Chem Soc in 2009?', 'q5': 'Who is the first author of the article published in ACS Appl Mater Interfaces in 2010?', 'q6': 'Who are the authors of the article published in Anal Chem in 2010?', 'q7': 'What is the title of the article published in Angew Chem Int Ed?', 'q8': 'What is the page number of the article published in ACS Appl Mater Interfaces in 2010?'}\n",
      "{'q1': 'What is the significance of the paper by C. Stevenson and J. Hillier in Discuss Faraday Soc. (1951)?', 'q2': 'What is the main finding of the paper by G. Frens in Nat. Phys. Sci. (1973)?', 'q3': 'What is the research topic of the paper by M.R. Ivanov, H.R. Bednar, and A.J. Haes in ACS Nano (2009)?', 'q4': 'What is the main conclusion of the paper by K. Samejima in Yakugaku Zasshi (2006)?', 'q5': 'What is the significance of the paper by D.H. Russell, C.C. Levy, S.C. Schimpff, and I.A. Hawk in Cancer Res. (1971)?', 'q6': 'What is the main finding of the paper by D.H. Russell in Nat. New Biol. (1971)?', 'q7': 'What is the main research objective of the paper by M.R. Häkkinen, T.A. Keinänen, J. Vepsäläinen, A.R. Khomutov, L. Alhonen, J. Jänne, and S. Auriola in J. Pharm. Biomed. Anal. (2007)?', 'q8': 'What is the focus of the paper by C. Magnes and A.?'}\n"
     ]
    }
   ],
   "source": [
    "\n",
    "import shutil\n",
    "count=0\n",
    "for path in path_list:\n",
    "    with open(path, 'r') as f:\n",
    "        text = f.read()\n",
    "    chunk_list = split_text(text, bot1.searcher.chunk_size_limit)\n",
    "\n",
    "    # remove stopwords\n",
    "    chunk_list = [remove_stopwords(chunk) for chunk in chunk_list]\n",
    "\n",
    "\n",
    "    for text in chunk_list:\n",
    "        questions=gpt_function_call(text)\n",
    "\n",
    "        out_path=\"UserData/meta/qa/qa.txt\"\n",
    "        for q in questions:\n",
    "            with open(out_path, 'a') as f:\n",
    "                f.write(path)\n",
    "                f.write(\"|||||\")\n",
    "                f.write(questions[q])\n",
    "                f.write(\"|||||\")\n",
    "                f.write(text)\n",
    "                f.write(\"\\n\")\n",
    "        print(questions)\n",
    "    #コピーを作成してバックアップ\n",
    "    shutil.copyfile(out_path, f\"UserData/meta/qa/qa_backup{count}.txt\")\n",
    "    count+=1"
   ]
  },
  {
   "cell_type": "code",
   "execution_count": 177,
   "metadata": {},
   "outputs": [
    {
     "data": {
      "text/plain": [
       "'UserData/meta/qa/qa_backup.txt'"
      ]
     },
     "execution_count": 177,
     "metadata": {},
     "output_type": "execute_result"
    }
   ],
   "source": []
  },
  {
   "cell_type": "code",
   "execution_count": null,
   "metadata": {},
   "outputs": [],
   "source": []
  }
 ],
 "metadata": {
  "kernelspec": {
   "display_name": "lora",
   "language": "python",
   "name": "python3"
  },
  "language_info": {
   "codemirror_mode": {
    "name": "ipython",
    "version": 3
   },
   "file_extension": ".py",
   "mimetype": "text/x-python",
   "name": "python",
   "nbconvert_exporter": "python",
   "pygments_lexer": "ipython3",
   "version": "3.10.10"
  },
  "orig_nbformat": 4
 },
 "nbformat": 4,
 "nbformat_minor": 2
}
