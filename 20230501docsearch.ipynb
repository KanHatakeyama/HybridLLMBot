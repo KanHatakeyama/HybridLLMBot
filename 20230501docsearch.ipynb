{
 "cells": [
  {
   "cell_type": "code",
   "execution_count": 1,
   "metadata": {},
   "outputs": [],
   "source": [
    "#モジュールを自動リロード\n",
    "%load_ext autoreload\n",
    "%autoreload 2\n",
    "\n"
   ]
  },
  {
   "cell_type": "code",
   "execution_count": 15,
   "metadata": {},
   "outputs": [],
   "source": [
    "import json\n",
    "with open('settings/settings.json') as f:\n",
    "    settings = json.load(f)\n"
   ]
  },
  {
   "cell_type": "code",
   "execution_count": 18,
   "metadata": {},
   "outputs": [
    {
     "name": "stdout",
     "output_type": "stream",
     "text": [
      "split: ginga_tets.txt\n",
      "split: s41598-023-32506-7.pdf\n",
      "split: sikkaku.pdf\n",
      "split: wagahai.txt\n",
      "split: 卒論要旨_水嵜_MR6(最終版).pdf\n"
     ]
    }
   ],
   "source": [
    "from LLMSearch.DocSplitter import split_documents\n",
    "\n",
    "initiate=True\n",
    "split_documents(initiate=initiate)"
   ]
  },
  {
   "cell_type": "code",
   "execution_count": 29,
   "metadata": {},
   "outputs": [
    {
     "name": "stderr",
     "output_type": "stream",
     "text": [
      "100%|██████████| 16/16 [01:20<00:00,  5.03s/it]\n"
     ]
    }
   ],
   "source": [
    "#GPT\n",
    "\n",
    "from LLMSearch.TextSearcher import TextSearcher\n",
    "from LLMSearch.ServerEmbedding import ServerEmbedding\n",
    "from tqdm import tqdm\n",
    "import glob\n",
    "\n",
    "embedder=ServerEmbedding()\n",
    "\n",
    "chunk_path_list=glob.glob(settings[\"data_path\"] + \"/split/*.txt\")\n",
    "searcher=TextSearcher(embedder,settings[\"data_path\"])\n",
    "\n",
    "if not initiate:\n",
    "    searcher.load_model()\n",
    "\n",
    "for path in tqdm(chunk_path_list):\n",
    "    searcher.calc_text_file(path)\n",
    "\n",
    "\n",
    "searcher.save_model()"
   ]
  },
  {
   "cell_type": "code",
   "execution_count": 30,
   "metadata": {},
   "outputs": [
    {
     "data": {
      "text/plain": [
       "[{'path': 'UserData/split/sikkaku.pdf_0.txt',\n",
       "  'text': '私は、その男の写真を三葉、見たことがある..一葉は、 その男の、幼年時代、とでも言うべきであろうか、十歳前後かと推定される頃の写真で.あって、その子供が大勢の女のひとに取りかこまれ、（それは、その子供の姉たち、妹たち、それ.から、従姉妹たちかと想像される）庭園の池のほとりに、荒い縞の袴をはいて立ち、首を三十度ほ.ど左に傾け、醜く笑っている写真である.醜く.けれども、鈍い人たち（つまり、美醜などに関.',\n",
       "  'sim': 1492.0},\n",
       " {'path': 'UserData/split/wagahai.txt_0.txt',\n",
       "  'text': '吾輩は猫である.名前はまだ無い..どこで生れたかとんと見当がつかぬ.何でも薄暗いじめじめした所でニャーニャー泣いていた事だけは記憶している.吾輩はここで始めて人間というものを見た.しかもあとで聞くとそれは書生という人間中で一番獰悪な種族であったそうだ.この書生というのは時々我々を捕えて煮て食うという話である.しかしその当時は何という考もなかったから別段恐しいとも思わなかった.ただ彼の掌に載せられてスーと持ち上げられた時何だかフワフワした感じがあったばかりである.',\n",
       "  'sim': 1482.0},\n",
       " {'path': 'UserData/split/ginga_tets.txt_0.txt',\n",
       "  'text': '「ではみなさんは、そういうふうに川だと云われたり、乳の流れたあとだと云われたりしていたこのぼんやりと白いものがほんとうは何かご承知ですか.」先生は、黒板に吊した大きな黒い星座の図の、上から下へ白くけぶった銀河帯のようなところを指しながら、みんなに問をかけました..カムパネルラが手をあげました.それから四五人手をあげました.ジョバンニも手をあげようとして、急いでそのままやめました.たしかにあれがみんな星だと、いつか雑誌で読んだのでしたが、このごろはジョバンニはまるで毎日教室でもねむく、本を読むひまも読む本もないので、なんだかどんなこともよくわからないという気持ちがするのでした.',\n",
       "  'sim': 1418.0}]"
      ]
     },
     "execution_count": 30,
     "metadata": {},
     "output_type": "execute_result"
    }
   ],
   "source": [
    "from LLMSearch.TextSplitter import pad_text\n",
    "txt=\"吾輩は猫である \"\n",
    "k=3\n",
    "searcher.search(pad_text(txt,settings[\"chunk_size_limit\"]),k)"
   ]
  },
  {
   "cell_type": "code",
   "execution_count": 31,
   "metadata": {},
   "outputs": [
    {
     "data": {
      "text/plain": [
       "[{'path': 'UserData/split/sikkaku.pdf_0.txt',\n",
       "  'text': '私は、その男の写真を三葉、見たことがある..一葉は、 その男の、幼年時代、とでも言うべきであろうか、十歳前後かと推定される頃の写真で.あって、その子供が大勢の女のひとに取りかこまれ、（それは、その子供の姉たち、妹たち、それ.から、従姉妹たちかと想像される）庭園の池のほとりに、荒い縞の袴をはいて立ち、首を三十度ほ.ど左に傾け、醜く笑っている写真である.醜く.けれども、鈍い人たち（つまり、美醜などに関.',\n",
       "  'sim': 1316.0},\n",
       " {'path': 'UserData/split/wagahai.txt_0.txt',\n",
       "  'text': '吾輩は猫である.名前はまだ無い..どこで生れたかとんと見当がつかぬ.何でも薄暗いじめじめした所でニャーニャー泣いていた事だけは記憶している.吾輩はここで始めて人間というものを見た.しかもあとで聞くとそれは書生という人間中で一番獰悪な種族であったそうだ.この書生というのは時々我々を捕えて煮て食うという話である.しかしその当時は何という考もなかったから別段恐しいとも思わなかった.ただ彼の掌に載せられてスーと持ち上げられた時何だかフワフワした感じがあったばかりである.',\n",
       "  'sim': 1286.0},\n",
       " {'path': 'UserData/split/ginga_tets.txt_0.txt',\n",
       "  'text': '「ではみなさんは、そういうふうに川だと云われたり、乳の流れたあとだと云われたりしていたこのぼんやりと白いものがほんとうは何かご承知ですか.」先生は、黒板に吊した大きな黒い星座の図の、上から下へ白くけぶった銀河帯のようなところを指しながら、みんなに問をかけました..カムパネルラが手をあげました.それから四五人手をあげました.ジョバンニも手をあげようとして、急いでそのままやめました.たしかにあれがみんな星だと、いつか雑誌で読んだのでしたが、このごろはジョバンニはまるで毎日教室でもねむく、本を読むひまも読む本もないので、なんだかどんなこともよくわからないという気持ちがするのでした.',\n",
       "  'sim': 1230.0}]"
      ]
     },
     "execution_count": 31,
     "metadata": {},
     "output_type": "execute_result"
    }
   ],
   "source": [
    "txt=\"猫の名前は?\"\n",
    "context_list=searcher.search(pad_text(txt,settings[\"chunk_size_limit\"]),k)\n",
    "context_list"
   ]
  },
  {
   "cell_type": "code",
   "execution_count": 32,
   "metadata": {},
   "outputs": [],
   "source": [
    "import openai\n",
    "from LLMSearch.GPTQuery import GPTQuery\n",
    "from settings.key import API_KEY\n",
    "openai.api_key = API_KEY\n",
    "gpt=GPTQuery(API_KEY)\n",
    "\n"
   ]
  },
  {
   "cell_type": "code",
   "execution_count": 47,
   "metadata": {},
   "outputs": [
    {
     "data": {
      "text/plain": [
       "{'answer': '「吾輩」です。',\n",
       " 'context': [{'path': 'UserData/split/sikkaku.pdf_0.txt',\n",
       "   'text': '私は、その男の写真を三葉、見たことがある..一葉は、 その男の、幼年時代、とでも言うべきであろうか、十歳前後かと推定される頃の写真で.あって、その子供が大勢の女のひとに取りかこまれ、（それは、その子供の姉たち、妹たち、それ.から、従姉妹たちかと想像される）庭園の池のほとりに、荒い縞の袴をはいて立ち、首を三十度ほ.ど左に傾け、醜く笑っている写真である.醜く.けれども、鈍い人たち（つまり、美醜などに関.',\n",
       "   'sim': 1316.0},\n",
       "  {'path': 'UserData/split/wagahai.txt_0.txt',\n",
       "   'text': '吾輩は猫である.名前はまだ無い..どこで生れたかとんと見当がつかぬ.何でも薄暗いじめじめした所でニャーニャー泣いていた事だけは記憶している.吾輩はここで始めて人間というものを見た.しかもあとで聞くとそれは書生という人間中で一番獰悪な種族であったそうだ.この書生というのは時々我々を捕えて煮て食うという話である.しかしその当時は何という考もなかったから別段恐しいとも思わなかった.ただ彼の掌に載せられてスーと持ち上げられた時何だかフワフワした感じがあったばかりである.',\n",
       "   'sim': 1286.0},\n",
       "  {'path': 'UserData/split/ginga_tets.txt_0.txt',\n",
       "   'text': '「ではみなさんは、そういうふうに川だと云われたり、乳の流れたあとだと云われたりしていたこのぼんやりと白いものがほんとうは何かご承知ですか.」先生は、黒板に吊した大きな黒い星座の図の、上から下へ白くけぶった銀河帯のようなところを指しながら、みんなに問をかけました..カムパネルラが手をあげました.それから四五人手をあげました.ジョバンニも手をあげようとして、急いでそのままやめました.たしかにあれがみんな星だと、いつか雑誌で読んだのでしたが、このごろはジョバンニはまるで毎日教室でもねむく、本を読むひまも読む本もないので、なんだかどんなこともよくわからないという気持ちがするのでした.',\n",
       "   'sim': 1230.0}]}"
      ]
     },
     "execution_count": 47,
     "metadata": {},
     "output_type": "execute_result"
    }
   ],
   "source": [
    "question=\"猫の名前は?\"\n",
    "context_list=searcher.search(pad_text(question,settings[\"chunk_size_limit\"]),k)\n",
    "gpt.reference_ask(question,context_list,k)"
   ]
  },
  {
   "cell_type": "code",
   "execution_count": 46,
   "metadata": {},
   "outputs": [
    {
     "data": {
      "text/plain": [
       "{'answer': 'この文章には、鈍い人たちという表現がありますが、鈍くない人たちであれば、その子供の笑顔を見た上で、「可愛らしさ」みたいなものがあることは認めつつも、「なんて、いやな子供だ」と思うかもしれません。ですので、誰が「可愛い坊ちゃんですね」と呼んでいるのかは明確には書かれていません。',\n",
       " 'context': [{'path': 'UserData/split/ginga_tets.txt_0.txt',\n",
       "   'text': '「ではみなさんは、そういうふうに川だと云われたり、乳の流れたあとだと云われたりしていたこのぼんやりと白いものがほんとうは何かご承知ですか.」先生は、黒板に吊した大きな黒い星座の図の、上から下へ白くけぶった銀河帯のようなところを指しながら、みんなに問をかけました..カムパネルラが手をあげました.それから四五人手をあげました.ジョバンニも手をあげようとして、急いでそのままやめました.たしかにあれがみんな星だと、いつか雑誌で読んだのでしたが、このごろはジョバンニはまるで毎日教室でもねむく、本を読むひまも読む本もないので、なんだかどんなこともよくわからないという気持ちがするのでした.',\n",
       "   'sim': 1832.0},\n",
       "  {'path': 'UserData/split/sikkaku.pdf_0.txt',\n",
       "   'text': '私は、その男の写真を三葉、見たことがある..一葉は、 その男の、幼年時代、とでも言うべきであろうか、十歳前後かと推定される頃の写真で.あって、その子供が大勢の女のひとに取りかこまれ、（それは、その子供の姉たち、妹たち、それ.から、従姉妹たちかと想像される）庭園の池のほとりに、荒い縞の袴をはいて立ち、首を三十度ほ.ど左に傾け、醜く笑っている写真である.醜く.けれども、鈍い人たち（つまり、美醜などに関.',\n",
       "   'sim': 1794.0},\n",
       "  {'path': 'UserData/split/sikkaku.pdf_1.txt',\n",
       "   'text': '心を持たぬ人たち）は、面白くも何とも無いような顔をして、.「可愛い坊ちゃんですね」.といい加減なお世辞を言っても、まんざら空お世辞に聞えないくらいの、謂わば通俗の「可愛 ら.しさ」みたいな影もその子供の笑顔に無いわけではないのだが、しかし、いささかでも、美醜に就.いての訓練を経て来たひとなら、ひとめ見てすぐ、.「なんて、いやな子供だ」.と頗る不快そうに呟き、毛虫でも払いのける時のような手つきで、その写真をほうり投げるかも.',\n",
       "   'sim': 1776.0}]}"
      ]
     },
     "execution_count": 46,
     "metadata": {},
     "output_type": "execute_result"
    }
   ],
   "source": [
    "question=\"可愛い坊ちゃんですねと呼ぶのは誰?\"\n",
    "context_list=searcher.search(pad_text(question,settings[\"chunk_size_limit\"]),k)\n",
    "gpt.reference_ask(question,context_list,k)"
   ]
  },
  {
   "cell_type": "code",
   "execution_count": null,
   "metadata": {},
   "outputs": [],
   "source": []
  }
 ],
 "metadata": {
  "kernelspec": {
   "display_name": "lora",
   "language": "python",
   "name": "python3"
  },
  "language_info": {
   "codemirror_mode": {
    "name": "ipython",
    "version": 3
   },
   "file_extension": ".py",
   "mimetype": "text/x-python",
   "name": "python",
   "nbconvert_exporter": "python",
   "pygments_lexer": "ipython3",
   "version": "3.10.10"
  },
  "orig_nbformat": 4
 },
 "nbformat": 4,
 "nbformat_minor": 2
}
