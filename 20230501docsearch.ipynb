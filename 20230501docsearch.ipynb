{
 "cells": [
  {
   "cell_type": "code",
   "execution_count": 1,
   "metadata": {},
   "outputs": [],
   "source": [
    "#モジュールを自動リロード\n",
    "%load_ext autoreload\n",
    "%autoreload 2"
   ]
  },
  {
   "cell_type": "code",
   "execution_count": 18,
   "metadata": {},
   "outputs": [],
   "source": [
    "from LLMSearch.AnswerBot import AnswerBot\n",
    "from LLMSearch.GPTQuery import GPTQuery\n",
    "from settings.key import GPT_API_KEY,DEEPL_API_KEY\n",
    "bot=AnswerBot(query_module=GPTQuery(GPT_API_KEY),DEEPL_API_KEY=DEEPL_API_KEY)"
   ]
  },
  {
   "cell_type": "code",
   "execution_count": 19,
   "metadata": {},
   "outputs": [],
   "source": [
    "bot.load_model()"
   ]
  },
  {
   "cell_type": "code",
   "execution_count": 20,
   "metadata": {},
   "outputs": [
    {
     "name": "stdout",
     "output_type": "stream",
     "text": [
      "split: cat.txt\n",
      "split: test1.txt\n"
     ]
    },
    {
     "name": "stderr",
     "output_type": "stream",
     "text": [
      "100%|██████████| 2/2 [00:00<?, ?it/s]\n"
     ]
    }
   ],
   "source": [
    "bot.index_documents(initiate=False)"
   ]
  },
  {
   "cell_type": "code",
   "execution_count": 21,
   "metadata": {},
   "outputs": [
    {
     "data": {
      "text/plain": [
       "[{'path': 'UserData/split\\\\cat.txt_0_235216256a.txt',\n",
       "  'text': '吾輩は猫である.名前はまだ無い.どこで生れたかとんと見当がつかぬ.何でも薄暗いじめじめした所でニャーニャー泣いていた事だけは記憶している.吾輩はここで始めて人間というものを見た.しかもあとで聞くとそれは書生という人間中で一番獰悪な種族であったそうだ..',\n",
       "  'sim': 0.890727},\n",
       " {'path': 'UserData/split\\\\test1.txt_0_b6dcc62825.txt',\n",
       "  'text': \"BERNARDO.Who's there..FRANCISCO.Nay, answer me.stand, and unfold yourself..BERNARDO.Long live the king.FRANCISCO.Bernardo..BERNARDO.He..FRANCISCO.You come most carefully upon your hour..\",\n",
       "  'sim': 0.7350687},\n",
       " {'path': 'UserData/split\\\\test1.txt_0_b6dcc62825.txt',\n",
       "  'text': \"BERNARDO.Who's there..FRANCISCO.Nay, answer me.stand, and unfold yourself..BERNARDO.Long live the king.FRANCISCO.Bernardo..BERNARDO.He..FRANCISCO.You come most carefully upon your hour..\",\n",
       "  'sim': -3.4028235e+38}]"
      ]
     },
     "execution_count": 21,
     "metadata": {},
     "output_type": "execute_result"
    }
   ],
   "source": [
    "txt=\"吾輩は猫である \"\n",
    "bot.search_related_documents(txt,k=3,pad=False)"
   ]
  },
  {
   "cell_type": "code",
   "execution_count": 16,
   "metadata": {},
   "outputs": [
    {
     "data": {
      "text/plain": [
       "\"この文章には猫の名前は記述されていません。\\n\\nReference 1 \\n吾輩は猫である.名前はまだ無い.どこで生れたかとんと見当がつかぬ.何でも薄暗いじめじめした所でニャーニャー泣いていた事だけは記憶している.吾輩はここで始めて人間というものを見た.しかもあとで聞くとそれは書生という人間中で一番獰悪な種族であったそうだ.. \\nUserData/split\\\\cat.txt_0_235216256a.txt \\nSimilarity 0.8343217968940735\\n---\\nReference 2 \\nBERNARDO.Who's there..FRANCISCO.Nay, answer me.stand, and unfold yourself..BERNARDO.Long live the king.FRANCISCO.Bernardo..BERNARDO.He..FRANCISCO.You come most carefully upon your hour.. \\nUserData/split\\\\test1.txt_0_b6dcc62825.txt \\nSimilarity 0.7303541302680969\\n---\\nReference 3 \\nBERNARDO.Who's there..FRANCISCO.Nay, answer me.stand, and unfold yourself..BERNARDO.Long live the king.FRANCISCO.Bernardo..BERNARDO.He..FRANCISCO.You come most carefully upon your hour.. \\nUserData/split\\\\test1.txt_0_b6dcc62825.txt \\nSimilarity -3.4028234663852886e+38\\n---\\n\""
      ]
     },
     "execution_count": 16,
     "metadata": {},
     "output_type": "execute_result"
    }
   ],
   "source": [
    "question=\"猫の名前は?\"\n",
    "ans=bot.ask(question,k=3,pad=False)\n",
    "ans"
   ]
  },
  {
   "cell_type": "code",
   "execution_count": 17,
   "metadata": {},
   "outputs": [
    {
     "data": {
      "text/plain": [
       "'The name of the cat is not mentioned in the opening line of the book \"I am a Cat\" by Natsume Soseki. The cat is simply referred to as \"wagahai,\" which is a first person pronoun used by the cat that roughly translates to \"I\" or \"myself\" in English.\\n\\nReference 1 \\n吾輩は猫である.名前はまだ無い.どこで生れたかとんと見当がつかぬ.何でも薄暗いじめじめした所でニャーニャー泣いていた事だけは記憶している.吾輩はここで始めて人間というものを見た.しかもあとで聞くとそれは書生という人間中で一番獰悪な種族であったそうだ.. \\nUserData/split\\\\cat.txt_0_235216256a.txt \\nSimilarity 0.8144843578338623\\n---\\n'"
      ]
     },
     "execution_count": 17,
     "metadata": {},
     "output_type": "execute_result"
    }
   ],
   "source": [
    "question=\"What is the name of the cat 'wagahai'?\"\n",
    "ans=bot.ask(question,k=1,pad=True)\n",
    "ans"
   ]
  },
  {
   "cell_type": "code",
   "execution_count": 32,
   "metadata": {},
   "outputs": [
    {
     "name": "stdout",
     "output_type": "stream",
     "text": [
      "回答: ベルナルドは、ウィリアム・シェイクスピアの戯曲「ハムレット」の中で、「そこにいるのは誰だ」という問いかけをしました。\n",
      "Answer: Bernardo asked the question, \"Who's there?\" in the play Hamlet by William Shakespeare.\n",
      "\n",
      "Reference 1 \n",
      "BERNARDO.Who's there..FRANCISCO.Nay, answer me.stand, and unfold yourself..BERNARDO.Long live the king.FRANCISCO.Bernardo..BERNARDO.He..FRANCISCO.You come most carefully upon your hour.. \n",
      "UserData/split\\test1.txt_0_b6dcc62825.txt \n",
      "Similarity 0.8032782673835754\n",
      "---\n",
      "\n"
     ]
    }
   ],
   "source": [
    "question=\"そこに居るのは誰だと質問したのは誰?\"\n",
    "ans=bot.ask(question,k=1,pad=True,Ja_to_En=True)\n",
    "print(ans)"
   ]
  },
  {
   "cell_type": "code",
   "execution_count": 33,
   "metadata": {},
   "outputs": [
    {
     "name": "stdout",
     "output_type": "stream",
     "text": [
      "文中には「そこに居るのは誰だ」という質問は出てきません。\n",
      "\n",
      "Reference 1 \n",
      "吾輩は猫である.名前はまだ無い.どこで生れたかとんと見当がつかぬ.何でも薄暗いじめじめした所でニャーニャー泣いていた事だけは記憶している.吾輩はここで始めて人間というものを見た.しかもあとで聞くとそれは書生という人間中で一番獰悪な種族であったそうだ.. \n",
      "UserData/split\\cat.txt_0_235216256a.txt \n",
      "Similarity 0.8242941498756409\n",
      "---\n",
      "\n"
     ]
    }
   ],
   "source": [
    "question=\"そこに居るのは誰だと質問したのは誰?\"\n",
    "ans=bot.ask(question,k=1,pad=True,Ja_to_En=False)\n",
    "print(ans)"
   ]
  },
  {
   "cell_type": "code",
   "execution_count": 24,
   "metadata": {},
   "outputs": [
    {
     "name": "stdout",
     "output_type": "stream",
     "text": [
      "Who asked the question, \"Who's there?\n"
     ]
    },
    {
     "data": {
      "text/plain": [
       "[{'path': 'UserData/split\\\\test1.txt_0_b6dcc62825.txt',\n",
       "  'text': \"BERNARDO.Who's there..FRANCISCO.Nay, answer me.stand, and unfold yourself..BERNARDO.Long live the king.FRANCISCO.Bernardo..BERNARDO.He..FRANCISCO.You come most carefully upon your hour..\",\n",
       "  'sim': 0.7907503},\n",
       " {'path': 'UserData/split\\\\cat.txt_0_235216256a.txt',\n",
       "  'text': '吾輩は猫である.名前はまだ無い.どこで生れたかとんと見当がつかぬ.何でも薄暗いじめじめした所でニャーニャー泣いていた事だけは記憶している.吾輩はここで始めて人間というものを見た.しかもあとで聞くとそれは書生という人間中で一番獰悪な種族であったそうだ..',\n",
       "  'sim': 0.7434486},\n",
       " {'path': 'UserData/split\\\\test1.txt_0_b6dcc62825.txt',\n",
       "  'text': \"BERNARDO.Who's there..FRANCISCO.Nay, answer me.stand, and unfold yourself..BERNARDO.Long live the king.FRANCISCO.Bernardo..BERNARDO.He..FRANCISCO.You come most carefully upon your hour..\",\n",
       "  'sim': -3.4028235e+38}]"
      ]
     },
     "execution_count": 24,
     "metadata": {},
     "output_type": "execute_result"
    }
   ],
   "source": [
    "from LLMSearch.DeepLTranslate import DeepLTranslate\n",
    "translator=DeepLTranslate(DEEPL_API_KEY)\n",
    "question=\"そこに居るのは誰だと質問したのは誰?\"\n",
    "en_question=translator(question)\n",
    "\n",
    "print(en_question)\n",
    "bot.search_related_documents(en_question,k=3,pad=False)"
   ]
  },
  {
   "cell_type": "code",
   "execution_count": null,
   "metadata": {},
   "outputs": [],
   "source": []
  }
 ],
 "metadata": {
  "kernelspec": {
   "display_name": "lora",
   "language": "python",
   "name": "python3"
  },
  "language_info": {
   "codemirror_mode": {
    "name": "ipython",
    "version": 3
   },
   "file_extension": ".py",
   "mimetype": "text/x-python",
   "name": "python",
   "nbconvert_exporter": "python",
   "pygments_lexer": "ipython3",
   "version": "3.10.10"
  },
  "orig_nbformat": 4
 },
 "nbformat": 4,
 "nbformat_minor": 2
}
