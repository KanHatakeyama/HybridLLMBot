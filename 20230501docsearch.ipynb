{
 "cells": [
  {
   "cell_type": "code",
   "execution_count": 1,
   "metadata": {},
   "outputs": [],
   "source": [
    "#モジュールを自動リロード\n",
    "%load_ext autoreload\n",
    "%autoreload 2\n",
    "\n"
   ]
  },
  {
   "cell_type": "code",
   "execution_count": 12,
   "metadata": {},
   "outputs": [],
   "source": [
    "from LLMSearch.AnswerBot import AnswerBot\n",
    "from LLMSearch.GPTQuery import GPTQuery\n",
    "from settings.key import API_KEY\n",
    "bot=AnswerBot(query_module=GPTQuery(API_KEY))\n",
    "bot.load_model()"
   ]
  },
  {
   "cell_type": "code",
   "execution_count": 13,
   "metadata": {},
   "outputs": [
    {
     "name": "stdout",
     "output_type": "stream",
     "text": [
      "split: ginga_tets.txt\n",
      "split: s41598-023-32506-7.pdf\n",
      "split: sikkaku.pdf\n",
      "split: wagahai.txt\n",
      "split: 卒論要旨_水嵜_MR6(最終版).pdf\n"
     ]
    },
    {
     "name": "stderr",
     "output_type": "stream",
     "text": [
      "100%|██████████| 51/51 [00:00<00:00, 497463.96it/s]\n"
     ]
    }
   ],
   "source": [
    "bot.index_documents(initiate=False)"
   ]
  },
  {
   "cell_type": "code",
   "execution_count": 14,
   "metadata": {},
   "outputs": [
    {
     "data": {
      "text/plain": [
       "[{'path': 'UserData/split/wagahai.txt_0_8678ec4686.txt',\n",
       "  'text': '吾輩は猫である.名前はまだ無い.どこで生れたかとんと見当がつかぬ.何でも薄暗いじめじめした所でニャーニャー泣いていた事だけは記憶している.吾輩はここで始めて人間というものを見た.しかもあとで聞くとそれは書生という人間中で一番獰悪な種族であったそうだ.この書生というのは時々我々を捕えて煮て食うという話である.しかしその当時は何という考もなかったから別段恐しいとも思わなかった.ただ彼の掌に載せられてスーと持ち上げられた時何だかフワフワした感じがあったばかりである..',\n",
       "  'sim': 1318.0},\n",
       " {'path': 'UserData/split/sikkaku.pdf_0_80b0c06631.txt',\n",
       "  'text': '私は、その男の写真を三葉、見たことがある.一葉は、その男の、幼年時代、とでも言うべきであろうか、十歳前後かと推定される頃の写真であって、その子供が大勢の女のひとに取りかこまれ、（それは、その子供の姉たち、妹たち、それから、従姉妹たちかと想像される）庭園の池のほとりに、荒い縞の袴をはいて立ち、首を三十度ほど左に傾け、醜く笑っている写真である.醜く.けれども、鈍い人たち（つまり、美醜などに関心を持たぬ人たち）は、面白くも何とも無いような顔をして、「可愛い坊ちゃんですね」といい加減なお世辞を言っても、まんざら空お世辞に聞えないくらいの、謂わば通俗の「可愛らしさ」みたいな影もその子供の笑顔に無いわけではないのだが、しかし、いささかでも、美醜に就いての訓練を経て来たひとなら、ひとめ見てすぐ、「なんて、いやな子供だ」と頗る不快そうに呟き、毛虫でも払いのける時のような手つきで、その写真をほうり投げるかも.',\n",
       "  'sim': 1254.0},\n",
       " {'path': 'UserData/split/ginga_tets.txt_0_df937e6923.txt',\n",
       "  'text': '「ではみなさんは、そういうふうに川だと云われたり、乳の流れたあとだと云われたりしていたこのぼんやりと白いものがほんとうは何かご承知ですか.」先生は、黒板に吊した大きな黒い星座の図の、上から下へ白くけぶった銀河帯のようなところを指しながら、みんなに問をかけました.カムパネルラが手をあげました.それから四五人手をあげました.ジョバンニも手をあげようとして、急いでそのままやめました.たしかにあれがみんな星だと、いつか雑誌で読んだのでしたが、このごろはジョバンニはまるで毎日教室でもねむく、本を読むひまも読む本もないので、なんだかどんなこともよくわからないという気持ちがするのでした.ところが先生は早くもそれを見附けたのでした.「ジョバンニさん.あなたはわかっているのでしょう.」.',\n",
       "  'sim': 1232.0}]"
      ]
     },
     "execution_count": 14,
     "metadata": {},
     "output_type": "execute_result"
    }
   ],
   "source": [
    "from LLMSearch.CleanText import pad_text\n",
    "txt=\"吾輩は猫である \"\n",
    "bot.search_related_documents(txt,k=3,pad=False)"
   ]
  },
  {
   "cell_type": "code",
   "execution_count": 28,
   "metadata": {},
   "outputs": [
    {
     "data": {
      "text/plain": [
       "'「吾輩」です。\\n\\nReference 1 \\n吾輩は猫である.名前はまだ無い.どこで生れたかとんと見当がつかぬ.何でも薄暗いじめじめした所でニャーニャー泣いていた事だけは記憶している.吾輩はここで始めて人間というものを見た.しかもあとで聞くとそれは書生という人間中で一番獰悪な種族であったそうだ.この書生というのは時々我々を捕えて煮て食うという話である.しかしその当時は何という考もなかったから別段恐しいとも思わなかった.ただ彼の掌に載せられてスーと持ち上げられた時何だかフワフワした感じがあったばかりである.. \\nUserData/split/wagahai.txt_0_8678ec4686.txt \\nSimilarity 882.0\\n---\\nReference 2 \\n私は、その男の写真を三葉、見たことがある.一葉は、その男の、幼年時代、とでも言うべきであろうか、十歳前後かと推定される頃の写真であって、その子供が大勢の女のひとに取りかこまれ、（それは、その子供の姉たち、妹たち、それから、従姉妹たちかと想像される）庭園の池のほとりに、荒い縞の袴をはいて立ち、首を三十度ほど左に傾け、醜く笑っている写真である.醜く.けれども、鈍い人たち（つまり、美醜などに関心を持たぬ人たち）は、面白くも何とも無いような顔をして、「可愛い坊ちゃんですね」といい加減なお世辞を言っても、まんざら空お世辞に聞えないくらいの、謂わば通俗の「可愛らしさ」みたいな影もその子供の笑顔に無いわけではないのだが、しかし、いささかでも、美醜に就いての訓練を経て来たひとなら、ひとめ見てすぐ、「なんて、いやな子供だ」と頗る不快そうに呟き、毛虫でも払いのける時のような手つきで、その写真をほうり投げるかも. \\nUserData/split/sikkaku.pdf_0_80b0c06631.txt \\nSimilarity 866.0\\n---\\nReference 3 \\n「ではみなさんは、そういうふうに川だと云われたり、乳の流れたあとだと云われたりしていたこのぼんやりと白いものがほんとうは何かご承知ですか.」先生は、黒板に吊した大きな黒い星座の図の、上から下へ白くけぶった銀河帯のようなところを指しながら、みんなに問をかけました.カムパネルラが手をあげました.それから四五人手をあげました.ジョバンニも手をあげようとして、急いでそのままやめました.たしかにあれがみんな星だと、いつか雑誌で読んだのでしたが、このごろはジョバンニはまるで毎日教室でもねむく、本を読むひまも読む本もないので、なんだかどんなこともよくわからないという気持ちがするのでした.ところが先生は早くもそれを見附けたのでした.「ジョバンニさん.あなたはわかっているのでしょう.」. \\nUserData/split/ginga_tets.txt_0_df937e6923.txt \\nSimilarity 840.0\\n---\\n'"
      ]
     },
     "execution_count": 28,
     "metadata": {},
     "output_type": "execute_result"
    }
   ],
   "source": [
    "question=\"猫の名前は?\"\n",
    "ans=bot.ask(question,k=3,pad=False)\n",
    "ans"
   ]
  },
  {
   "cell_type": "code",
   "execution_count": 30,
   "metadata": {},
   "outputs": [
    {
     "data": {
      "text/plain": [
       "'The name of the cat is not mentioned in the given text.\\n\\nReference 1 \\n「ではみなさんは、そういうふうに川だと云われたり、乳の流れたあとだと云われたりしていたこのぼんやりと白いものがほんとうは何かご承知ですか.」先生は、黒板に吊した大きな黒い星座の図の、上から下へ白くけぶった銀河帯のようなところを指しながら、みんなに問をかけました.カムパネルラが手をあげました.それから四五人手をあげました.ジョバンニも手をあげようとして、急いでそのままやめました.たしかにあれがみんな星だと、いつか雑誌で読んだのでしたが、このごろはジョバンニはまるで毎日教室でもねむく、本を読むひまも読む本もないので、なんだかどんなこともよくわからないという気持ちがするのでした.ところが先生は早くもそれを見附けたのでした.「ジョバンニさん.あなたはわかっているのでしょう.」. \\nUserData/split/ginga_tets.txt_0_df937e6923.txt \\nSimilarity 614.0\\n---\\nReference 2 \\n私は、その男の写真を三葉、見たことがある.一葉は、その男の、幼年時代、とでも言うべきであろうか、十歳前後かと推定される頃の写真であって、その子供が大勢の女のひとに取りかこまれ、（それは、その子供の姉たち、妹たち、それから、従姉妹たちかと想像される）庭園の池のほとりに、荒い縞の袴をはいて立ち、首を三十度ほど左に傾け、醜く笑っている写真である.醜く.けれども、鈍い人たち（つまり、美醜などに関心を持たぬ人たち）は、面白くも何とも無いような顔をして、「可愛い坊ちゃんですね」といい加減なお世辞を言っても、まんざら空お世辞に聞えないくらいの、謂わば通俗の「可愛らしさ」みたいな影もその子供の笑顔に無いわけではないのだが、しかし、いささかでも、美醜に就いての訓練を経て来たひとなら、ひとめ見てすぐ、「なんて、いやな子供だ」と頗る不快そうに呟き、毛虫でも払いのける時のような手つきで、その写真をほうり投げるかも. \\nUserData/split/sikkaku.pdf_0_80b0c06631.txt \\nSimilarity 556.0\\n---\\nReference 3 \\n吾輩は猫である.名前はまだ無い.どこで生れたかとんと見当がつかぬ.何でも薄暗いじめじめした所でニャーニャー泣いていた事だけは記憶している.吾輩はここで始めて人間というものを見た.しかもあとで聞くとそれは書生という人間中で一番獰悪な種族であったそうだ.この書生というのは時々我々を捕えて煮て食うという話である.しかしその当時は何という考もなかったから別段恐しいとも思わなかった.ただ彼の掌に載せられてスーと持ち上げられた時何だかフワフワした感じがあったばかりである.. \\nUserData/split/wagahai.txt_0_8678ec4686.txt \\nSimilarity 540.0\\n---\\n'"
      ]
     },
     "execution_count": 30,
     "metadata": {},
     "output_type": "execute_result"
    }
   ],
   "source": [
    "question=\"What is the name of the cat 'wagahai'?\"\n",
    "ans=bot.ask(question,k=3,pad=True)\n",
    "ans"
   ]
  },
  {
   "cell_type": "code",
   "execution_count": 31,
   "metadata": {},
   "outputs": [
    {
     "data": {
      "text/plain": [
       "'チアントレンはレドックス活性化剤として作用し、光エネルギーを電荷分離反応に変換することができます。これにより、光触媒や光伝導材料、太陽電池などのエネルギー変換技術に応用されることがあります。また、チアントレンのレドックス活性化により、化学反応の速度が増加することがあります。さらに、チアントレンは安定性が高く、毒性が低いため、さまざまな分野で利用されています。\\n\\nReference 1 \\n基板表面改質材料を志向したヒドロキシ基含有ポリスチレン -block -ポリメタクリル酸メチルの精密合成東京工業大学物質理工学院材料系早川・難波江研究室学士 4年水嵜陸【緒言】ブロック共重合体（ BCP）のミクロ相分離構造の誘導自己組織化 （DSA）を利用した半導体微細加工技術である BCPリソグラフィーでは，パターン形成用保護膜内における構造制御が重要である.1 高解像度パターンを得るためには， ミクロ相分離構造におけるドメイン界面の基板面に対する垂直配向が求められる.そこで， BCPの各ブロック成分のシリコン基板界面への親和性を良好に，すなわち中性化するための表面改質材料（下地膜（NL））が必要となる.2 NLを塗布したシリコン基板では，成膜した保護膜内のミクロ相分離構造の垂直配向が実現される.一方で， DSAにより形成されるパターンでは，多様な形状からなる構造欠陥の低減が課題となっている.最近では， 構造欠陥が生じる主な原因の一つとして， NLの基板への定着に作用するヒドロキシ基の凝集に基づく微小なドメイン形成とその不均一性が考えられている..本論文では ，構造欠陥の低減を志向した新たな NL材料の開発を目指し ，ポリスチレン（ PS）とポリメタクリル酸メチル（ PMMA）からなる BCPのブロック鎖の結合点にヒドロキシ基を定量的に導入した PS-OH 2-PMMAの合成とNLとしての評価を目的とした.得られる BCPをNLとして用いたシリコン基板上への定着と，それに続く同一のBCPを保護膜材料に用いた薄膜の作製により，垂直配向ラメラ構造の形成に取り組んだ.【実験および結果と考察】 Figure 1.Synthetic scheme of PS -OH 2-PMMA..1 Bates, C.M.et al.Macromolecules 2014 , 47 (1), 2 -12.2 Mansky, P.et al.Science 1997 , 275 (5305), 1458 -1460.OHCl tert-BuMe2SiClimidazole, DMFOCl TBDMS.O.OH HOClC 6OTBSClC 6OTBSKI, K2CO3, DMFOO(CH2)6O O(H2C)6O TBDMS TBDMS.O.O(CH2)6O O(H2C)6O TBDMS TBDMSMePPh 3Brtert-BuOK, THFO(CH2)6O O(H2C)6O TBDMS TBDMSListyreneTHFm-1LiDPE-O TBS2DPE-O TBS2mO(CH2)6OO(CH2)6OTBDMSTBDMSLi1) MMA2) MeOHmO(CH2)6OO(CH2)6OTBDMS. \\nUserData/split/卒論要旨_水嵜_MR6(最終版).pdf_0_f3fbcc7001.txt \\nSimilarity 1682.0\\n---\\nReference 2 \\n垂直配向ラメラ構造の形成を目的に，NLの熱処理温度と時間について検討を行った.NLの熱処理時間が 1分以下の場合 ，薄膜内では水平配向されたラメラ構造の形成が示唆された.一方で，熱処理時間が2分から 15分の間では， 垂直配向が示唆される指紋状のAFM像が見られる領域と水平配向領域が混在する状態となり， 熱処理時間の延長により垂直配向領域が拡大する傾向にあることが分かった.さらに熱処理時間を長くすると ，20分以上の熱処理で基板全面において明瞭な指紋状のAFM像が観察され， 垂直配向ラメラ構造の形成が明らかとなった.以上の結果より， 熱処理時間の増加に伴いNLのシリコン基板への定着が進行するとともに， シリコン基板上に均一に定着し ，PS-OH 2-PMMAはNLとしての要求特性を満たすとともに保護膜としても利用可能であることが分かった..Figure 2.AFM phase images of parallel (NL annealed for 1 min, left), mix of parallel and perpendicular (NL annealed for 2 min, center), and perpendicular orientation (NL annealed for 30 min, right) of PS -OH 2-PMMA 41 thin films.. \\nUserData/split/卒論要旨_水嵜_MR6(最終版).pdf_2_0137adce28.txt \\nSimilarity 1656.0\\n---\\nReference 3 \\n「ではみなさんは、そういうふうに川だと云われたり、乳の流れたあとだと云われたりしていたこのぼんやりと白いものがほんとうは何かご承知ですか.」先生は、黒板に吊した大きな黒い星座の図の、上から下へ白くけぶった銀河帯のようなところを指しながら、みんなに問をかけました.カムパネルラが手をあげました.それから四五人手をあげました.ジョバンニも手をあげようとして、急いでそのままやめました.たしかにあれがみんな星だと、いつか雑誌で読んだのでしたが、このごろはジョバンニはまるで毎日教室でもねむく、本を読むひまも読む本もないので、なんだかどんなこともよくわからないという気持ちがするのでした.ところが先生は早くもそれを見附けたのでした.「ジョバンニさん.あなたはわかっているのでしょう.」. \\nUserData/split/ginga_tets.txt_0_df937e6923.txt \\nSimilarity 1434.0\\n---\\n'"
      ]
     },
     "execution_count": 31,
     "metadata": {},
     "output_type": "execute_result"
    }
   ],
   "source": [
    "question=\"チアントレンのレドックス活性化合物としての利点は?\"\n",
    "ans=bot.ask(question,k=3,pad=True)\n",
    "ans"
   ]
  },
  {
   "cell_type": "code",
   "execution_count": null,
   "metadata": {},
   "outputs": [],
   "source": []
  }
 ],
 "metadata": {
  "kernelspec": {
   "display_name": "lora",
   "language": "python",
   "name": "python3"
  },
  "language_info": {
   "codemirror_mode": {
    "name": "ipython",
    "version": 3
   },
   "file_extension": ".py",
   "mimetype": "text/x-python",
   "name": "python",
   "nbconvert_exporter": "python",
   "pygments_lexer": "ipython3",
   "version": "3.10.10"
  },
  "orig_nbformat": 4
 },
 "nbformat": 4,
 "nbformat_minor": 2
}
