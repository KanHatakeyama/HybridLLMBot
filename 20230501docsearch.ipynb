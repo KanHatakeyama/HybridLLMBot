{
 "cells": [
  {
   "cell_type": "code",
   "execution_count": 1,
   "metadata": {},
   "outputs": [],
   "source": [
    "#モジュールを自動リロード\n",
    "%load_ext autoreload\n",
    "%autoreload 2\n",
    "\n"
   ]
  },
  {
   "cell_type": "code",
   "execution_count": 2,
   "metadata": {},
   "outputs": [],
   "source": [
    "#from LLMSearch.DocSplitter import split_documents\n",
    "#split_documents()"
   ]
  },
  {
   "cell_type": "code",
   "execution_count": 3,
   "metadata": {},
   "outputs": [
    {
     "name": "stderr",
     "output_type": "stream",
     "text": [
      "INFO:faiss.loader:Loading faiss with AVX2 support.\n",
      "INFO:faiss.loader:Successfully loaded faiss with AVX2 support.\n"
     ]
    }
   ],
   "source": [
    "from LLMSearch.AnswerBot import AnswerBot\n",
    "from LLMSearch.GPTQuery import GPTQuery\n",
    "from settings.key import API_KEY\n",
    "bot=AnswerBot(query_module=GPTQuery(API_KEY))"
   ]
  },
  {
   "cell_type": "code",
   "execution_count": null,
   "metadata": {},
   "outputs": [],
   "source": [
    "\n",
    "bot.load_model()"
   ]
  },
  {
   "cell_type": "code",
   "execution_count": 3,
   "metadata": {},
   "outputs": [
    {
     "name": "stdout",
     "output_type": "stream",
     "text": [
      "split: ginga_tets.txt\n",
      "split: Advanced Sustainable Systems - 2023 - Ho - San.pdf\n",
      "split: Hatakeyama-Sato-2023-Quantum circuit learning.pdf\n",
      "split: Journal of Polymer Science - 2022 - Kometani -.pdf\n",
      "split: Macro Chemistry Physics - 2022 - Kurioka - Ord.pdf\n",
      "split: acs.macromol.1c02569.pdf\n",
      "split: d2ra07208d.pdf\n",
      "split: 34_431.pdf\n",
      "split: 34_439.pdf\n",
      "split: 35_17.pdf\n",
      "split: 35_265.pdf\n",
      "split: 35_271.pdf\n",
      "split: 8286518.pdf\n",
      "split: Journal of Polymer Science - 2022 - Kometani - Preferred‐handed helical conformation in organic inorganic hybrid block-1.pdf\n",
      "split: Journal of Polymer Science - 2022 - Kometani - Preferred‐handed helical conformation in organic inorganic hybrid block.pdf\n",
      "split: Macro Chemistry Physics - 2021 - Kurimoto - Long‐Range Ordered Double Gyroid Structures via Solution Casting from Poly 2.pdf\n",
      "split: Macro Chemistry Physics - 2022 - Kurioka - Ordered‐Structure‐Induced Electrochemical Post‐Functionalization of Poly 3‐-1.pdf\n",
      "split: Macro Chemistry Physics - 2022 - Kurioka - Ordered‐Structure‐Induced Electrochemical Post‐Functionalization of Poly 3‐.pdf\n",
      "split: acs.biomac.0c01746.pdf\n",
      "split: acs.macromol.1c02569.pdf\n",
      "split: cl.200957.pdf\n",
      "split: cl.220180.pdf\n",
      "split: d1ma00308a.pdf\n",
      "split: d2ra02536a.pdf\n",
      "split: jacsau.1c00098.pdf\n",
      "split: jacsau.1c00309.pdf\n",
      "split: s41467-021-26249-0-1.pdf\n",
      "split: s41467-021-26249-0-2.pdf\n",
      "split: s41467-021-26249-0.pdf\n",
      "split: srep23276.pdf\n",
      "split: s41598-023-32506-7.pdf\n",
      "split: sikkaku.pdf\n",
      "split: wagahai.txt\n",
      "split: 卒論要旨_水嵜_MR6(最終版).pdf\n"
     ]
    },
    {
     "name": "stderr",
     "output_type": "stream",
     "text": [
      "  1%|          | 6/965 [01:01<2:44:47, 10.31s/it]\n"
     ]
    },
    {
     "ename": "KeyboardInterrupt",
     "evalue": "",
     "output_type": "error",
     "traceback": [
      "\u001b[0;31m---------------------------------------------------------------------------\u001b[0m",
      "\u001b[0;31mKeyboardInterrupt\u001b[0m                         Traceback (most recent call last)",
      "\u001b[1;32m/media/kh/python/2023/20230427rwkvGPT/20230501docsearch.ipynb セル 3\u001b[0m in \u001b[0;36m<cell line: 1>\u001b[0;34m()\u001b[0m\n\u001b[0;32m----> <a href='vscode-notebook-cell://ssh-remote%2Bold-ubuntu/media/kh/python/2023/20230427rwkvGPT/20230501docsearch.ipynb#X14sdnNjb2RlLXJlbW90ZQ%3D%3D?line=0'>1</a>\u001b[0m bot\u001b[39m.\u001b[39;49mindex_documents(initiate\u001b[39m=\u001b[39;49m\u001b[39mFalse\u001b[39;49;00m)\n",
      "File \u001b[0;32m/media/kh/python/2023/20230427rwkvGPT/LLMSearch/AnswerBot.py:31\u001b[0m, in \u001b[0;36mAnswerBot.index_documents\u001b[0;34m(self, initiate)\u001b[0m\n\u001b[1;32m     28\u001b[0m     \u001b[39mself\u001b[39m\u001b[39m.\u001b[39mload_model()\n\u001b[1;32m     30\u001b[0m \u001b[39mfor\u001b[39;00m path \u001b[39min\u001b[39;00m tqdm(chunk_path_list):\n\u001b[0;32m---> 31\u001b[0m     \u001b[39mself\u001b[39;49m\u001b[39m.\u001b[39;49msearcher\u001b[39m.\u001b[39;49mcalc_text_file(path)\n\u001b[1;32m     33\u001b[0m \u001b[39mself\u001b[39m\u001b[39m.\u001b[39msearcher\u001b[39m.\u001b[39msave_model()\n",
      "File \u001b[0;32m/media/kh/python/2023/20230427rwkvGPT/LLMSearch/TextSearcher.py:19\u001b[0m, in \u001b[0;36mTextSearcher.calc_text_file\u001b[0;34m(self, path)\u001b[0m\n\u001b[1;32m     17\u001b[0m \u001b[39mwith\u001b[39;00m \u001b[39mopen\u001b[39m(path, \u001b[39m'\u001b[39m\u001b[39mr\u001b[39m\u001b[39m'\u001b[39m) \u001b[39mas\u001b[39;00m f:\n\u001b[1;32m     18\u001b[0m     text \u001b[39m=\u001b[39m f\u001b[39m.\u001b[39mread()\n\u001b[0;32m---> 19\u001b[0m vec\u001b[39m=\u001b[39m\u001b[39mself\u001b[39;49m\u001b[39m.\u001b[39;49membedder(text)\n\u001b[1;32m     21\u001b[0m \u001b[39mself\u001b[39m\u001b[39m.\u001b[39mindex\u001b[39m.\u001b[39madd(vec)\n\u001b[1;32m     22\u001b[0m \u001b[39mself\u001b[39m\u001b[39m.\u001b[39mpath_list\u001b[39m.\u001b[39mappend(path)\n",
      "File \u001b[0;32m/media/kh/python/2023/20230427rwkvGPT/LLMSearch/ServerEmbedding.py:16\u001b[0m, in \u001b[0;36mServerEmbedding.__call__\u001b[0;34m(self, query)\u001b[0m\n\u001b[1;32m     11\u001b[0m data \u001b[39m=\u001b[39m {\n\u001b[1;32m     12\u001b[0m     \u001b[39m'\u001b[39m\u001b[39mmessage\u001b[39m\u001b[39m'\u001b[39m: \u001b[39mf\u001b[39m\u001b[39m'\u001b[39m\u001b[39m{\u001b[39;00mquery\u001b[39m}\u001b[39;00m\u001b[39m'\u001b[39m\n\u001b[1;32m     13\u001b[0m }\n\u001b[1;32m     14\u001b[0m headers \u001b[39m=\u001b[39m {\u001b[39m'\u001b[39m\u001b[39mContent-Type\u001b[39m\u001b[39m'\u001b[39m: \u001b[39m'\u001b[39m\u001b[39mapplication/json\u001b[39m\u001b[39m'\u001b[39m}\n\u001b[0;32m---> 16\u001b[0m response \u001b[39m=\u001b[39m requests\u001b[39m.\u001b[39;49mpost(\u001b[39mself\u001b[39;49m\u001b[39m.\u001b[39;49murl, json\u001b[39m=\u001b[39;49mdata, headers\u001b[39m=\u001b[39;49mheaders)\n\u001b[1;32m     18\u001b[0m v\u001b[39m=\u001b[39mresponse\u001b[39m.\u001b[39mjson()[\u001b[39m\"\u001b[39m\u001b[39mresponse\u001b[39m\u001b[39m\"\u001b[39m]\n\u001b[1;32m     19\u001b[0m v\u001b[39m=\u001b[39mnp\u001b[39m.\u001b[39marray(v)\n",
      "File \u001b[0;32m~/anaconda3/envs/lora/lib/python3.10/site-packages/requests/api.py:115\u001b[0m, in \u001b[0;36mpost\u001b[0;34m(url, data, json, **kwargs)\u001b[0m\n\u001b[1;32m    103\u001b[0m \u001b[39mdef\u001b[39;00m \u001b[39mpost\u001b[39m(url, data\u001b[39m=\u001b[39m\u001b[39mNone\u001b[39;00m, json\u001b[39m=\u001b[39m\u001b[39mNone\u001b[39;00m, \u001b[39m*\u001b[39m\u001b[39m*\u001b[39mkwargs):\n\u001b[1;32m    104\u001b[0m \u001b[39m    \u001b[39m\u001b[39mr\u001b[39m\u001b[39m\"\"\"Sends a POST request.\u001b[39;00m\n\u001b[1;32m    105\u001b[0m \n\u001b[1;32m    106\u001b[0m \u001b[39m    :param url: URL for the new :class:`Request` object.\u001b[39;00m\n\u001b[0;32m   (...)\u001b[0m\n\u001b[1;32m    112\u001b[0m \u001b[39m    :rtype: requests.Response\u001b[39;00m\n\u001b[1;32m    113\u001b[0m \u001b[39m    \"\"\"\u001b[39;00m\n\u001b[0;32m--> 115\u001b[0m     \u001b[39mreturn\u001b[39;00m request(\u001b[39m\"\u001b[39;49m\u001b[39mpost\u001b[39;49m\u001b[39m\"\u001b[39;49m, url, data\u001b[39m=\u001b[39;49mdata, json\u001b[39m=\u001b[39;49mjson, \u001b[39m*\u001b[39;49m\u001b[39m*\u001b[39;49mkwargs)\n",
      "File \u001b[0;32m~/anaconda3/envs/lora/lib/python3.10/site-packages/requests/api.py:59\u001b[0m, in \u001b[0;36mrequest\u001b[0;34m(method, url, **kwargs)\u001b[0m\n\u001b[1;32m     55\u001b[0m \u001b[39m# By using the 'with' statement we are sure the session is closed, thus we\u001b[39;00m\n\u001b[1;32m     56\u001b[0m \u001b[39m# avoid leaving sockets open which can trigger a ResourceWarning in some\u001b[39;00m\n\u001b[1;32m     57\u001b[0m \u001b[39m# cases, and look like a memory leak in others.\u001b[39;00m\n\u001b[1;32m     58\u001b[0m \u001b[39mwith\u001b[39;00m sessions\u001b[39m.\u001b[39mSession() \u001b[39mas\u001b[39;00m session:\n\u001b[0;32m---> 59\u001b[0m     \u001b[39mreturn\u001b[39;00m session\u001b[39m.\u001b[39;49mrequest(method\u001b[39m=\u001b[39;49mmethod, url\u001b[39m=\u001b[39;49murl, \u001b[39m*\u001b[39;49m\u001b[39m*\u001b[39;49mkwargs)\n",
      "File \u001b[0;32m~/anaconda3/envs/lora/lib/python3.10/site-packages/requests/sessions.py:587\u001b[0m, in \u001b[0;36mSession.request\u001b[0;34m(self, method, url, params, data, headers, cookies, files, auth, timeout, allow_redirects, proxies, hooks, stream, verify, cert, json)\u001b[0m\n\u001b[1;32m    582\u001b[0m send_kwargs \u001b[39m=\u001b[39m {\n\u001b[1;32m    583\u001b[0m     \u001b[39m\"\u001b[39m\u001b[39mtimeout\u001b[39m\u001b[39m\"\u001b[39m: timeout,\n\u001b[1;32m    584\u001b[0m     \u001b[39m\"\u001b[39m\u001b[39mallow_redirects\u001b[39m\u001b[39m\"\u001b[39m: allow_redirects,\n\u001b[1;32m    585\u001b[0m }\n\u001b[1;32m    586\u001b[0m send_kwargs\u001b[39m.\u001b[39mupdate(settings)\n\u001b[0;32m--> 587\u001b[0m resp \u001b[39m=\u001b[39m \u001b[39mself\u001b[39;49m\u001b[39m.\u001b[39;49msend(prep, \u001b[39m*\u001b[39;49m\u001b[39m*\u001b[39;49msend_kwargs)\n\u001b[1;32m    589\u001b[0m \u001b[39mreturn\u001b[39;00m resp\n",
      "File \u001b[0;32m~/anaconda3/envs/lora/lib/python3.10/site-packages/requests/sessions.py:701\u001b[0m, in \u001b[0;36mSession.send\u001b[0;34m(self, request, **kwargs)\u001b[0m\n\u001b[1;32m    698\u001b[0m start \u001b[39m=\u001b[39m preferred_clock()\n\u001b[1;32m    700\u001b[0m \u001b[39m# Send the request\u001b[39;00m\n\u001b[0;32m--> 701\u001b[0m r \u001b[39m=\u001b[39m adapter\u001b[39m.\u001b[39;49msend(request, \u001b[39m*\u001b[39;49m\u001b[39m*\u001b[39;49mkwargs)\n\u001b[1;32m    703\u001b[0m \u001b[39m# Total elapsed time of the request (approximately)\u001b[39;00m\n\u001b[1;32m    704\u001b[0m elapsed \u001b[39m=\u001b[39m preferred_clock() \u001b[39m-\u001b[39m start\n",
      "File \u001b[0;32m~/anaconda3/envs/lora/lib/python3.10/site-packages/requests/adapters.py:489\u001b[0m, in \u001b[0;36mHTTPAdapter.send\u001b[0;34m(self, request, stream, timeout, verify, cert, proxies)\u001b[0m\n\u001b[1;32m    487\u001b[0m \u001b[39mtry\u001b[39;00m:\n\u001b[1;32m    488\u001b[0m     \u001b[39mif\u001b[39;00m \u001b[39mnot\u001b[39;00m chunked:\n\u001b[0;32m--> 489\u001b[0m         resp \u001b[39m=\u001b[39m conn\u001b[39m.\u001b[39;49murlopen(\n\u001b[1;32m    490\u001b[0m             method\u001b[39m=\u001b[39;49mrequest\u001b[39m.\u001b[39;49mmethod,\n\u001b[1;32m    491\u001b[0m             url\u001b[39m=\u001b[39;49murl,\n\u001b[1;32m    492\u001b[0m             body\u001b[39m=\u001b[39;49mrequest\u001b[39m.\u001b[39;49mbody,\n\u001b[1;32m    493\u001b[0m             headers\u001b[39m=\u001b[39;49mrequest\u001b[39m.\u001b[39;49mheaders,\n\u001b[1;32m    494\u001b[0m             redirect\u001b[39m=\u001b[39;49m\u001b[39mFalse\u001b[39;49;00m,\n\u001b[1;32m    495\u001b[0m             assert_same_host\u001b[39m=\u001b[39;49m\u001b[39mFalse\u001b[39;49;00m,\n\u001b[1;32m    496\u001b[0m             preload_content\u001b[39m=\u001b[39;49m\u001b[39mFalse\u001b[39;49;00m,\n\u001b[1;32m    497\u001b[0m             decode_content\u001b[39m=\u001b[39;49m\u001b[39mFalse\u001b[39;49;00m,\n\u001b[1;32m    498\u001b[0m             retries\u001b[39m=\u001b[39;49m\u001b[39mself\u001b[39;49m\u001b[39m.\u001b[39;49mmax_retries,\n\u001b[1;32m    499\u001b[0m             timeout\u001b[39m=\u001b[39;49mtimeout,\n\u001b[1;32m    500\u001b[0m         )\n\u001b[1;32m    502\u001b[0m     \u001b[39m# Send the request.\u001b[39;00m\n\u001b[1;32m    503\u001b[0m     \u001b[39melse\u001b[39;00m:\n\u001b[1;32m    504\u001b[0m         \u001b[39mif\u001b[39;00m \u001b[39mhasattr\u001b[39m(conn, \u001b[39m\"\u001b[39m\u001b[39mproxy_pool\u001b[39m\u001b[39m\"\u001b[39m):\n",
      "File \u001b[0;32m~/anaconda3/envs/lora/lib/python3.10/site-packages/urllib3/connectionpool.py:703\u001b[0m, in \u001b[0;36mHTTPConnectionPool.urlopen\u001b[0;34m(self, method, url, body, headers, retries, redirect, assert_same_host, timeout, pool_timeout, release_conn, chunked, body_pos, **response_kw)\u001b[0m\n\u001b[1;32m    700\u001b[0m     \u001b[39mself\u001b[39m\u001b[39m.\u001b[39m_prepare_proxy(conn)\n\u001b[1;32m    702\u001b[0m \u001b[39m# Make the request on the httplib connection object.\u001b[39;00m\n\u001b[0;32m--> 703\u001b[0m httplib_response \u001b[39m=\u001b[39m \u001b[39mself\u001b[39;49m\u001b[39m.\u001b[39;49m_make_request(\n\u001b[1;32m    704\u001b[0m     conn,\n\u001b[1;32m    705\u001b[0m     method,\n\u001b[1;32m    706\u001b[0m     url,\n\u001b[1;32m    707\u001b[0m     timeout\u001b[39m=\u001b[39;49mtimeout_obj,\n\u001b[1;32m    708\u001b[0m     body\u001b[39m=\u001b[39;49mbody,\n\u001b[1;32m    709\u001b[0m     headers\u001b[39m=\u001b[39;49mheaders,\n\u001b[1;32m    710\u001b[0m     chunked\u001b[39m=\u001b[39;49mchunked,\n\u001b[1;32m    711\u001b[0m )\n\u001b[1;32m    713\u001b[0m \u001b[39m# If we're going to release the connection in ``finally:``, then\u001b[39;00m\n\u001b[1;32m    714\u001b[0m \u001b[39m# the response doesn't need to know about the connection. Otherwise\u001b[39;00m\n\u001b[1;32m    715\u001b[0m \u001b[39m# it will also try to release it and we'll have a double-release\u001b[39;00m\n\u001b[1;32m    716\u001b[0m \u001b[39m# mess.\u001b[39;00m\n\u001b[1;32m    717\u001b[0m response_conn \u001b[39m=\u001b[39m conn \u001b[39mif\u001b[39;00m \u001b[39mnot\u001b[39;00m release_conn \u001b[39melse\u001b[39;00m \u001b[39mNone\u001b[39;00m\n",
      "File \u001b[0;32m~/anaconda3/envs/lora/lib/python3.10/site-packages/urllib3/connectionpool.py:449\u001b[0m, in \u001b[0;36mHTTPConnectionPool._make_request\u001b[0;34m(self, conn, method, url, timeout, chunked, **httplib_request_kw)\u001b[0m\n\u001b[1;32m    444\u001b[0m             httplib_response \u001b[39m=\u001b[39m conn\u001b[39m.\u001b[39mgetresponse()\n\u001b[1;32m    445\u001b[0m         \u001b[39mexcept\u001b[39;00m \u001b[39mBaseException\u001b[39;00m \u001b[39mas\u001b[39;00m e:\n\u001b[1;32m    446\u001b[0m             \u001b[39m# Remove the TypeError from the exception chain in\u001b[39;00m\n\u001b[1;32m    447\u001b[0m             \u001b[39m# Python 3 (including for exceptions like SystemExit).\u001b[39;00m\n\u001b[1;32m    448\u001b[0m             \u001b[39m# Otherwise it looks like a bug in the code.\u001b[39;00m\n\u001b[0;32m--> 449\u001b[0m             six\u001b[39m.\u001b[39;49mraise_from(e, \u001b[39mNone\u001b[39;49;00m)\n\u001b[1;32m    450\u001b[0m \u001b[39mexcept\u001b[39;00m (SocketTimeout, BaseSSLError, SocketError) \u001b[39mas\u001b[39;00m e:\n\u001b[1;32m    451\u001b[0m     \u001b[39mself\u001b[39m\u001b[39m.\u001b[39m_raise_timeout(err\u001b[39m=\u001b[39me, url\u001b[39m=\u001b[39murl, timeout_value\u001b[39m=\u001b[39mread_timeout)\n",
      "File \u001b[0;32m<string>:3\u001b[0m, in \u001b[0;36mraise_from\u001b[0;34m(value, from_value)\u001b[0m\n",
      "File \u001b[0;32m~/anaconda3/envs/lora/lib/python3.10/site-packages/urllib3/connectionpool.py:444\u001b[0m, in \u001b[0;36mHTTPConnectionPool._make_request\u001b[0;34m(self, conn, method, url, timeout, chunked, **httplib_request_kw)\u001b[0m\n\u001b[1;32m    441\u001b[0m \u001b[39mexcept\u001b[39;00m \u001b[39mTypeError\u001b[39;00m:\n\u001b[1;32m    442\u001b[0m     \u001b[39m# Python 3\u001b[39;00m\n\u001b[1;32m    443\u001b[0m     \u001b[39mtry\u001b[39;00m:\n\u001b[0;32m--> 444\u001b[0m         httplib_response \u001b[39m=\u001b[39m conn\u001b[39m.\u001b[39;49mgetresponse()\n\u001b[1;32m    445\u001b[0m     \u001b[39mexcept\u001b[39;00m \u001b[39mBaseException\u001b[39;00m \u001b[39mas\u001b[39;00m e:\n\u001b[1;32m    446\u001b[0m         \u001b[39m# Remove the TypeError from the exception chain in\u001b[39;00m\n\u001b[1;32m    447\u001b[0m         \u001b[39m# Python 3 (including for exceptions like SystemExit).\u001b[39;00m\n\u001b[1;32m    448\u001b[0m         \u001b[39m# Otherwise it looks like a bug in the code.\u001b[39;00m\n\u001b[1;32m    449\u001b[0m         six\u001b[39m.\u001b[39mraise_from(e, \u001b[39mNone\u001b[39;00m)\n",
      "File \u001b[0;32m~/anaconda3/envs/lora/lib/python3.10/http/client.py:1374\u001b[0m, in \u001b[0;36mHTTPConnection.getresponse\u001b[0;34m(self)\u001b[0m\n\u001b[1;32m   1372\u001b[0m \u001b[39mtry\u001b[39;00m:\n\u001b[1;32m   1373\u001b[0m     \u001b[39mtry\u001b[39;00m:\n\u001b[0;32m-> 1374\u001b[0m         response\u001b[39m.\u001b[39;49mbegin()\n\u001b[1;32m   1375\u001b[0m     \u001b[39mexcept\u001b[39;00m \u001b[39mConnectionError\u001b[39;00m:\n\u001b[1;32m   1376\u001b[0m         \u001b[39mself\u001b[39m\u001b[39m.\u001b[39mclose()\n",
      "File \u001b[0;32m~/anaconda3/envs/lora/lib/python3.10/http/client.py:318\u001b[0m, in \u001b[0;36mHTTPResponse.begin\u001b[0;34m(self)\u001b[0m\n\u001b[1;32m    316\u001b[0m \u001b[39m# read until we get a non-100 response\u001b[39;00m\n\u001b[1;32m    317\u001b[0m \u001b[39mwhile\u001b[39;00m \u001b[39mTrue\u001b[39;00m:\n\u001b[0;32m--> 318\u001b[0m     version, status, reason \u001b[39m=\u001b[39m \u001b[39mself\u001b[39;49m\u001b[39m.\u001b[39;49m_read_status()\n\u001b[1;32m    319\u001b[0m     \u001b[39mif\u001b[39;00m status \u001b[39m!=\u001b[39m CONTINUE:\n\u001b[1;32m    320\u001b[0m         \u001b[39mbreak\u001b[39;00m\n",
      "File \u001b[0;32m~/anaconda3/envs/lora/lib/python3.10/http/client.py:279\u001b[0m, in \u001b[0;36mHTTPResponse._read_status\u001b[0;34m(self)\u001b[0m\n\u001b[1;32m    278\u001b[0m \u001b[39mdef\u001b[39;00m \u001b[39m_read_status\u001b[39m(\u001b[39mself\u001b[39m):\n\u001b[0;32m--> 279\u001b[0m     line \u001b[39m=\u001b[39m \u001b[39mstr\u001b[39m(\u001b[39mself\u001b[39;49m\u001b[39m.\u001b[39;49mfp\u001b[39m.\u001b[39;49mreadline(_MAXLINE \u001b[39m+\u001b[39;49m \u001b[39m1\u001b[39;49m), \u001b[39m\"\u001b[39m\u001b[39miso-8859-1\u001b[39m\u001b[39m\"\u001b[39m)\n\u001b[1;32m    280\u001b[0m     \u001b[39mif\u001b[39;00m \u001b[39mlen\u001b[39m(line) \u001b[39m>\u001b[39m _MAXLINE:\n\u001b[1;32m    281\u001b[0m         \u001b[39mraise\u001b[39;00m LineTooLong(\u001b[39m\"\u001b[39m\u001b[39mstatus line\u001b[39m\u001b[39m\"\u001b[39m)\n",
      "File \u001b[0;32m~/anaconda3/envs/lora/lib/python3.10/socket.py:705\u001b[0m, in \u001b[0;36mSocketIO.readinto\u001b[0;34m(self, b)\u001b[0m\n\u001b[1;32m    703\u001b[0m \u001b[39mwhile\u001b[39;00m \u001b[39mTrue\u001b[39;00m:\n\u001b[1;32m    704\u001b[0m     \u001b[39mtry\u001b[39;00m:\n\u001b[0;32m--> 705\u001b[0m         \u001b[39mreturn\u001b[39;00m \u001b[39mself\u001b[39;49m\u001b[39m.\u001b[39;49m_sock\u001b[39m.\u001b[39;49mrecv_into(b)\n\u001b[1;32m    706\u001b[0m     \u001b[39mexcept\u001b[39;00m timeout:\n\u001b[1;32m    707\u001b[0m         \u001b[39mself\u001b[39m\u001b[39m.\u001b[39m_timeout_occurred \u001b[39m=\u001b[39m \u001b[39mTrue\u001b[39;00m\n",
      "\u001b[0;31mKeyboardInterrupt\u001b[0m: "
     ]
    }
   ],
   "source": [
    "bot.index_documents(initiate=False)"
   ]
  },
  {
   "cell_type": "code",
   "execution_count": 14,
   "metadata": {},
   "outputs": [
    {
     "data": {
      "text/plain": [
       "[{'path': 'UserData/split/wagahai.txt_0_8678ec4686.txt',\n",
       "  'text': '吾輩は猫である.名前はまだ無い.どこで生れたかとんと見当がつかぬ.何でも薄暗いじめじめした所でニャーニャー泣いていた事だけは記憶している.吾輩はここで始めて人間というものを見た.しかもあとで聞くとそれは書生という人間中で一番獰悪な種族であったそうだ.この書生というのは時々我々を捕えて煮て食うという話である.しかしその当時は何という考もなかったから別段恐しいとも思わなかった.ただ彼の掌に載せられてスーと持ち上げられた時何だかフワフワした感じがあったばかりである..',\n",
       "  'sim': 1318.0},\n",
       " {'path': 'UserData/split/sikkaku.pdf_0_80b0c06631.txt',\n",
       "  'text': '私は、その男の写真を三葉、見たことがある.一葉は、その男の、幼年時代、とでも言うべきであろうか、十歳前後かと推定される頃の写真であって、その子供が大勢の女のひとに取りかこまれ、（それは、その子供の姉たち、妹たち、それから、従姉妹たちかと想像される）庭園の池のほとりに、荒い縞の袴をはいて立ち、首を三十度ほど左に傾け、醜く笑っている写真である.醜く.けれども、鈍い人たち（つまり、美醜などに関心を持たぬ人たち）は、面白くも何とも無いような顔をして、「可愛い坊ちゃんですね」といい加減なお世辞を言っても、まんざら空お世辞に聞えないくらいの、謂わば通俗の「可愛らしさ」みたいな影もその子供の笑顔に無いわけではないのだが、しかし、いささかでも、美醜に就いての訓練を経て来たひとなら、ひとめ見てすぐ、「なんて、いやな子供だ」と頗る不快そうに呟き、毛虫でも払いのける時のような手つきで、その写真をほうり投げるかも.',\n",
       "  'sim': 1254.0},\n",
       " {'path': 'UserData/split/ginga_tets.txt_0_df937e6923.txt',\n",
       "  'text': '「ではみなさんは、そういうふうに川だと云われたり、乳の流れたあとだと云われたりしていたこのぼんやりと白いものがほんとうは何かご承知ですか.」先生は、黒板に吊した大きな黒い星座の図の、上から下へ白くけぶった銀河帯のようなところを指しながら、みんなに問をかけました.カムパネルラが手をあげました.それから四五人手をあげました.ジョバンニも手をあげようとして、急いでそのままやめました.たしかにあれがみんな星だと、いつか雑誌で読んだのでしたが、このごろはジョバンニはまるで毎日教室でもねむく、本を読むひまも読む本もないので、なんだかどんなこともよくわからないという気持ちがするのでした.ところが先生は早くもそれを見附けたのでした.「ジョバンニさん.あなたはわかっているのでしょう.」.',\n",
       "  'sim': 1232.0}]"
      ]
     },
     "execution_count": 14,
     "metadata": {},
     "output_type": "execute_result"
    }
   ],
   "source": [
    "from LLMSearch.CleanText import pad_text\n",
    "txt=\"吾輩は猫である \"\n",
    "bot.search_related_documents(txt,k=3,pad=False)"
   ]
  },
  {
   "cell_type": "code",
   "execution_count": 28,
   "metadata": {},
   "outputs": [
    {
     "data": {
      "text/plain": [
       "'「吾輩」です。\\n\\nReference 1 \\n吾輩は猫である.名前はまだ無い.どこで生れたかとんと見当がつかぬ.何でも薄暗いじめじめした所でニャーニャー泣いていた事だけは記憶している.吾輩はここで始めて人間というものを見た.しかもあとで聞くとそれは書生という人間中で一番獰悪な種族であったそうだ.この書生というのは時々我々を捕えて煮て食うという話である.しかしその当時は何という考もなかったから別段恐しいとも思わなかった.ただ彼の掌に載せられてスーと持ち上げられた時何だかフワフワした感じがあったばかりである.. \\nUserData/split/wagahai.txt_0_8678ec4686.txt \\nSimilarity 882.0\\n---\\nReference 2 \\n私は、その男の写真を三葉、見たことがある.一葉は、その男の、幼年時代、とでも言うべきであろうか、十歳前後かと推定される頃の写真であって、その子供が大勢の女のひとに取りかこまれ、（それは、その子供の姉たち、妹たち、それから、従姉妹たちかと想像される）庭園の池のほとりに、荒い縞の袴をはいて立ち、首を三十度ほど左に傾け、醜く笑っている写真である.醜く.けれども、鈍い人たち（つまり、美醜などに関心を持たぬ人たち）は、面白くも何とも無いような顔をして、「可愛い坊ちゃんですね」といい加減なお世辞を言っても、まんざら空お世辞に聞えないくらいの、謂わば通俗の「可愛らしさ」みたいな影もその子供の笑顔に無いわけではないのだが、しかし、いささかでも、美醜に就いての訓練を経て来たひとなら、ひとめ見てすぐ、「なんて、いやな子供だ」と頗る不快そうに呟き、毛虫でも払いのける時のような手つきで、その写真をほうり投げるかも. \\nUserData/split/sikkaku.pdf_0_80b0c06631.txt \\nSimilarity 866.0\\n---\\nReference 3 \\n「ではみなさんは、そういうふうに川だと云われたり、乳の流れたあとだと云われたりしていたこのぼんやりと白いものがほんとうは何かご承知ですか.」先生は、黒板に吊した大きな黒い星座の図の、上から下へ白くけぶった銀河帯のようなところを指しながら、みんなに問をかけました.カムパネルラが手をあげました.それから四五人手をあげました.ジョバンニも手をあげようとして、急いでそのままやめました.たしかにあれがみんな星だと、いつか雑誌で読んだのでしたが、このごろはジョバンニはまるで毎日教室でもねむく、本を読むひまも読む本もないので、なんだかどんなこともよくわからないという気持ちがするのでした.ところが先生は早くもそれを見附けたのでした.「ジョバンニさん.あなたはわかっているのでしょう.」. \\nUserData/split/ginga_tets.txt_0_df937e6923.txt \\nSimilarity 840.0\\n---\\n'"
      ]
     },
     "execution_count": 28,
     "metadata": {},
     "output_type": "execute_result"
    }
   ],
   "source": [
    "question=\"猫の名前は?\"\n",
    "ans=bot.ask(question,k=3,pad=False)\n",
    "ans"
   ]
  },
  {
   "cell_type": "code",
   "execution_count": 30,
   "metadata": {},
   "outputs": [
    {
     "data": {
      "text/plain": [
       "'The name of the cat is not mentioned in the given text.\\n\\nReference 1 \\n「ではみなさんは、そういうふうに川だと云われたり、乳の流れたあとだと云われたりしていたこのぼんやりと白いものがほんとうは何かご承知ですか.」先生は、黒板に吊した大きな黒い星座の図の、上から下へ白くけぶった銀河帯のようなところを指しながら、みんなに問をかけました.カムパネルラが手をあげました.それから四五人手をあげました.ジョバンニも手をあげようとして、急いでそのままやめました.たしかにあれがみんな星だと、いつか雑誌で読んだのでしたが、このごろはジョバンニはまるで毎日教室でもねむく、本を読むひまも読む本もないので、なんだかどんなこともよくわからないという気持ちがするのでした.ところが先生は早くもそれを見附けたのでした.「ジョバンニさん.あなたはわかっているのでしょう.」. \\nUserData/split/ginga_tets.txt_0_df937e6923.txt \\nSimilarity 614.0\\n---\\nReference 2 \\n私は、その男の写真を三葉、見たことがある.一葉は、その男の、幼年時代、とでも言うべきであろうか、十歳前後かと推定される頃の写真であって、その子供が大勢の女のひとに取りかこまれ、（それは、その子供の姉たち、妹たち、それから、従姉妹たちかと想像される）庭園の池のほとりに、荒い縞の袴をはいて立ち、首を三十度ほど左に傾け、醜く笑っている写真である.醜く.けれども、鈍い人たち（つまり、美醜などに関心を持たぬ人たち）は、面白くも何とも無いような顔をして、「可愛い坊ちゃんですね」といい加減なお世辞を言っても、まんざら空お世辞に聞えないくらいの、謂わば通俗の「可愛らしさ」みたいな影もその子供の笑顔に無いわけではないのだが、しかし、いささかでも、美醜に就いての訓練を経て来たひとなら、ひとめ見てすぐ、「なんて、いやな子供だ」と頗る不快そうに呟き、毛虫でも払いのける時のような手つきで、その写真をほうり投げるかも. \\nUserData/split/sikkaku.pdf_0_80b0c06631.txt \\nSimilarity 556.0\\n---\\nReference 3 \\n吾輩は猫である.名前はまだ無い.どこで生れたかとんと見当がつかぬ.何でも薄暗いじめじめした所でニャーニャー泣いていた事だけは記憶している.吾輩はここで始めて人間というものを見た.しかもあとで聞くとそれは書生という人間中で一番獰悪な種族であったそうだ.この書生というのは時々我々を捕えて煮て食うという話である.しかしその当時は何という考もなかったから別段恐しいとも思わなかった.ただ彼の掌に載せられてスーと持ち上げられた時何だかフワフワした感じがあったばかりである.. \\nUserData/split/wagahai.txt_0_8678ec4686.txt \\nSimilarity 540.0\\n---\\n'"
      ]
     },
     "execution_count": 30,
     "metadata": {},
     "output_type": "execute_result"
    }
   ],
   "source": [
    "question=\"What is the name of the cat 'wagahai'?\"\n",
    "ans=bot.ask(question,k=3,pad=True)\n",
    "ans"
   ]
  },
  {
   "cell_type": "code",
   "execution_count": 31,
   "metadata": {},
   "outputs": [
    {
     "data": {
      "text/plain": [
       "'チアントレンはレドックス活性化剤として作用し、光エネルギーを電荷分離反応に変換することができます。これにより、光触媒や光伝導材料、太陽電池などのエネルギー変換技術に応用されることがあります。また、チアントレンのレドックス活性化により、化学反応の速度が増加することがあります。さらに、チアントレンは安定性が高く、毒性が低いため、さまざまな分野で利用されています。\\n\\nReference 1 \\n基板表面改質材料を志向したヒドロキシ基含有ポリスチレン -block -ポリメタクリル酸メチルの精密合成東京工業大学物質理工学院材料系早川・難波江研究室学士 4年水嵜陸【緒言】ブロック共重合体（ BCP）のミクロ相分離構造の誘導自己組織化 （DSA）を利用した半導体微細加工技術である BCPリソグラフィーでは，パターン形成用保護膜内における構造制御が重要である.1 高解像度パターンを得るためには， ミクロ相分離構造におけるドメイン界面の基板面に対する垂直配向が求められる.そこで， BCPの各ブロック成分のシリコン基板界面への親和性を良好に，すなわち中性化するための表面改質材料（下地膜（NL））が必要となる.2 NLを塗布したシリコン基板では，成膜した保護膜内のミクロ相分離構造の垂直配向が実現される.一方で， DSAにより形成されるパターンでは，多様な形状からなる構造欠陥の低減が課題となっている.最近では， 構造欠陥が生じる主な原因の一つとして， NLの基板への定着に作用するヒドロキシ基の凝集に基づく微小なドメイン形成とその不均一性が考えられている..本論文では ，構造欠陥の低減を志向した新たな NL材料の開発を目指し ，ポリスチレン（ PS）とポリメタクリル酸メチル（ PMMA）からなる BCPのブロック鎖の結合点にヒドロキシ基を定量的に導入した PS-OH 2-PMMAの合成とNLとしての評価を目的とした.得られる BCPをNLとして用いたシリコン基板上への定着と，それに続く同一のBCPを保護膜材料に用いた薄膜の作製により，垂直配向ラメラ構造の形成に取り組んだ.【実験および結果と考察】 Figure 1.Synthetic scheme of PS -OH 2-PMMA..1 Bates, C.M.et al.Macromolecules 2014 , 47 (1), 2 -12.2 Mansky, P.et al.Science 1997 , 275 (5305), 1458 -1460.OHCl tert-BuMe2SiClimidazole, DMFOCl TBDMS.O.OH HOClC 6OTBSClC 6OTBSKI, K2CO3, DMFOO(CH2)6O O(H2C)6O TBDMS TBDMS.O.O(CH2)6O O(H2C)6O TBDMS TBDMSMePPh 3Brtert-BuOK, THFO(CH2)6O O(H2C)6O TBDMS TBDMSListyreneTHFm-1LiDPE-O TBS2DPE-O TBS2mO(CH2)6OO(CH2)6OTBDMSTBDMSLi1) MMA2) MeOHmO(CH2)6OO(CH2)6OTBDMS. \\nUserData/split/卒論要旨_水嵜_MR6(最終版).pdf_0_f3fbcc7001.txt \\nSimilarity 1682.0\\n---\\nReference 2 \\n垂直配向ラメラ構造の形成を目的に，NLの熱処理温度と時間について検討を行った.NLの熱処理時間が 1分以下の場合 ，薄膜内では水平配向されたラメラ構造の形成が示唆された.一方で，熱処理時間が2分から 15分の間では， 垂直配向が示唆される指紋状のAFM像が見られる領域と水平配向領域が混在する状態となり， 熱処理時間の延長により垂直配向領域が拡大する傾向にあることが分かった.さらに熱処理時間を長くすると ，20分以上の熱処理で基板全面において明瞭な指紋状のAFM像が観察され， 垂直配向ラメラ構造の形成が明らかとなった.以上の結果より， 熱処理時間の増加に伴いNLのシリコン基板への定着が進行するとともに， シリコン基板上に均一に定着し ，PS-OH 2-PMMAはNLとしての要求特性を満たすとともに保護膜としても利用可能であることが分かった..Figure 2.AFM phase images of parallel (NL annealed for 1 min, left), mix of parallel and perpendicular (NL annealed for 2 min, center), and perpendicular orientation (NL annealed for 30 min, right) of PS -OH 2-PMMA 41 thin films.. \\nUserData/split/卒論要旨_水嵜_MR6(最終版).pdf_2_0137adce28.txt \\nSimilarity 1656.0\\n---\\nReference 3 \\n「ではみなさんは、そういうふうに川だと云われたり、乳の流れたあとだと云われたりしていたこのぼんやりと白いものがほんとうは何かご承知ですか.」先生は、黒板に吊した大きな黒い星座の図の、上から下へ白くけぶった銀河帯のようなところを指しながら、みんなに問をかけました.カムパネルラが手をあげました.それから四五人手をあげました.ジョバンニも手をあげようとして、急いでそのままやめました.たしかにあれがみんな星だと、いつか雑誌で読んだのでしたが、このごろはジョバンニはまるで毎日教室でもねむく、本を読むひまも読む本もないので、なんだかどんなこともよくわからないという気持ちがするのでした.ところが先生は早くもそれを見附けたのでした.「ジョバンニさん.あなたはわかっているのでしょう.」. \\nUserData/split/ginga_tets.txt_0_df937e6923.txt \\nSimilarity 1434.0\\n---\\n'"
      ]
     },
     "execution_count": 31,
     "metadata": {},
     "output_type": "execute_result"
    }
   ],
   "source": [
    "question=\"チアントレンのレドックス活性化合物としての利点は?\"\n",
    "ans=bot.ask(question,k=3,pad=True)\n",
    "ans"
   ]
  },
  {
   "cell_type": "code",
   "execution_count": null,
   "metadata": {},
   "outputs": [],
   "source": []
  }
 ],
 "metadata": {
  "kernelspec": {
   "display_name": "lora",
   "language": "python",
   "name": "python3"
  },
  "language_info": {
   "codemirror_mode": {
    "name": "ipython",
    "version": 3
   },
   "file_extension": ".py",
   "mimetype": "text/x-python",
   "name": "python",
   "nbconvert_exporter": "python",
   "pygments_lexer": "ipython3",
   "version": "3.10.10"
  },
  "orig_nbformat": 4
 },
 "nbformat": 4,
 "nbformat_minor": 2
}
