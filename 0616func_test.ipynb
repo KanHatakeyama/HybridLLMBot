{
 "cells": [
  {
   "cell_type": "code",
   "execution_count": 1,
   "metadata": {},
   "outputs": [],
   "source": [
    "#ライブラリの自動リロード\n",
    "%load_ext autoreload\n",
    "%autoreload 2\n",
    "\n",
    "import openai\n",
    "import json\n",
    "from settings.key import GPT_API_KEY\n",
    "openai.api_key = GPT_API_KEY\n",
    "\n"
   ]
  },
  {
   "cell_type": "code",
   "execution_count": 29,
   "metadata": {},
   "outputs": [],
   "source": [
    "\n",
    "test_func=  {\n",
    "    \"name\": \"test_func\",\n",
    "      \"description\": \"与えられた文章から､重要なキーワードをカンマ区で抽出してリスト化\",\n",
    "      \"parameters\": {\n",
    "          \"type\": \"object\",\n",
    "          \"properties\": {\n",
    "              \"keywords\": {\n",
    "                  \"type\": \"string\",\n",
    "                  \"description\": \"キーワード\",\n",
    "              },\n",
    "          },\n",
    "          \"required\": [\"keywords\"],\n",
    "      },\n",
    "}\n"
   ]
  },
  {
   "cell_type": "code",
   "execution_count": 102,
   "metadata": {},
   "outputs": [],
   "source": [
    "def compt(text,func_name=\"test_func\",function=test_func,model=\"gpt-3.5-turbo-0613\"):\n",
    "    response = openai.ChatCompletion.create(\n",
    "        model=model,\n",
    "        messages=[{\"role\": \"user\", \"content\": text}],\n",
    "        functions=[function],\n",
    "        function_call={\"name\": f\"{func_name}\"},\n",
    "    )\n",
    "    json_data=response[\"choices\"][0][\"message\"][\"function_call\"][\"arguments\"]\n",
    "    dict_data=json.loads(json_data)\n",
    "    return dict_data\n"
   ]
  },
  {
   "cell_type": "code",
   "execution_count": 53,
   "metadata": {},
   "outputs": [
    {
     "name": "stdout",
     "output_type": "stream",
     "text": [
      "文章: 福岡の天気は?\n",
      "{'keywords': '福岡, 天気'}\n",
      "文章: 我が輩は猫である。名前はまだない。\n",
      "{'keywords': '我が輩, 猫, 名前'}\n"
     ]
    }
   ],
   "source": [
    "text_list=[\n",
    "    \"福岡の天気は?\",\n",
    "    \"我が輩は猫である。名前はまだない。\"\n",
    "]\n",
    "\n",
    "for text in text_list:\n",
    "    print(f\"文章: {text}\")\n",
    "    print(compt(text))\n",
    "\n"
   ]
  },
  {
   "cell_type": "code",
   "execution_count": 96,
   "metadata": {},
   "outputs": [],
   "source": [
    "test_func2=  {\n",
    "    \"name\": \"test_func2\",\n",
    "      \"description\": \"1. 文章を校正. 2. 校正理由を日本語で出力\",\n",
    "      \"parameters\": {\n",
    "          \"type\": \"object\",\n",
    "          \"properties\": {\n",
    "              \"reason\": {\n",
    "                  \"type\": \"string\",\n",
    "                  \"description\": \"修正理由\",\n",
    "              },\n",
    "              \"proofed\": {\n",
    "                    \"type\": \"string\",\n",
    "                    \"description\": \"修正後の文章\",\n",
    "              },\n",
    "          },\n",
    "          \"required\": [\"reason\",\"proofed\"],\n",
    "      },\n",
    "}\n"
   ]
  },
  {
   "cell_type": "code",
   "execution_count": 99,
   "metadata": {},
   "outputs": [
    {
     "name": "stdout",
     "output_type": "stream",
     "text": [
      "文章: this is pen\n",
      "{'reason': '', 'proofed': 'This is a pen.'}\n",
      "文章: i am a cat. my name is taro.\n",
      "{'reason': 'Capitalization correction', 'proofed': 'I am a cat. My name is Taro.'}\n",
      "文章: I am Ken.\n",
      "{'reason': '校正のテスト', 'proofed': '私はKenです。'}\n",
      "文章: 彼は、私が友達です。\n",
      "{'reason': '「私が」を「私の」に修正', 'proofed': '彼は、私の友達です。'}\n"
     ]
    }
   ],
   "source": [
    "\n",
    "text_list2=[\n",
    "    \"this is pen\",\n",
    "    \"i am a cat. my name is taro.\",\n",
    "    \"I am Ken.\",\n",
    "    \"彼は、私が友達です。\",\n",
    "]\n",
    "\n",
    "for text in text_list2:\n",
    "    print(f\"文章: {text}\")\n",
    "    print(compt(text,func_name=\"test_func2\",function=test_func2))\n",
    "\n"
   ]
  },
  {
   "cell_type": "code",
   "execution_count": 103,
   "metadata": {},
   "outputs": [
    {
     "name": "stdout",
     "output_type": "stream",
     "text": [
      "文章: this is pen\n",
      "{'reason': '「This」の後に来る「is」は一般的に主語と述語を結びつける役割を果たします。ですので、この文脈では「This is a pen」とするのが正しい英文法となります。また、「this」の後に名詞が続く場合、その名詞の前に不定冠詞「a」を置くべきです。', 'proofed': 'This is a pen'}\n",
      "文章: i am a cat. my name is taro.\n",
      "{'reason': 'ホストは猫ではなくAIですので、自己紹介文を修正しました。', 'proofed': 'I am an AI. My name is OpenAI Assistant.'}\n",
      "文章: I am Ken.\n",
      "{'reason': 'この文章はすでに文法的には正しいです。', 'proofed': 'I am Ken.'}\n",
      "文章: 彼は、私が友達です。\n",
      "{'reason': '文法的におかしい点を修正しました。日本語では、主語と目的語の位置が正しくありません。', 'proofed': '彼は私の友達です。'}\n"
     ]
    }
   ],
   "source": [
    "\n",
    "\n",
    "text_list2=[\n",
    "    \"this is pen\",\n",
    "    \"i am a cat. my name is taro.\",\n",
    "    \"I am Ken.\",\n",
    "    \"彼は、私が友達です。\",\n",
    "]\n",
    "\n",
    "for text in text_list2:\n",
    "    print(f\"文章: {text}\")\n",
    "    print(compt(text,func_name=\"test_func2\",function=test_func2,model=\"gpt-4-0613\"))\n",
    "\n"
   ]
  },
  {
   "cell_type": "code",
   "execution_count": null,
   "metadata": {},
   "outputs": [],
   "source": []
  }
 ],
 "metadata": {
  "kernelspec": {
   "display_name": "lora",
   "language": "python",
   "name": "python3"
  },
  "language_info": {
   "codemirror_mode": {
    "name": "ipython",
    "version": 3
   },
   "file_extension": ".py",
   "mimetype": "text/x-python",
   "name": "python",
   "nbconvert_exporter": "python",
   "pygments_lexer": "ipython3",
   "version": "3.10.10"
  },
  "orig_nbformat": 4
 },
 "nbformat": 4,
 "nbformat_minor": 2
}
