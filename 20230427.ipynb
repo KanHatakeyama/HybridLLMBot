{
 "cells": [
  {
   "cell_type": "code",
   "execution_count": 6,
   "metadata": {},
   "outputs": [
    {
     "name": "stdout",
     "output_type": "stream",
     "text": [
      "The autoreload extension is already loaded. To reload it, use:\n",
      "  %reload_ext autoreload\n"
     ]
    }
   ],
   "source": [
    "#モジュールを自動リロード\n",
    "%load_ext autoreload\n",
    "%autoreload 2\n",
    "\n",
    "from LLMSearch.RWKVEmbedding import RWKVEmbedding"
   ]
  },
  {
   "cell_type": "code",
   "execution_count": 36,
   "metadata": {},
   "outputs": [],
   "source": [
    "import json\n",
    "with open('settings/settings.json') as f:\n",
    "    settings = json.load(f)\n"
   ]
  },
  {
   "cell_type": "code",
   "execution_count": 8,
   "metadata": {},
   "outputs": [
    {
     "name": "stdout",
     "output_type": "stream",
     "text": [
      "RWKV_JIT_ON 1 RWKV_CUDA_ON 0 RESCALE_LAYER 0\n",
      "\n",
      "Loading /media/kh/python/2023/RWKV-4b-Pile-3B-20230228-7963.pth ...\n",
      "Strategy: (total 32+1=33 layers)\n",
      "* cpu [float32, float32], store 33 layers\n",
      "0-cpu-float32-float32 1-cpu-float32-float32 2-cpu-float32-float32 3-cpu-float32-float32 4-cpu-float32-float32 5-cpu-float32-float32 6-cpu-float32-float32 7-cpu-float32-float32 8-cpu-float32-float32 9-cpu-float32-float32 10-cpu-float32-float32 11-cpu-float32-float32 12-cpu-float32-float32 13-cpu-float32-float32 14-cpu-float32-float32 15-cpu-float32-float32 16-cpu-float32-float32 17-cpu-float32-float32 18-cpu-float32-float32 19-cpu-float32-float32 20-cpu-float32-float32 21-cpu-float32-float32 22-cpu-float32-float32 23-cpu-float32-float32 24-cpu-float32-float32 25-cpu-float32-float32 26-cpu-float32-float32 27-cpu-float32-float32 28-cpu-float32-float32 29-cpu-float32-float32 30-cpu-float32-float32 31-cpu-float32-float32 32-cpu-float32-float32 \n",
      "emb.weight                        f32      cpu  50277  2560 \n",
      "blocks.0.ln1.weight               f32      cpu   2560       \n",
      "blocks.0.ln1.bias                 f32      cpu   2560       \n",
      "blocks.0.ln2.weight               f32      cpu   2560       \n",
      "blocks.0.ln2.bias                 f32      cpu   2560       \n",
      "blocks.0.att.time_decay           f32      cpu   2560       \n",
      "blocks.0.att.time_first           f32      cpu   2560       \n",
      "blocks.0.att.time_mix_k           f32      cpu   2560       \n",
      "blocks.0.att.time_mix_v           f32      cpu   2560       \n",
      "blocks.0.att.time_mix_r           f32      cpu   2560       \n",
      "blocks.0.att.time_mix_qq          f32      cpu   2560       \n",
      "blocks.0.att.time_mix_kk          f32      cpu   2560       \n",
      "blocks.0.att.time_mix_vv          f32      cpu   2560       \n",
      "blocks.0.att.att_mask             f32      cpu   1024  1024 \n",
      "blocks.0.att.key.weight           f32      cpu   2560  2560 \n",
      "blocks.0.att.value.weight         f32      cpu   2560  2560 \n",
      "blocks.0.att.receptance.weight    f32      cpu   2560  2560 \n",
      "blocks.0.att.output.weight        f32      cpu   2560  2560 \n",
      "blocks.0.att.qq.weight            f32      cpu    160  2560 \n",
      "blocks.0.att.kk.weight            f32      cpu    160  2560 \n",
      "blocks.0.att.vv.weight            f32      cpu    160  2560 \n",
      "blocks.0.att.oo.weight            f32      cpu   2560   160 \n",
      "blocks.0.ffn.time_mix_k           f32      cpu   2560       \n",
      "blocks.0.ffn.time_mix_r           f32      cpu   2560       \n",
      "blocks.0.ffn.key.weight           f32      cpu   2560 10240 \n",
      "blocks.0.ffn.receptance.weight    f32      cpu   2560  2560 \n",
      "blocks.0.ffn.value.weight         f32      cpu  10240  2560 \n",
      "............................................................................................................................................................................................................................................................................................................................................................................................................................................................................................................................................................................................................................................................................................................................................................................................................\n",
      "blocks.31.ln1.weight              f32      cpu   2560       \n",
      "blocks.31.ln1.bias                f32      cpu   2560       \n",
      "blocks.31.ln2.weight              f32      cpu   2560       \n",
      "blocks.31.ln2.bias                f32      cpu   2560       \n",
      "blocks.31.att.time_decay          f32      cpu   2560       \n",
      "blocks.31.att.time_first          f32      cpu   2560       \n",
      "blocks.31.att.time_mix_k          f32      cpu   2560       \n",
      "blocks.31.att.time_mix_v          f32      cpu   2560       \n",
      "blocks.31.att.time_mix_r          f32      cpu   2560       \n",
      "blocks.31.att.time_mix_qq         f32      cpu   2560       \n",
      "blocks.31.att.time_mix_kk         f32      cpu   2560       \n",
      "blocks.31.att.time_mix_vv         f32      cpu   2560       \n",
      "blocks.31.att.att_mask            f32      cpu   1024  1024 \n",
      "blocks.31.att.key.weight          f32      cpu   2560  2560 \n",
      "blocks.31.att.value.weight        f32      cpu   2560  2560 \n",
      "blocks.31.att.receptance.weight   f32      cpu   2560  2560 \n",
      "blocks.31.att.output.weight       f32      cpu   2560  2560 \n",
      "blocks.31.att.qq.weight           f32      cpu    160  2560 \n",
      "blocks.31.att.kk.weight           f32      cpu    160  2560 \n",
      "blocks.31.att.vv.weight           f32      cpu    160  2560 \n",
      "blocks.31.att.oo.weight           f32      cpu   2560   160 \n",
      "blocks.31.ffn.time_mix_k          f32      cpu   2560       \n",
      "blocks.31.ffn.time_mix_r          f32      cpu   2560       \n",
      "blocks.31.ffn.key.weight          f32      cpu   2560 10240 \n",
      "blocks.31.ffn.receptance.weight   f32      cpu   2560  2560 \n",
      "blocks.31.ffn.value.weight        f32      cpu  10240  2560 \n",
      "ln_out.weight                     f32      cpu   2560       \n",
      "ln_out.bias                       f32      cpu   2560       \n",
      "head.weight                       f32      cpu   2560 50277 \n",
      "RWKV initiated successfully\n"
     ]
    }
   ],
   "source": [
    "embedder=RWKVEmbedding(settings)"
   ]
  },
  {
   "cell_type": "code",
   "execution_count": 32,
   "metadata": {},
   "outputs": [
    {
     "name": "stdout",
     "output_type": "stream",
     "text": [
      "UserData/split/ginga_tets.txt_chunk_0.txt\n",
      "UserData/split/neko.txt_chunk_0.txt\n"
     ]
    },
    {
     "name": "stderr",
     "output_type": "stream",
     "text": [
      "[nltk_data] Downloading package punkt to /home/kh/nltk_data...\n",
      "[nltk_data]   Package punkt is already up-to-date!\n"
     ]
    }
   ],
   "source": [
    "from LLMSearch.TextSplitter import auto_txt_split\n",
    "\n",
    "glob_path=settings[\"data_path\"] + \"/texts/*.txt\"\n",
    "chunk_size_limit= settings[\"chunk_size_limit\"]\n",
    "auto_txt_split(glob_path, chunk_size_limit,init=True)"
   ]
  },
  {
   "cell_type": "code",
   "execution_count": 33,
   "metadata": {},
   "outputs": [
    {
     "data": {
      "text/plain": [
       "['UserData/split/ginga_tets.txt_chunk_0.txt',\n",
       " 'UserData/split/ginga_tets.txt_chunk_1.txt',\n",
       " 'UserData/split/neko.txt_chunk_0.txt']"
      ]
     },
     "execution_count": 33,
     "metadata": {},
     "output_type": "execute_result"
    }
   ],
   "source": [
    "import glob\n",
    "chunk_path_glob=settings[\"data_path\"] + \"/split/*.txt\"\n",
    "chunk_path_list=glob.glob(chunk_path_glob)\n",
    "chunk_path_list"
   ]
  },
  {
   "cell_type": "code",
   "execution_count": 57,
   "metadata": {},
   "outputs": [
    {
     "name": "stderr",
     "output_type": "stream",
     "text": [
      "100%|██████████| 3/3 [00:06<00:00,  2.09s/it]\n"
     ]
    }
   ],
   "source": [
    "#chunk_path_listからそれぞれデータを読み込み､RWKVによる埋め込みを行う\n",
    "import numpy as np\n",
    "from tqdm import tqdm\n",
    "import faiss\n",
    "\n",
    "class TextSearcher:\n",
    "    def __init__(self,embedder,dim,base_path) -> None:\n",
    "        self.embedder=embedder\n",
    "        self.base_path=base_path\n",
    "        self.path_list=[]\n",
    "        self.index=faiss.IndexFlatL2(dim)\n",
    "\n",
    "    def calc_text_file(self,path):\n",
    "        if path in self.path_list:\n",
    "            return\n",
    "\n",
    "        with open(path, 'r') as f:\n",
    "            text = f.read()\n",
    "        vec=embedder(text)\n",
    "\n",
    "        self.index.add(vec.astype('float32'))\n",
    "        self.path_list.append(path)\n",
    "        return vec\n",
    "\n",
    "dim=settings[\"EMBED_DIM\"]\n",
    "searcher=TextSearcher(embedder,settings[\"EMBED_DIM\"],settings[\"data_path\"])\n",
    "for path in tqdm(chunk_path_list):\n",
    "    searcher.calc_text_file(path)"
   ]
  },
  {
   "cell_type": "code",
   "execution_count": 55,
   "metadata": {},
   "outputs": [
    {
     "data": {
      "text/plain": [
       "array([[2]])"
      ]
     },
     "execution_count": 55,
     "metadata": {},
     "output_type": "execute_result"
    }
   ],
   "source": [
    "D,I=index.search(vec,1)\n",
    "I"
   ]
  },
  {
   "cell_type": "code",
   "execution_count": 56,
   "metadata": {},
   "outputs": [],
   "source": [
    "faiss.write_index(index, settings[\"data_path\"] + \"/meta/index.index\")"
   ]
  },
  {
   "cell_type": "code",
   "execution_count": null,
   "metadata": {},
   "outputs": [],
   "source": []
  }
 ],
 "metadata": {
  "kernelspec": {
   "display_name": "lora",
   "language": "python",
   "name": "python3"
  },
  "language_info": {
   "codemirror_mode": {
    "name": "ipython",
    "version": 3
   },
   "file_extension": ".py",
   "mimetype": "text/x-python",
   "name": "python",
   "nbconvert_exporter": "python",
   "pygments_lexer": "ipython3",
   "version": "3.10.10"
  },
  "orig_nbformat": 4
 },
 "nbformat": 4,
 "nbformat_minor": 2
}
