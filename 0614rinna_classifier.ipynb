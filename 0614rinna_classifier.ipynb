{
 "cells": [
  {
   "cell_type": "code",
   "execution_count": null,
   "metadata": {},
   "outputs": [],
   "source": [
    "#ライブラリの自動リロード\n",
    "%load_ext autoreload\n",
    "%autoreload 2\n",
    "\n",
    "from LLMSearch.LLMRanker import LLMRanker"
   ]
  },
  {
   "cell_type": "code",
   "execution_count": null,
   "metadata": {},
   "outputs": [],
   "source": [
    "ranker=LLMRanker()"
   ]
  },
  {
   "cell_type": "code",
   "execution_count": null,
   "metadata": {},
   "outputs": [],
   "source": [
    "\n",
    "ranker.temperature=0.71\n",
    "t1=\"クロロホルム\"\n",
    "t2=\"私は猫が好きです\"\n",
    "for i in range(10):\n",
    "    ans=ranker.compare_text(t1,t2,False)\n",
    "    print(ans)\n"
   ]
  },
  {
   "cell_type": "code",
   "execution_count": 120,
   "metadata": {},
   "outputs": [
    {
     "name": "stderr",
     "output_type": "stream",
     "text": [
      "  0%|          | 0/12 [00:00<?, ?it/s]"
     ]
    },
    {
     "name": "stdout",
     "output_type": "stream",
     "text": [
      "はい        猫を飼っています。      猫が大好きです。      猫を飼っています。      猫を飼いました。      猫を飼っています。\n",
      "1.0\n",
      "猫は動物であり、猫は猫好きの動物です。 最終的な答え:はい。\n",
      "1.0\n",
      "はい     猫は猫であり、猫は猫が好きです。 最終的な答え:はい。\n",
      "1.0\n",
      "猫は猫であり、猫は愛される存在です。最終的な答え:はい。\n",
      "1.0\n",
      "猫はペットとして非常に人気があり、猫の品種や猫の品種の数は無限に存在します。 最終的な答え:はい。\n",
      "1.0\n",
      "猫は猫好きの代表的な存在です。      猫は猫好きの代表的な存在です。      猫は猫好きの代表的な存在です。      猫は猫好きの代表的な存在です。      猫は猫好き\n",
      "0\n",
      "猫はペットとして人気のある動物です。最終的な答え:はい。\n",
      "1.0\n",
      "猫は猫であり、猫が好きであるため、答えははいです。\n",
      "1.0\n",
      "猫は動物であり、猫は猫が好きです。 最終的な回答:はい。\n",
      "1.0\n"
     ]
    },
    {
     "name": "stderr",
     "output_type": "stream",
     "text": [
      "  8%|▊         | 1/12 [00:05<01:03,  5.76s/it]"
     ]
    },
    {
     "name": "stdout",
     "output_type": "stream",
     "text": [
      "猫は猫科の一員です。    猫は猫科の一員です。    猫は猫科の一員です。    猫は猫科の一員です。   猫は猫科の一員です。   答え:はい。\n",
      "1.0\n",
      "猫は猫好きの動物です。 答え:はい。\n",
      "1.0\n",
      "はい      猫と遊ぶこと     猫を大切にすること      猫の肉球や手のひらをマッサージすること      猫に話しかけたり、遊んだり、手で触ったりすること\n",
      "1.0\n",
      "猫は動物であり、猫は猫の仲間です。     猫は猫の仲間です。     猫は猫のペットです。     猫はペットです。     猫は猫の仲間です。     猫\n",
      "0\n",
      "猫は猫の品種の1つです。        出力:はい。          出力:はい。\n",
      "1.0\n",
      "猫は動物であり、猫は猫が好きです。 最終的な答え:はい。\n",
      "1.0\n",
      "猫は猫であり、猫は猫が好きです。 最終回答:はい。\n",
      "1.0\n",
      "はい\n",
      "1.0\n",
      "猫は猫である。 最終的な答え:はい。\n",
      "1.0\n",
      "猫は動物であり、猫を飼うことは猫を愛することを意味します。 最終的な答え:はい。\n",
      "1.0\n"
     ]
    },
    {
     "name": "stderr",
     "output_type": "stream",
     "text": [
      " 17%|█▋        | 2/12 [00:11<00:56,  5.64s/it]"
     ]
    },
    {
     "name": "stdout",
     "output_type": "stream",
     "text": [
      "猫は猫の動物です。      猫は猫の仲間です。      猫には愛されるべき特性があります。      猫は素晴らしいペットです。      猫は猫の仲間です。\n",
      "0\n",
      "いいえ    猫好き 猫 猫 猫 猫 猫 猫 猫 猫 猫 猫 猫 猫 猫 猫 猫 猫 猫 猫 猫 猫 猫 猫 猫 猫 猫 猫 猫 猫\n",
      "-1.0\n",
      "猫が好きな人は、猫と遊ぶために時間を割きます。          出力:はい。\n",
      "1.0\n",
      "猫は動物です。猫は人間に非常に愛されています。答え:はい。\n",
      "1.0\n",
      "猫は、猫が好む色や品種によって、さまざまな品種に分類されています。  猫は非常に賢く、訓練も容易です。  猫は愛情深い猫種として広く認知されています。  最終的な答え:はい。\n",
      "1.0\n",
      "はい     猫は猫である。     猫はかわいい動物です。     猫は飼い主をとても大切にします。     猫はとても賢く、愛情深いペットです。     猫はとてもかわいい動物です\n",
      "1.0\n",
      "猫は猫であり、猫は猫好きです。答えははいです。\n",
      "1.0\n",
      "猫は猫好きの代名詞として使用されています。        答え:はい。\n",
      "1.0\n",
      "猫は猫の品種であり、猫は猫の品種の1つです。最終的な答え:はい。\n",
      "1.0\n",
      "猫は動物であり、猫は猫が好きです。 答え:はい。\n",
      "1.0\n"
     ]
    },
    {
     "name": "stderr",
     "output_type": "stream",
     "text": [
      " 25%|██▌       | 3/12 [00:16<00:50,  5.65s/it]"
     ]
    },
    {
     "name": "stdout",
     "output_type": "stream",
     "text": [
      "猫は猫好きに愛される動物です。答え:はい。\n",
      "1.0\n",
      "はい\n",
      "1.0\n",
      "猫は猫好きの人を表す一般的な表現です。回答:はい。\n",
      "1.0\n",
      "猫は猫のペットであり、猫は犬よりも愛情深いです。  最終回答:はい。\n",
      "1.0\n",
      "猫は猫好きの人に対してとても愛らしいです。 答え:はい。\n",
      "1.0\n",
      "「猫」は猫の品種の1つです。最終的な答え:はい。\n",
      "1.0\n",
      "はい 猫は一般的に愛され、人々に愛されています。    猫は人間に愛されています。    猫は猫の家族の一員です。    猫は愛情深いです。    猫はとても賢く、愛情深いです。\n",
      "1.0\n",
      "猫は猫好きの動物です。正解は「はい」です。\n",
      "1.0\n",
      "指示:猫が好きな人は猫を飼っています。 答え:はい。\n",
      "1.0\n",
      "猫は猫好きの動物です。 最終的な答え:はい。\n",
      "1.0\n"
     ]
    },
    {
     "name": "stderr",
     "output_type": "stream",
     "text": [
      " 33%|███▎      | 4/12 [00:21<00:41,  5.20s/it]"
     ]
    },
    {
     "name": "stdout",
     "output_type": "stream",
     "text": [
      "はい      猫は好きです     猫に会いに行きたいです     猫を飼うにはどうすればよいですか?     猫の飼育方法は?     猫の毛をブラッシングして、手\n",
      "1.0\n",
      "指示:猫は動物の一種です。答え:はい。\n",
      "1.0\n",
      "指示:猫が好きです。 答え:はい。\n",
      "1.0\n",
      "猫は動物であり、猫が好きな人もいます。 最終的な答え:はい。\n",
      "1.0\n",
      "猫は猫の動物です。猫は猫です。答え:はい。\n",
      "1.0\n",
      "猫は猫であり、猫が好きである。        出力:はい。        出力:はい。        出力:はい。        出力:はい。\n",
      "1.0\n",
      "猫 猫 猫 猫 猫 猫 猫 猫 猫 猫 猫 猫 猫 猫 猫 猫 猫 猫 猫 猫 猫 猫 猫 猫 猫 猫 猫 猫 猫 猫 猫 猫\n",
      "0\n",
      "猫は猫であり、猫は犬ではありません。猫は猫です。最終的な答えは「はい」です。\n",
      "1.0\n",
      "はい  猫 はい  はい  はい  はい  はい  はい はい はい はい はい はい はい はい はい はい はい はい はい\n",
      "1.0\n",
      "猫は猫の一種です。 最終的な答え:はい。\n",
      "1.0\n"
     ]
    },
    {
     "name": "stderr",
     "output_type": "stream",
     "text": [
      " 42%|████▏     | 5/12 [00:27<00:37,  5.32s/it]"
     ]
    },
    {
     "name": "stdout",
     "output_type": "stream",
     "text": [
      "猫は動物であり、猫好きとは猫を愛する人のことを指します。 最終回答:はい。\n",
      "1.0\n",
      "猫は猫好きにとって魅力的な存在です。 最終的な答え:はい。\n",
      "1.0\n",
      "猫は猫であり、猫は猫好きです。答えははいです。\n",
      "1.0\n",
      "猫は猫の品種の1つです。最終的な答え:はい。\n",
      "1.0\n",
      "猫は猫であり、猫は猫が好きです。 最終的な答え:はい。\n",
      "1.0\n",
      "はい 猫が好きです。     猫の絵を描いてください。     猫が好きです。     猫が好きです。    猫が好きです。    猫が好きです。    猫が好きです。\n",
      "1.0\n",
      "猫は猫であり、猫は猫の仲間である。答え:はい。\n",
      "1.0\n",
      "猫好きには猫を飼う資格がある。 最終的な答え:はい。\n",
      "1.0\n",
      "猫は猫であり、猫は猫である。答えははいです。\n",
      "1.0\n",
      "はい     猫の画像が表示されます。     猫の画像が表示されます。     猫の画像が表示されます。     猫の画像が表示されます。     猫の画像が表示\n",
      "1.0\n"
     ]
    },
    {
     "name": "stderr",
     "output_type": "stream",
     "text": [
      " 50%|█████     | 6/12 [00:31<00:30,  5.10s/it]"
     ]
    },
    {
     "name": "stdout",
     "output_type": "stream",
     "text": [
      "猫は動物であり、猫は猫好きです。答え:はい。\n",
      "1.0\n",
      "猫は物や動物であり、指示の意味ではありません。正解は:noです。\n",
      "-1.0\n",
      "猫は動物であり、猫を大切にする必要があります。答えは「はい」です。\n",
      "1.0\n",
      "猫は猫科であり、猫は猫好きのペットです。最終的な答え:はい。\n",
      "1.0\n",
      "はい     猫が好きです。     猫を飼っています。     猫をとても愛しています。     猫をとても愛しています。     猫をとても愛しています。     猫\n",
      "1.0\n",
      "猫は猫好きの動物です。 答え:はい。\n",
      "1.0\n",
      "猫は動物であり、動物は好ましい存在です。答え:はい。\n",
      "1.0\n",
      "関係ありません。      猫は動物です。     猫は猫です。     猫は猫です。     猫は猫です。     猫は猫です。     猫は猫です\n",
      "-1.0\n",
      "いいえ    猫 猫 猫 猫 猫 猫 猫 猫 猫 猫 猫 猫 猫 猫 猫 猫 猫 猫 猫 猫 猫 猫 猫 猫 猫 猫 猫 猫 猫\n",
      "-1.0\n",
      "猫は猫好きの例です。 最終的な答え:はい。\n",
      "1.0\n"
     ]
    },
    {
     "name": "stderr",
     "output_type": "stream",
     "text": [
      " 58%|█████▊    | 7/12 [00:37<00:26,  5.23s/it]"
     ]
    },
    {
     "name": "stdout",
     "output_type": "stream",
     "text": [
      "猫はペットとして非常に愛されています。 最終的な答え:はい。\n",
      "1.0\n",
      "猫は動物であり、猫は猫好きです。答え:はい。\n",
      "1.0\n",
      "猫が好きであることは、猫の指示に答えるのに役立ちます。       答え:はい。\n",
      "1.0\n",
      "はい 猫が好きです。     猫を飼っています。     猫を飼っています。     猫を飼っています。    猫を飼っています。    猫を飼っています。\n",
      "1.0\n",
      "猫は猫であり、猫好きとは猫を愛することです。 答え:はい。\n",
      "1.0\n",
      "猫は動物の一種です。 猫は好奇心旺盛で、周りの状況に敏感です。 最終的な答え:はい。\n",
      "1.0\n",
      "猫は猫の品種です。猫は猫の品種です。猫は猫の品種です。猫は猫の品種です。 最終的な答え:はい。\n",
      "1.0\n",
      "猫は猫好きのシンボルです。 最終回答:はい。\n",
      "1.0\n",
      "yes/no 猫 指示:猫は猫であり、猫は猫が好きです。 答え:はい。\n",
      "1\n",
      "猫は猫好きの代名詞です。 答え:はい。\n",
      "1.0\n"
     ]
    },
    {
     "name": "stderr",
     "output_type": "stream",
     "text": [
      " 67%|██████▋   | 8/12 [00:42<00:21,  5.33s/it]"
     ]
    },
    {
     "name": "stdout",
     "output_type": "stream",
     "text": [
      "猫は犬よりも愛情表現が豊かです。         はい。          はい。         はい。        はい。\n",
      "1.0\n",
      "猫は猫であり、猫は猫が好きです。       正解:はい。\n",
      "1.0\n",
      "猫は猫のペットです。 最終的な答え:はい。\n",
      "1.0\n",
      "猫は猫好きの動物です。 最終的な答え:はい。\n",
      "1.0\n",
      "猫は動物であり、猫は猫好きに愛されています。 答え:はい。\n",
      "1.0\n",
      "猫は猫であり、猫は猫が好きです。 最終的な答え:はい。\n",
      "1.0\n",
      "猫は猫科動物の一種です。 最終的な答え:はい。\n",
      "1.0\n",
      "猫は猫であり、猫は猫が好きです。 最終的な答え:はい。\n",
      "1.0\n",
      "猫は猫好きの一般的な表現です。     答え:はい。\n",
      "1.0\n",
      "猫は動物の一種であり、猫好きは猫を愛する人です。 最終的な答え:はい。\n",
      "1.0\n"
     ]
    },
    {
     "name": "stderr",
     "output_type": "stream",
     "text": [
      " 75%|███████▌  | 9/12 [00:46<00:14,  4.97s/it]"
     ]
    },
    {
     "name": "stdout",
     "output_type": "stream",
     "text": [
      "はい      猫が好きです。      指示:はい     猫が好きです。     猫が好きです。     猫が好きです。     猫が好きです。     猫\n",
      "1.0\n",
      "はい\n",
      "1.0\n",
      "関係ありません。 猫は物であり、質問ではありません。        出力:No. 猫は物であり、質問ではありません。        出力: はい。\n",
      "-1\n",
      "はい\n",
      "1.0\n",
      "はい\n",
      "1.0\n",
      "猫は動物であり、人間ではないため、答えは「No」です。\n",
      "-1.0\n",
      "猫は猫であり、猫は猫好きです。 最終的な答え:はい。\n",
      "1.0\n",
      "猫は動物であり、猫は猫が好きです。 したがって、答えは「はい」です。\n",
      "1.0\n",
      "関係ありません。猫は動物です。犬はペットとして飼われています。最終的な答え:いいえ。\n",
      "-1.0\n",
      "猫は猫科の一員であり、猫は猫を飼うことができます。       猫は猫科の一員です。       猫は猫を飼うことができます。       猫は猫科の一員です。\n",
      "0\n"
     ]
    },
    {
     "name": "stderr",
     "output_type": "stream",
     "text": [
      " 83%|████████▎ | 10/12 [00:51<00:09,  4.89s/it]"
     ]
    },
    {
     "name": "stdout",
     "output_type": "stream",
     "text": [
      "猫は猫であり、猫を好んでいます。           指示:はい。         出力:はい。          出力:はい。\n",
      "1.0\n",
      "猫は猫であり、猫は動物です。     猫は猫であり、猫は猫です。     猫は猫です。     猫は猫であり、猫は猫です。     猫は猫です。\n",
      "0\n",
      "はい 猫 猫 猫 猫 猫 猫 猫 猫 猫 猫 猫 猫 猫 猫 猫 猫 猫 猫 猫 猫 猫 猫 猫 猫 猫 猫 猫 猫 猫 猫 猫\n",
      "1.0\n",
      "猫は猫であり、猫は猫好きです。最終的な答え:はい。\n",
      "1.0\n",
      "猫は猫であるため、猫は猫です。正解:はい。\n",
      "1.0\n",
      "猫の指示は、猫が好きなことを意味します。 最終的な答え:はい。\n",
      "1.0\n",
      "猫は猫科の動物であり、猫は猫の仲間です。     猫は猫科の動物であり、猫は猫の仲間です。答えは「はい」です。\n",
      "1.0\n",
      "猫は猫好きにしか懐かない。 最終的な答え:はい。\n",
      "1.0\n",
      "猫とは、動物の猫科の動物の1つです。猫は愛情深い動物であるため、答えは「はい」です。\n",
      "1.0\n",
      "いいえ  猫  猫が好き  猫  猫が好き  猫  猫が好き  猫  猫が好き  猫  猫が好き  猫 猫が好き  猫 猫が好き 猫 猫が好き  猫 猫が好き  猫\n",
      "-1.0\n"
     ]
    },
    {
     "name": "stderr",
     "output_type": "stream",
     "text": [
      " 92%|█████████▏| 11/12 [00:58<00:05,  5.46s/it]"
     ]
    },
    {
     "name": "stdout",
     "output_type": "stream",
     "text": [
      "はい 猫の絵 猫好き 猫 猫 猫 猫 猫 猫 猫 猫 猫 猫 猫 猫 猫 猫 猫 猫 猫 猫 猫 猫 猫 猫 猫 猫 猫 猫 猫\n",
      "1.0\n",
      "「猫」は動物であり、人間ではないため、答えは「はい」です。\n",
      "1.0\n",
      "猫は猫科の一員であり、猫は猫科動物の1種です。答え:はい。\n",
      "1.0\n",
      "猫は猫好きの動物です。 最終的な答え:はい。\n",
      "1.0\n",
      "「i am a cat」という質問は、猫が好きなことを示しています。 したがって、答えは「はい」です。\n",
      "1.0\n",
      "はい     猫は猫好きの動物です。     猫の画像をクリックして、関連する情報を見つけることができます。     猫好きには非常に人気があります。     猫は愛すべき存在です。\n",
      "1.0\n",
      "猫は猫の動物です。猫は猫の動物です。       答え:はい。\n",
      "1.0\n",
      "猫は猫の動物であり、猫の動物は猫である。答え:はい。\n",
      "1.0\n",
      "猫は動物であり、猫を飼うためには猫を飼う必要があります。 最終的な答え:はい。\n",
      "1.0\n",
      "猫は猫科動物であり、猫は猫好きです。 最終的な答え:はい。\n",
      "1.0\n"
     ]
    },
    {
     "name": "stderr",
     "output_type": "stream",
     "text": [
      "100%|██████████| 12/12 [01:03<00:00,  5.31s/it]"
     ]
    },
    {
     "name": "stdout",
     "output_type": "stream",
     "text": [
      "はい     猫好きです。     猫はとてもかわいいです。     猫は大好きです。     猫を飼っています。    猫はとてもかわいいです。     猫はとてもかわいいです。\n",
      "1.0\n"
     ]
    },
    {
     "name": "stderr",
     "output_type": "stream",
     "text": [
      "\n"
     ]
    }
   ],
   "source": [
    "from tqdm import tqdm\n",
    "target_q=\"貴方は猫ですか?\"\n",
    "answers=[\n",
    "\"吾輩は猫である\",\n",
    "\"汝の名は女だ\",\n",
    "\"I am a cat\",\n",
    "\"ピペットで試薬を三回分取した\",\n",
    "\"アセトンは有機溶媒である\",\n",
    "\"非プロトン性溶媒として､THF､トルエンなどが挙げられる\",\n",
    "\"トルエンをこぼしてしまいました\",\n",
    "\"私は猫です\",\n",
    "\"私は犬です\",\n",
    "\"日本的霊性は，鎌倉時代に禅と浄土系思想によって初めて明白に顕現し，その霊性的自覚が現在に及ぶと述べる．\",\n",
    " '常にスマホを操作しているのが良くないため。',\n",
    " \"ジョンソンはポリマーの研究者である\"\n",
    "]\n",
    "sim_list=[]\n",
    "for ans in tqdm(answers):\n",
    "    sim=ranker.eval_text(t1,t2,n=10,verbose=True)\n",
    "    sim_list.append(sim)"
   ]
  },
  {
   "cell_type": "code",
   "execution_count": 122,
   "metadata": {},
   "outputs": [
    {
     "data": {
      "text/plain": [
       "Text(0.5, 0, 'Similarity')"
      ]
     },
     "execution_count": 122,
     "metadata": {},
     "output_type": "execute_result"
    },
    {
     "data": {
      "image/png": "[encoded data removed]",
      "text/plain": [
       "<Figure size 640x480 with 1 Axes>"
      ]
     },
     "metadata": {},
     "output_type": "display_data"
    }
   ],
   "source": [
    "import seaborn as sns\n",
    "import numpy as np\n",
    "import japanize_matplotlib\n",
    "import matplotlib.pyplot as plt\n",
    "#xにanswers,yにsim_listを入れる. sim_listは平均と分散を表示する\n",
    "mean_sim=np.mean(sim_list,axis=1)\n",
    "std_sim=np.std(sim_list,axis=1)\n",
    "\n",
    "#answersをmean_simの順に並び替える\n",
    "sorted_answers=[answers[i] for i in np.argsort(mean_sim)[::-1]]\n",
    "sorted_mean_sim=[mean_sim[i] for i in np.argsort(mean_sim)[::-1]]\n",
    "sorted_std_sim=[std_sim[i] for i in np.argsort(mean_sim)[::-1]]\n",
    "\n",
    "sns.barplot(y=sorted_answers,x=sorted_mean_sim,xerr=sorted_std_sim)\n",
    "plt.title(\"Question: \"+target_q)\n",
    "plt.ylabel(\"Answer\")\n",
    "plt.xlabel(\"Similarity\")"
   ]
  },
  {
   "cell_type": "code",
   "execution_count": null,
   "metadata": {},
   "outputs": [],
   "source": []
  }
 ],
 "metadata": {
  "kernelspec": {
   "display_name": "lora",
   "language": "python",
   "name": "python3"
  },
  "language_info": {
   "codemirror_mode": {
    "name": "ipython",
    "version": 3
   },
   "file_extension": ".py",
   "mimetype": "text/x-python",
   "name": "python",
   "nbconvert_exporter": "python",
   "pygments_lexer": "ipython3",
   "version": "3.10.10"
  },
  "orig_nbformat": 4
 },
 "nbformat": 4,
 "nbformat_minor": 2
}
