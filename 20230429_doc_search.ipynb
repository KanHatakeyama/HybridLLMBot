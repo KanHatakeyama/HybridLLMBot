{
 "cells": [
  {
   "cell_type": "code",
   "execution_count": 1,
   "metadata": {},
   "outputs": [],
   "source": [
    "#モジュールを自動リロード\n",
    "%load_ext autoreload\n",
    "%autoreload 2\n",
    "\n"
   ]
  },
  {
   "cell_type": "code",
   "execution_count": 24,
   "metadata": {},
   "outputs": [],
   "source": [
    "import json\n",
    "with open('settings/settings.json') as f:\n",
    "    settings = json.load(f)\n"
   ]
  },
  {
   "cell_type": "code",
   "execution_count": 28,
   "metadata": {},
   "outputs": [
    {
     "name": "stdout",
     "output_type": "stream",
     "text": [
      "split: ginga_tets.txt\n",
      "split: sikkaku.pdf\n",
      "split: wagahai.txt\n",
      "split: 卒論要旨_水嵜_MR6(最終版).pdf\n"
     ]
    }
   ],
   "source": [
    "from LLMSearch.DocSplitter import split_documents\n",
    "\n",
    "initiate=True\n",
    "split_documents(initiate=initiate)"
   ]
  },
  {
   "cell_type": "code",
   "execution_count": 29,
   "metadata": {},
   "outputs": [
    {
     "name": "stderr",
     "output_type": "stream",
     "text": [
      "100%|██████████| 16/16 [01:20<00:00,  5.03s/it]\n"
     ]
    }
   ],
   "source": [
    "#GPT\n",
    "\n",
    "from LLMSearch.TextSearcher import TextSearcher\n",
    "from LLMSearch.RWKVEmbedding import RWKVEmbedding\n",
    "from LLMSearch.VicunaEmbedding import VicunaEmbedding\n",
    "from LLMSearch.GPTEmbedding import GPTEmbedding\n",
    "from LLMSearch.ServerEmbedding import ServerEmbedding\n",
    "from tqdm import tqdm\n",
    "import glob\n",
    "\n",
    "\n",
    "#embedder=RWKVEmbedding(settings)\n",
    "#embedder=GPTEmbedding(key)\n",
    "#embedder=VicunaEmbedding()\n",
    "embedder=ServerEmbedding()\n",
    "\n",
    "chunk_path_list=glob.glob(settings[\"data_path\"] + \"/split/*.txt\")\n",
    "searcher=TextSearcher(embedder,settings[\"data_path\"])\n",
    "\n",
    "if not initiate:\n",
    "    searcher.load_model()\n",
    "\n",
    "for path in tqdm(chunk_path_list):\n",
    "    searcher.calc_text_file(path)\n",
    "\n",
    "\n",
    "searcher.save_model()"
   ]
  },
  {
   "cell_type": "code",
   "execution_count": 30,
   "metadata": {},
   "outputs": [
    {
     "data": {
      "text/plain": [
       "[{'path': 'UserData/split/sikkaku.pdf_0.txt',\n",
       "  'text': '私は、その男の写真を三葉、見たことがある..一葉は、 その男の、幼年時代、とでも言うべきであろうか、十歳前後かと推定される頃の写真で.あって、その子供が大勢の女のひとに取りかこまれ、（それは、その子供の姉たち、妹たち、それ.から、従姉妹たちかと想像される）庭園の池のほとりに、荒い縞の袴をはいて立ち、首を三十度ほ.ど左に傾け、醜く笑っている写真である.醜く.けれども、鈍い人たち（つまり、美醜などに関.',\n",
       "  'sim': 1492.0},\n",
       " {'path': 'UserData/split/wagahai.txt_0.txt',\n",
       "  'text': '吾輩は猫である.名前はまだ無い..どこで生れたかとんと見当がつかぬ.何でも薄暗いじめじめした所でニャーニャー泣いていた事だけは記憶している.吾輩はここで始めて人間というものを見た.しかもあとで聞くとそれは書生という人間中で一番獰悪な種族であったそうだ.この書生というのは時々我々を捕えて煮て食うという話である.しかしその当時は何という考もなかったから別段恐しいとも思わなかった.ただ彼の掌に載せられてスーと持ち上げられた時何だかフワフワした感じがあったばかりである.',\n",
       "  'sim': 1482.0},\n",
       " {'path': 'UserData/split/ginga_tets.txt_0.txt',\n",
       "  'text': '「ではみなさんは、そういうふうに川だと云われたり、乳の流れたあとだと云われたりしていたこのぼんやりと白いものがほんとうは何かご承知ですか.」先生は、黒板に吊した大きな黒い星座の図の、上から下へ白くけぶった銀河帯のようなところを指しながら、みんなに問をかけました..カムパネルラが手をあげました.それから四五人手をあげました.ジョバンニも手をあげようとして、急いでそのままやめました.たしかにあれがみんな星だと、いつか雑誌で読んだのでしたが、このごろはジョバンニはまるで毎日教室でもねむく、本を読むひまも読む本もないので、なんだかどんなこともよくわからないという気持ちがするのでした.',\n",
       "  'sim': 1418.0}]"
      ]
     },
     "execution_count": 30,
     "metadata": {},
     "output_type": "execute_result"
    }
   ],
   "source": [
    "from LLMSearch.TextSplitter import pad_text\n",
    "txt=\"吾輩は猫である \"\n",
    "k=3\n",
    "searcher.search(pad_text(txt,settings[\"chunk_size_limit\"]),k)"
   ]
  },
  {
   "cell_type": "code",
   "execution_count": 31,
   "metadata": {},
   "outputs": [
    {
     "data": {
      "text/plain": [
       "[{'path': 'UserData/split/sikkaku.pdf_0.txt',\n",
       "  'text': '私は、その男の写真を三葉、見たことがある..一葉は、 その男の、幼年時代、とでも言うべきであろうか、十歳前後かと推定される頃の写真で.あって、その子供が大勢の女のひとに取りかこまれ、（それは、その子供の姉たち、妹たち、それ.から、従姉妹たちかと想像される）庭園の池のほとりに、荒い縞の袴をはいて立ち、首を三十度ほ.ど左に傾け、醜く笑っている写真である.醜く.けれども、鈍い人たち（つまり、美醜などに関.',\n",
       "  'sim': 1316.0},\n",
       " {'path': 'UserData/split/wagahai.txt_0.txt',\n",
       "  'text': '吾輩は猫である.名前はまだ無い..どこで生れたかとんと見当がつかぬ.何でも薄暗いじめじめした所でニャーニャー泣いていた事だけは記憶している.吾輩はここで始めて人間というものを見た.しかもあとで聞くとそれは書生という人間中で一番獰悪な種族であったそうだ.この書生というのは時々我々を捕えて煮て食うという話である.しかしその当時は何という考もなかったから別段恐しいとも思わなかった.ただ彼の掌に載せられてスーと持ち上げられた時何だかフワフワした感じがあったばかりである.',\n",
       "  'sim': 1286.0},\n",
       " {'path': 'UserData/split/ginga_tets.txt_0.txt',\n",
       "  'text': '「ではみなさんは、そういうふうに川だと云われたり、乳の流れたあとだと云われたりしていたこのぼんやりと白いものがほんとうは何かご承知ですか.」先生は、黒板に吊した大きな黒い星座の図の、上から下へ白くけぶった銀河帯のようなところを指しながら、みんなに問をかけました..カムパネルラが手をあげました.それから四五人手をあげました.ジョバンニも手をあげようとして、急いでそのままやめました.たしかにあれがみんな星だと、いつか雑誌で読んだのでしたが、このごろはジョバンニはまるで毎日教室でもねむく、本を読むひまも読む本もないので、なんだかどんなこともよくわからないという気持ちがするのでした.',\n",
       "  'sim': 1230.0}]"
      ]
     },
     "execution_count": 31,
     "metadata": {},
     "output_type": "execute_result"
    }
   ],
   "source": [
    "txt=\"猫の名前は?\"\n",
    "context_list=searcher.search(pad_text(txt,settings[\"chunk_size_limit\"]),k)\n",
    "context_list"
   ]
  },
  {
   "cell_type": "code",
   "execution_count": 32,
   "metadata": {},
   "outputs": [],
   "source": [
    "import openai\n",
    "from LLMSearch.GPTQuery import GPTQuery\n",
    "from settings.key import API_KEY\n",
    "openai.api_key = API_KEY\n",
    "gpt=GPTQuery(API_KEY)\n",
    "\n"
   ]
  },
  {
   "cell_type": "code",
   "execution_count": 40,
   "metadata": {},
   "outputs": [
    {
     "data": {
      "text/plain": [
       "{'answer': '猫の名前はまだ無いと、文章中に記述されています。',\n",
       " 'context': [{'path': 'UserData/split/sikkaku.pdf_0.txt',\n",
       "   'text': '私は、その男の写真を三葉、見たことがある..一葉は、 その男の、幼年時代、とでも言うべきであろうか、十歳前後かと推定される頃の写真で.あって、その子供が大勢の女のひとに取りかこまれ、（それは、その子供の姉たち、妹たち、それ.から、従姉妹たちかと想像される）庭園の池のほとりに、荒い縞の袴をはいて立ち、首を三十度ほ.ど左に傾け、醜く笑っている写真である.醜く.けれども、鈍い人たち（つまり、美醜などに関.',\n",
       "   'sim': 1316.0},\n",
       "  {'path': 'UserData/split/wagahai.txt_0.txt',\n",
       "   'text': '吾輩は猫である.名前はまだ無い..どこで生れたかとんと見当がつかぬ.何でも薄暗いじめじめした所でニャーニャー泣いていた事だけは記憶している.吾輩はここで始めて人間というものを見た.しかもあとで聞くとそれは書生という人間中で一番獰悪な種族であったそうだ.この書生というのは時々我々を捕えて煮て食うという話である.しかしその当時は何という考もなかったから別段恐しいとも思わなかった.ただ彼の掌に載せられてスーと持ち上げられた時何だかフワフワした感じがあったばかりである.',\n",
       "   'sim': 1286.0}]}"
      ]
     },
     "execution_count": 40,
     "metadata": {},
     "output_type": "execute_result"
    }
   ],
   "source": [
    "question=\"猫の名前は?\"\n",
    "context_list=searcher.search(pad_text(question,settings[\"chunk_size_limit\"]),k)\n",
    "gpt.reference_ask(question,context_list)"
   ]
  },
  {
   "cell_type": "code",
   "execution_count": 43,
   "metadata": {},
   "outputs": [
    {
     "data": {
      "text/plain": [
       "{'answer': '誘導自己組織化（DSA）を起こせる材料は、ブロック共重合体（BCP）などです。BCPは、2種類以上の異なる化学種のモノマーが反応して作られる高分子で、同じ種類のモノマーよりも相互作用の強いブロックを持っています。このブロックの相互作用によって形成される微細構造を利用して、半導体微細加工技術などに応用されています。また、DSAは、BCPを塗布した基板上に、化学的または物理的な方法でパターン化用のマスクを作ることで、微細なパターンを形成する技術です。',\n",
       " 'context': [{'path': 'UserData/split/卒論要旨_水嵜_MR6(最終版).pdf_0.txt',\n",
       "   'text': '基板表面改質材料を志向したヒドロキシ基含有.ポリスチレン -block -ポリメタクリル酸メチルの精密合成.東京工業大学  物質理工学院  材料系.早川・難波江研究室  学士 4年 水嵜陸.【緒言】.ブロック共重合体（ BCP）のミクロ相分離 構造の誘導自己組織化 （DSA）を利用した半導体微細.加工技術である BCPリソグラフィ ーでは，パターン形成用保護膜内 における構造制御が重要であ.る.1  高解像度パターンを得るためには， ミクロ相分離構造 におけるドメイン界面 の基板面に対する.',\n",
       "   'sim': 1814.0},\n",
       "  {'path': 'UserData/split/卒論要旨_水嵜_MR6(最終版).pdf_1.txt',\n",
       "   'text': '垂直配向が 求められる.そこで， BCPの各ブロック成分のシリコン基板界面への親和性を 良好に，.すなわち中性化する ための表面改質材 料（下地膜（NL））が必要となる.2 NLを塗布したシリコン基.板では，成膜した保護膜内の ミクロ相分離構造の垂直配向 が実現される.一方で， DSAにより形.成されるパターンでは，多様な形状からなる 構造欠陥 の低減が課題となって いる.最近では， 構造.欠陥が生じる 主な原因の一つとして， NLの基板への定着に作用する ヒドロキシ基 の凝集に基づく.',\n",
       "   'sim': 1748.0}]}"
      ]
     },
     "execution_count": 43,
     "metadata": {},
     "output_type": "execute_result"
    }
   ],
   "source": [
    "question=\"誘導自己組織化（DSA）を起こせる材料は?\"\n",
    "context_list=searcher.search(pad_text(question,settings[\"chunk_size_limit\"]),k)\n",
    "gpt.reference_ask(question,context_list)"
   ]
  },
  {
   "cell_type": "code",
   "execution_count": null,
   "metadata": {},
   "outputs": [],
   "source": []
  }
 ],
 "metadata": {
  "kernelspec": {
   "display_name": "lora",
   "language": "python",
   "name": "python3"
  },
  "language_info": {
   "codemirror_mode": {
    "name": "ipython",
    "version": 3
   },
   "file_extension": ".py",
   "mimetype": "text/x-python",
   "name": "python",
   "nbconvert_exporter": "python",
   "pygments_lexer": "ipython3",
   "version": "3.10.10"
  },
  "orig_nbformat": 4
 },
 "nbformat": 4,
 "nbformat_minor": 2
}
