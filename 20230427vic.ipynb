{
 "cells": [
  {
   "cell_type": "code",
   "execution_count": 1,
   "metadata": {},
   "outputs": [],
   "source": [
    "from transformers import AutoTokenizer, AutoModelForCausalLM\n",
    "#tokenizer = AutoTokenizer.from_pretrained(\"eachadea/vicuna-13b-1.1\")\n",
    "#model = AutoModelForCausalLM.from_pretrained(\"eachadea/vicuna-13b-1.1\",device_map = 'auto')\n",
    "tokenizer = AutoTokenizer.from_pretrained(\"elinas/vicuna-13b-4bit\")\n",
    "model = AutoModelForCausalLM.from_pretrained(\"elinas/vicuna-13b-4bit\")"
   ]
  },
  {
   "cell_type": "code",
   "execution_count": null,
   "metadata": {},
   "outputs": [],
   "source": []
  }
 ],
 "metadata": {
  "kernelspec": {
   "display_name": "lora",
   "language": "python",
   "name": "python3"
  },
  "language_info": {
   "codemirror_mode": {
    "name": "ipython",
    "version": 3
   },
   "file_extension": ".py",
   "mimetype": "text/x-python",
   "name": "python",
   "nbconvert_exporter": "python",
   "pygments_lexer": "ipython3",
   "version": "3.10.10"
  },
  "orig_nbformat": 4
 },
 "nbformat": 4,
 "nbformat_minor": 2
}
