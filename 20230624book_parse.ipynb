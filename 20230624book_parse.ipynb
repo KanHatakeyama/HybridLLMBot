{
 "cells": [
  {
   "cell_type": "code",
   "execution_count": 1,
   "metadata": {},
   "outputs": [
    {
     "name": "stderr",
     "output_type": "stream",
     "text": [
      "100%|██████████| 42/42 [24:27<00:00, 34.94s/it]  \n"
     ]
    }
   ],
   "source": [
    "from pdfminer.high_level import extract_text\n",
    "from tqdm import tqdm\n",
    "import glob\n",
    "import os\n",
    "\n",
    "def extract_text_from_pdf(file_path):\n",
    "    text = extract_text(file_path)\n",
    "    return text\n",
    "\n",
    "\n",
    "\n",
    "\n",
    "for file_path in tqdm(glob.glob(\"UserData/original/pdf/book/*.pdf\")):\n",
    "    out_path=file_path.replace(\"UserData/original/pdf/book/\",\"UserData/original/text/auto_generated/book_\")\n",
    "    out_path=out_path.replace(\".pdf\",\".txt\")\n",
    "    if os.path.exists(out_path):\n",
    "        continue\n",
    "\n",
    "    #try:\n",
    "    if True:\n",
    "        text=(extract_text_from_pdf(file_path))\n",
    "    #except:\n",
    "    #    print(f\"error: {file_path}\")\n",
    "    #    continue\n",
    "    text=text.replace(\"\\n\",\"\")\n",
    "    with open(out_path, mode='w') as f:\n",
    "        f.write(text)"
   ]
  },
  {
   "cell_type": "code",
   "execution_count": null,
   "metadata": {},
   "outputs": [],
   "source": []
  },
  {
   "cell_type": "code",
   "execution_count": null,
   "metadata": {},
   "outputs": [],
   "source": []
  },
  {
   "cell_type": "code",
   "execution_count": null,
   "metadata": {},
   "outputs": [],
   "source": []
  }
 ],
 "metadata": {
  "kernelspec": {
   "display_name": "lora",
   "language": "python",
   "name": "python3"
  },
  "language_info": {
   "codemirror_mode": {
    "name": "ipython",
    "version": 3
   },
   "file_extension": ".py",
   "mimetype": "text/x-python",
   "name": "python",
   "nbconvert_exporter": "python",
   "pygments_lexer": "ipython3",
   "version": "3.10.10"
  },
  "orig_nbformat": 4
 },
 "nbformat": 4,
 "nbformat_minor": 2
}
