{
 "cells": [
  {
   "cell_type": "code",
   "execution_count": 1,
   "metadata": {},
   "outputs": [],
   "source": [
    "#ライブラリを自動リロード\n",
    "%load_ext autoreload\n",
    "%autoreload 2\n",
    "\n",
    "from LLMSearch.Siamese.DictEmbedder import DictEmbedder\n",
    "from tqdm import tqdm\n",
    "import json\n",
    "import os\n",
    "from IPython.display import clear_output\n",
    "os.environ['RWKV_JIT_ON'] = '0'\n",
    "os.environ[\"RWKV_CUDA_ON\"] = '1'\n",
    "\n",
    "from LLMSearch.Embedding.VicunaEmbedding import VicunaEmbedding\n",
    "from LLMSearch.Embedding.RWKVEmbedding import RWKVEmbedding\n",
    "embedder=RWKVEmbedding(model_path=\"/media/kh/python/2023/RWKV-4b-Pile-3B-20230228-7963.pth\",\n",
    "                strategy=\"cuda fp16\"\n",
    "                     )\n",
    "\n",
    "#notebookの出力をクリア\n",
    "clear_output()\n",
    "dict_embedder=DictEmbedder(\"develop/databricks-dolly-15k-ja-vec.bin.backup\",embedder,init=False)\n",
    "bricks_dict=json.load(open(\"develop/databricks-dolly-15k-ja.json\"))\n",
    "#"
   ]
  },
  {
   "cell_type": "code",
   "execution_count": null,
   "metadata": {},
   "outputs": [],
   "source": []
  },
  {
   "cell_type": "code",
   "execution_count": 2,
   "metadata": {},
   "outputs": [
    {
     "name": "stderr",
     "output_type": "stream",
     "text": [
      "100%|██████████| 15015/15015 [00:00<00:00, 526875.89it/s]\n"
     ]
    },
    {
     "data": {
      "text/html": [
       "<div>\n",
       "<style scoped>\n",
       "    .dataframe tbody tr th:only-of-type {\n",
       "        vertical-align: middle;\n",
       "    }\n",
       "\n",
       "    .dataframe tbody tr th {\n",
       "        vertical-align: top;\n",
       "    }\n",
       "\n",
       "    .dataframe thead th {\n",
       "        text-align: right;\n",
       "    }\n",
       "</style>\n",
       "<table border=\"1\" class=\"dataframe\">\n",
       "  <thead>\n",
       "    <tr style=\"text-align: right;\">\n",
       "      <th></th>\n",
       "      <th>Q</th>\n",
       "      <th>A</th>\n",
       "    </tr>\n",
       "  </thead>\n",
       "  <tbody>\n",
       "    <tr>\n",
       "      <th>0</th>\n",
       "      <td>ヴァージン・オーストラリア航空はいつから運航を開始したのですか？</td>\n",
       "      <td>ヴァージン・オーストラリア航空は、2000年8月31日にヴァージン・ブルー航空として、2機の...</td>\n",
       "    </tr>\n",
       "    <tr>\n",
       "      <th>1</th>\n",
       "      <td>魚の種類はどっち？イコクエイラクブカとロープ</td>\n",
       "      <td>イコクエイラクブカ</td>\n",
       "    </tr>\n",
       "    <tr>\n",
       "      <th>2</th>\n",
       "      <td>ラクダはなぜ水なしで長く生きられるのか？</td>\n",
       "      <td>ラクダは、長時間にわたってエネルギーと水分で満たされた状態を保つために、腰の脂肪を利用しています。</td>\n",
       "    </tr>\n",
       "    <tr>\n",
       "      <th>3</th>\n",
       "      <td>アリスの両親には3人の娘がいる：エイミー、ジェシー、そして三女の名前は？</td>\n",
       "      <td>三女の名前はアリス</td>\n",
       "    </tr>\n",
       "    <tr>\n",
       "      <th>4</th>\n",
       "      <td>小森田友明はいつ生まれたの？</td>\n",
       "      <td>小森田友明は1981年7月10日に生まれました。</td>\n",
       "    </tr>\n",
       "    <tr>\n",
       "      <th>...</th>\n",
       "      <td>...</td>\n",
       "      <td>...</td>\n",
       "    </tr>\n",
       "    <tr>\n",
       "      <th>14781</th>\n",
       "      <td>ジオメトリーとは？</td>\n",
       "      <td>地形学（geomorphometry）とは、地形の特性、地球の表面の形状、およびこの表面形状...</td>\n",
       "    </tr>\n",
       "    <tr>\n",
       "      <th>14782</th>\n",
       "      <td>troll the respawn, Jeremyとはどういう意味ですか？</td>\n",
       "      <td>Trolling the respawnとは、ビデオゲームにおいて、対戦相手がリスポーンする...</td>\n",
       "    </tr>\n",
       "    <tr>\n",
       "      <th>14783</th>\n",
       "      <td>2021年、チェスの世界選手権で優勝したのは？</td>\n",
       "      <td>マグナス・カールセンがイアン・ネポムニアッキを7.5 - 3.5で破り、2021年チェス世界...</td>\n",
       "    </tr>\n",
       "    <tr>\n",
       "      <th>14784</th>\n",
       "      <td>なぜ毎日歩くといいのでしょうか？</td>\n",
       "      <td>ウォーキングは、関節に負担をかけずにカロリーを消費できる良い運動です。年齢を問わず、1日に数...</td>\n",
       "    </tr>\n",
       "    <tr>\n",
       "      <th>14785</th>\n",
       "      <td>Pythonの生みの親は誰なのか？</td>\n",
       "      <td>Guido van RossumはPythonの父である。そして、Pythonの第1バージョ...</td>\n",
       "    </tr>\n",
       "  </tbody>\n",
       "</table>\n",
       "<p>14786 rows × 2 columns</p>\n",
       "</div>"
      ],
      "text/plain": [
       "                                           Q   \n",
       "0           ヴァージン・オーストラリア航空はいつから運航を開始したのですか？  \\\n",
       "1                     魚の種類はどっち？イコクエイラクブカとロープ   \n",
       "2                       ラクダはなぜ水なしで長く生きられるのか？   \n",
       "3       アリスの両親には3人の娘がいる：エイミー、ジェシー、そして三女の名前は？   \n",
       "4                             小森田友明はいつ生まれたの？   \n",
       "...                                      ...   \n",
       "14781                              ジオメトリーとは？   \n",
       "14782  troll the respawn, Jeremyとはどういう意味ですか？   \n",
       "14783                2021年、チェスの世界選手権で優勝したのは？   \n",
       "14784                       なぜ毎日歩くといいのでしょうか？   \n",
       "14785                      Pythonの生みの親は誰なのか？   \n",
       "\n",
       "                                                       A  \n",
       "0      ヴァージン・オーストラリア航空は、2000年8月31日にヴァージン・ブルー航空として、2機の...  \n",
       "1                                              イコクエイラクブカ  \n",
       "2      ラクダは、長時間にわたってエネルギーと水分で満たされた状態を保つために、腰の脂肪を利用しています。  \n",
       "3                                              三女の名前はアリス  \n",
       "4                               小森田友明は1981年7月10日に生まれました。  \n",
       "...                                                  ...  \n",
       "14781  地形学（geomorphometry）とは、地形の特性、地球の表面の形状、およびこの表面形状...  \n",
       "14782  Trolling the respawnとは、ビデオゲームにおいて、対戦相手がリスポーンする...  \n",
       "14783  マグナス・カールセンがイアン・ネポムニアッキを7.5 - 3.5で破り、2021年チェス世界...  \n",
       "14784  ウォーキングは、関節に負担をかけずにカロリーを消費できる良い運動です。年齢を問わず、1日に数...  \n",
       "14785  Guido van RossumはPythonの父である。そして、Pythonの第1バージョ...  \n",
       "\n",
       "[14786 rows x 2 columns]"
      ]
     },
     "execution_count": 2,
     "metadata": {},
     "output_type": "execute_result"
    }
   ],
   "source": [
    "import pandas as pd\n",
    "q_list=[]\n",
    "a_list=[]\n",
    "for brick in tqdm(bricks_dict):\n",
    "    q=brick[\"instruction\"]\n",
    "    a=brick[\"output\"]\n",
    "    if q in dict_embedder.dict:\n",
    "        if a in dict_embedder.dict:\n",
    "            q_list.append(q)\n",
    "            a_list.append(a)\n",
    "\n",
    "\n",
    "qa_df=pd.DataFrame({\"Q\":q_list,\"A\":a_list})\n",
    "qa_df"
   ]
  },
  {
   "cell_type": "code",
   "execution_count": 118,
   "metadata": {},
   "outputs": [],
   "source": [
    "\n",
    "import random\n",
    "q_to_a_dict={}\n",
    "for i in range(len(qa_df)):\n",
    "    q=qa_df[\"Q\"][i]\n",
    "    a=qa_df[\"A\"][i]\n",
    "    q_to_a_dict[q]=a\n",
    "\n",
    "q_list=list(qa_df[\"Q\"])\n",
    "a_list=list(qa_df[\"A\"])\n",
    "\n",
    "\n",
    "q_a_dataset=[]\n",
    "#exact answer\n",
    "for q in q_list:\n",
    "    q_a_dataset.append((q,q_to_a_dict[q],1))\n",
    "\n",
    "#random ans\n",
    "for i in range(len(q_list)):\n",
    "    q=random.choice(q_list)\n",
    "    a=random.choice(a_list)\n",
    "    if q_to_a_dict[q]!=a:\n",
    "        q_a_dataset.append((q,a,-1))"
   ]
  },
  {
   "cell_type": "code",
   "execution_count": 34,
   "metadata": {},
   "outputs": [],
   "source": [
    "from MeCab import Tagger\n",
    "tagger=Tagger(\"-Owakati\")\n",
    "\n",
    "tokenized_q_list=[tagger.parse(q).strip().split(\" \") for q in q_list]\n",
    "tokenized_a_list=[tagger.parse(a).strip().split(\" \") for a in a_list]"
   ]
  },
  {
   "cell_type": "code",
   "execution_count": 70,
   "metadata": {},
   "outputs": [],
   "source": [
    "from rank_bm25 import BM25Okapi, BM25Plus, BM25L\n",
    "\n",
    "bm25 = BM25Plus(tokenized_a_list)\n",
    "#bm25 = BM25Okapi(tokenized_a_list)\n",
    "\n",
    "n_sampling=500\n",
    "bm_dataset=[]\n",
    "\n",
    "def prepare_bm25_dataset(q_id):\n",
    "    tokenized_query=tokenized_q_list[q_id]\n",
    "    doc_scores = bm25.get_scores(tokenized_query)\n",
    "    max_score=max(doc_scores)\n",
    "    min_score=min(doc_scores)\n",
    "    if max_score==min_score:\n",
    "        return []\n",
    "\n",
    "    #-1から1に正規化\n",
    "    doc_scores=[(score-min_score)/(max_score-min_score)*2-1 for score in doc_scores]\n",
    "\n",
    "    temp_dataset=[]\n",
    "    for score,a in zip(doc_scores,a_list):\n",
    "        temp_dataset.append((q_list[q_id],a,score))\n",
    "\n",
    "    #ランダムにn_sampling個サンプリング\n",
    "    #temp_dataset=random.sample(temp_dataset,n_sampling)\n",
    "\n",
    "    #doc_scoresをソート\n",
    "    temp_dataset=sorted(temp_dataset,key=lambda x:x[2],reverse=True)\n",
    "    temp_dataset=(temp_dataset[::n_sampling])\n",
    "    return temp_dataset\n",
    "#for q_id in tqdm(range(len(q_list))):\n",
    "#    bm_dataset.extend(temp_dataset)\n",
    "\n",
    "from multiprocessing import Pool\n",
    "with Pool(16) as p:\n",
    "    bm_dataset_part=p.map(prepare_bm25_dataset,range(len(q_list)))\n",
    "\n",
    "for temp_dataset in bm_dataset_part:\n",
    "    bm_dataset.extend(temp_dataset)"
   ]
  },
  {
   "cell_type": "code",
   "execution_count": 117,
   "metadata": {},
   "outputs": [
    {
     "data": {
      "text/plain": [
       "472880"
      ]
     },
     "execution_count": 117,
     "metadata": {},
     "output_type": "execute_result"
    }
   ],
   "source": [
    "q_a_dataset.extend(bm_dataset)\n",
    "len(q_a_dataset)"
   ]
  },
  {
   "cell_type": "code",
   "execution_count": 103,
   "metadata": {},
   "outputs": [
    {
     "data": {
      "text/plain": [
       "[('ヴァージン・オーストラリア航空はいつから運航を開始したのですか？',\n",
       "  'ヴァージン・オーストラリア航空は、2000年8月31日にヴァージン・ブルー航空として、2機の航空機で単一路線の運航を開始しました。',\n",
       "  1),\n",
       " ('魚の種類はどっち？イコクエイラクブカとロープ', 'イコクエイラクブカ', 1),\n",
       " ('ラクダはなぜ水なしで長く生きられるのか？',\n",
       "  'ラクダは、長時間にわたってエネルギーと水分で満たされた状態を保つために、腰の脂肪を利用しています。',\n",
       "  1),\n",
       " ('アリスの両親には3人の娘がいる：エイミー、ジェシー、そして三女の名前は？', '三女の名前はアリス', 1),\n",
       " ('小森田友明はいつ生まれたの？', '小森田友明は1981年7月10日に生まれました。', 1),\n",
       " ('ステイルメイトの時に、私の方が多くの駒を持っていたら、私の勝ちですか？',\n",
       "  'いいえ。\\nステイルメイトとは、引き分けた状態のことです。どちらがより多くの駒を捕獲したか、または優勢であるかは関係ない',\n",
       "  1),\n",
       " ('ロラパルーザについての参考文章が与えられ、どこで行われ、誰が始めたのか、何なのか？',\n",
       "  'ロラパルーズは、イリノイ州シカゴのグラントパークで毎年開催される音楽フェスティバルである。1991年、ジェーンズ・アディクションの歌手であるペリー・ファレルのお別れツアーとしてスタートした。このフェスティバルには、オルタナティブ・ロック、ヘビーメタル、パンクロック、ヒップホップ、エレクトロニック・ダンス・ミュージックなど、さまざまなジャンルの音楽が含まれています。毎年40万人の観客を動員し、チケットは毎年完売しています。主な出演者は、レッド・ホット・チリ・ペッパーズ、チャンス・ザ・ラッパー、メタリカ、レディ・ゲイジなどです。ロラパルーザは、世界最大かつ最も象徴的な音楽フェスティバルの1つであり、シカゴの定番イベントです。',\n",
       "  1),\n",
       " ('国連に本部を建てるためにニューヨークの土地を寄付したのは誰？', 'ジョン・デイヴィソン・ロックフェラー', 1),\n",
       " ('スマホが人間に悪い理由', '常にスマホを操作しているのが良くないため。', 1),\n",
       " ('ジョン・モーゼス・ブローニングとは何者ですか？',\n",
       "  'ジョン・モーゼス・ブローニングは、近代銃器の設計者として最もよく知られた人物の一人です。13歳の時に父親の店で銃器の製作を始め、24歳の時に最初の特許を取得しました。\\n\\nまた、単発式、レバーアクション式、ポンプアクション式のライフルやショットガンを発明・改良した。\\n\\n今日、彼はM1911ピストル、ブローニング自動小銃、オート5散弾銃で最もよく知られており、これらはすべてオリジナルデザイン、またはマイナーチェンジされた状態で現在も生産されている。  M1911ピストルやハイパワーピストルのデザインは、今日、世界で最も複製された銃器のひとつとなっている。',\n",
       "  1)]"
      ]
     },
     "execution_count": 103,
     "metadata": {},
     "output_type": "execute_result"
    }
   ],
   "source": [
    "#a_listをdoc_scoresでソート\n",
    "#sorted_a_list=[a for _,a in sorted(zip(doc_scores,a_list),reverse=True)]\n",
    "#sorted_a_list[:10],a_list[1]\n",
    "q_a_dataset[:10]"
   ]
  },
  {
   "cell_type": "code",
   "execution_count": 104,
   "metadata": {},
   "outputs": [],
   "source": [
    "import numpy as np\n",
    "def text_to_vec(text1,text2,dict_embedder):\n",
    "    q=dict_embedder(text1)\n",
    "    a=dict_embedder(text2)\n",
    "    #結合\n",
    "    res=np.concatenate([q,a],axis=0)\n",
    "    return res\n"
   ]
  },
  {
   "cell_type": "code",
   "execution_count": 119,
   "metadata": {},
   "outputs": [],
   "source": [
    "from sklearn.model_selection import train_test_split\n",
    "#q_a_datasetをtrainとtestに分割\n",
    "train_set,test_set=train_test_split(q_a_dataset,test_size=0.1,random_state=42)\n",
    "\n",
    "train_X=[text_to_vec(text1,text2,dict_embedder) for text1,text2,_ in train_set]\n",
    "train_y=[label for _,_,label in train_set]\n",
    "test_X=[text_to_vec(text1,text2,dict_embedder) for text1,text2,_ in test_set]\n",
    "test_y=[label for _,_,label in test_set]"
   ]
  },
  {
   "cell_type": "code",
   "execution_count": 120,
   "metadata": {},
   "outputs": [
    {
     "data": {
      "text/plain": [
       "26613"
      ]
     },
     "execution_count": 120,
     "metadata": {},
     "output_type": "execute_result"
    }
   ],
   "source": [
    "len(train_X)"
   ]
  },
  {
   "cell_type": "code",
   "execution_count": 121,
   "metadata": {},
   "outputs": [],
   "source": [
    "#logistic regression\n",
    "from sklearn.linear_model import LogisticRegression\n",
    "#clf = LogisticRegression(random_state=0).fit(train_X, train_y)\n",
    "#clf.score(train_X,train_y),clf.score(test_X,test_y)"
   ]
  },
  {
   "cell_type": "code",
   "execution_count": 122,
   "metadata": {},
   "outputs": [
    {
     "data": {
      "text/plain": [
       "'\\ntarget_qa=test_set[0]\\ntarget_question=target_qa[0]\\ntarget_answer=q_to_a_dict[target_question]\\n\\ncompare_set=[(target_question,text) for _,text,_ in test_set]\\ncand_ans_set=[text for _,text,_ in test_set]\\ncompare_X=[text_to_vec(text1,text2,dict_embedder) for text1,text2 in compare_set]\\npred_y=clf.predict_proba(compare_X)[:,0]\\n\\n\\n#cand_ans setをpred_yの値でソート\\ncand_ans_set=[cand_ans for _,cand_ans in sorted(zip(pred_y,cand_ans_set),reverse=True)]\\nprint(\"Q \",target_question)\\nprint(\"A \",target_answer)\\nfor i in range(10):\\n    print(i,cand_ans_set[i])\\n'"
      ]
     },
     "execution_count": 122,
     "metadata": {},
     "output_type": "execute_result"
    }
   ],
   "source": [
    "\"\"\"\n",
    "target_qa=test_set[0]\n",
    "target_question=target_qa[0]\n",
    "target_answer=q_to_a_dict[target_question]\n",
    "\n",
    "compare_set=[(target_question,text) for _,text,_ in test_set]\n",
    "cand_ans_set=[text for _,text,_ in test_set]\n",
    "compare_X=[text_to_vec(text1,text2,dict_embedder) for text1,text2 in compare_set]\n",
    "pred_y=clf.predict_proba(compare_X)[:,0]\n",
    "\n",
    "\n",
    "#cand_ans setをpred_yの値でソート\n",
    "cand_ans_set=[cand_ans for _,cand_ans in sorted(zip(pred_y,cand_ans_set),reverse=True)]\n",
    "print(\"Q \",target_question)\n",
    "print(\"A \",target_answer)\n",
    "for i in range(10):\n",
    "    print(i,cand_ans_set[i])\n",
    "\"\"\""
   ]
  },
  {
   "cell_type": "code",
   "execution_count": 128,
   "metadata": {},
   "outputs": [],
   "source": [
    "from LLMSearch.Siamese.SiameseComparer import SiameseComparer\n",
    "\n",
    "data1=[text1 for text1,text2,_ in train_set]\n",
    "data2=[text2 for text1,text2,_ in train_set]\n",
    "label_list=[label for _,_,label in train_set]\n",
    "\n",
    "#label setの0を-1に変換\n",
    "#label_list=[-1 if label==0 else label for label in label_list]\n",
    "\n",
    "comparer=SiameseComparer(dict_embedder)\n",
    "comparer.prepare_model(data1,data2,label_list,hidden_dim=256)"
   ]
  },
  {
   "cell_type": "code",
   "execution_count": 127,
   "metadata": {},
   "outputs": [
    {
     "name": "stdout",
     "output_type": "stream",
     "text": [
      "0 0.9999658 私は猫です\n",
      "1 0.9999657 私は犬です\n",
      "2 0.99992776 トルエンをこぼしてしまいました\n",
      "3 0.9998509 吾輩は猫である\n",
      "4 0.99965763 アセトンは有機溶媒である\n",
      "5 0.9947778 常にスマホを操作しているのが良くないため。\n",
      "6 0.991239 I am a cat\n",
      "7 0.24160998 ピペットで試薬を三回分取した\n",
      "8 0.054823577 汝の名は女だ\n",
      "9 0.047301482 日本的霊性は，鎌倉時代に禅と浄土系思想によって初めて明白に顕現し，その霊性的自覚が現在に及ぶと述べる．\n",
      "10 0.039546873 非プロトン性溶媒として､THF､トルエンなどが挙げられる\n"
     ]
    }
   ],
   "source": [
    "target_q=\"猫の名前は?\"\n",
    "#target_q=\"i am a cat\"\n",
    "#target_q=\"アセトンはどのような溶媒か?\"\n",
    "target_q=\"非プロトン性溶媒に使われるものは?\"\n",
    "#target_q=\"貴方は動物ですか?\"\n",
    "#target_q=\"貴方は猫ですか?\"\n",
    "#target_q=\"スマホが良くない理由は？\"\n",
    "answers=[\n",
    "\"吾輩は猫である\",\n",
    "\"汝の名は女だ\",\n",
    "\"I am a cat\",\n",
    "\"ピペットで試薬を三回分取した\",\n",
    "\"アセトンは有機溶媒である\",\n",
    "\"非プロトン性溶媒として､THF､トルエンなどが挙げられる\",\n",
    "\"トルエンをこぼしてしまいました\",\n",
    "\"私は猫です\",\n",
    "\"私は犬です\",\n",
    "\"日本的霊性は，鎌倉時代に禅と浄土系思想によって初めて明白に顕現し，その霊性的自覚が現在に及ぶと述べる．\",\n",
    " '常にスマホを操作しているのが良くないため。'\n",
    "]\n",
    "\n",
    "sim=comparer.compare(\n",
    "    [target_q]*len(answers),\n",
    "    answers)\n",
    "\n",
    "#simをソート\n",
    "answers=[(s,answer) for s,answer in sorted(zip(sim,answers),reverse=True)]\n",
    "for i,(s,answer) in enumerate(answers):\n",
    "    print(i,s,answer)\n",
    "#comparer.compare(q,a)"
   ]
  },
  {
   "cell_type": "code",
   "execution_count": null,
   "metadata": {},
   "outputs": [],
   "source": []
  }
 ],
 "metadata": {
  "kernelspec": {
   "display_name": "lora",
   "language": "python",
   "name": "python3"
  },
  "language_info": {
   "codemirror_mode": {
    "name": "ipython",
    "version": 3
   },
   "file_extension": ".py",
   "mimetype": "text/x-python",
   "name": "python",
   "nbconvert_exporter": "python",
   "pygments_lexer": "ipython3",
   "version": "3.10.10"
  },
  "orig_nbformat": 4
 },
 "nbformat": 4,
 "nbformat_minor": 2
}
