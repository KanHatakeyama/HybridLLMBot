{
 "cells": [
  {
   "cell_type": "code",
   "execution_count": 30,
   "metadata": {},
   "outputs": [],
   "source": [
    "import sqlite3\n",
    "import MeCab\n",
    "\n",
    "# MeCabオブジェクトを初期化\n",
    "mecab = MeCab.Tagger(\"-Owakati\")\n",
    "\n",
    "# データベースに接続\n",
    "conn = sqlite3.connect(\":memory:\")\n",
    "c = conn.cursor()\n",
    "\n",
    "# FTS5テーブルを作成 (contentカラムに加えて、filepathとnumberカラムを追加)\n",
    "c.execute(\"CREATE VIRTUAL TABLE docs USING fts5(content, filepath, number);\")\n",
    "#c.execute(\"CREATE VIRTUAL TABLE docs USING fts5(content UNINDEXED, filepath, number);\")\n",
    "# ファイルパスと番号を含む文書を追加\n",
    "documents = [\n",
    "    (\"日本語のテキスト\", \"/path/to/file1\", 1),\n",
    "    (\"検索エンジンの仕組み\", \"/path/to/file2\", 2),\n",
    "    (\"pythonとは何か\", \"/path/to/file3\", 3),\n",
    "    (\"藤田です\", \"/path/to/file4\", 4),\n",
    "]\n",
    "for doc, filepath, number in documents:\n",
    "    doc_wakati = mecab.parse(doc).strip()\n",
    "    c.execute(\"INSERT INTO docs(content, filepath, number) VALUES(?, ?, ?);\", (doc_wakati, filepath, number))\n",
    "\n",
    "# コミット\n",
    "conn.commit()\n"
   ]
  },
  {
   "cell_type": "code",
   "execution_count": 49,
   "metadata": {},
   "outputs": [
    {
     "name": "stdout",
     "output_type": "stream",
     "text": [
      "日本 語 の テキスト /path/to/file1 -0.8362621429581374\n",
      "検索 エンジン の 仕組み /path/to/file2 -0.8362621429581374\n",
      "python と は 何 か /path/to/file3 -0.7948516379423286\n"
     ]
    }
   ],
   "source": [
    "# クエリ（ここでは \"テキスト検索できますか\"）\n",
    "query = \"テキスト検索できますか\"\n",
    "#query=\"藤田先生の業績は\"\n",
    "query_wakati = mecab.parse(query).strip()\n",
    "\n",
    "# 単語ごとにクエリを作成\n",
    "query_words = query_wakati.split()\n",
    "\n",
    "# 各単語で検索を行い、結果を組み合わせる\n",
    "combined_results = []\n",
    "for query_word in query_words:\n",
    "    #c.execute(\"SELECT content, bm25(docs) FROM docs WHERE docs MATCH ? ORDER BY bm25(docs);\", (query_word,))\n",
    "    c.execute(\"SELECT content, filepath, bm25(docs) FROM docs WHERE docs MATCH ? ORDER BY bm25(docs);\", (query_word,))\n",
    "    results = c.fetchall()\n",
    "    combined_results.extend(results)\n",
    "\n",
    "# 各文書のスコアを合計\n",
    "score_dict = {}\n",
    "for result in combined_results:\n",
    "    if result[0] in score_dict:\n",
    "        score_dict[result[0]] += result[2]\n",
    "    else:\n",
    "        score_dict[result[0]] = result[2]\n",
    "\n",
    "# 結果をスコアでソート\n",
    "sorted_results = sorted(score_dict.items(), key=lambda x: x[1])\n",
    "\n",
    "ret_list=[]\n",
    "for result in sorted_results:\n",
    "    key=result[0]\n",
    "    for record in combined_results:\n",
    "        if record[0]==key:\n",
    "            break\n",
    "    temp_dict = {}\n",
    "    temp_dict[\"path\"] = record[1]\n",
    "    temp_dict[\"text\"] = record[0]\n",
    "    temp_dict[\"sim\"] = record[2]\n",
    "    ret_list.append(temp_dict)\n",
    "\n",
    "for ret in ret_list:\n",
    "    print(ret[\"text\"],ret[\"path\"], ret[\"sim\"])"
   ]
  },
  {
   "cell_type": "code",
   "execution_count": null,
   "metadata": {},
   "outputs": [],
   "source": []
  }
 ],
 "metadata": {
  "kernelspec": {
   "display_name": "lora",
   "language": "python",
   "name": "python3"
  },
  "language_info": {
   "codemirror_mode": {
    "name": "ipython",
    "version": 3
   },
   "file_extension": ".py",
   "mimetype": "text/x-python",
   "name": "python",
   "nbconvert_exporter": "python",
   "pygments_lexer": "ipython3",
   "version": "3.10.10"
  },
  "orig_nbformat": 4
 },
 "nbformat": 4,
 "nbformat_minor": 2
}
