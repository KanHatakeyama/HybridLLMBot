{
 "cells": [
  {
   "cell_type": "code",
   "execution_count": 36,
   "metadata": {},
   "outputs": [],
   "source": [
    "import os\n",
    "\n",
    "from llama_index import Document, GPTSimpleVectorIndex, ServiceContext, SimpleDirectoryReader\n",
    "from llama_index.data_structs.node_v2 import DocumentRelationship\n",
    "from llama_index.response.schema import RESPONSE_TYPE\n",
    "from llama_index import LLMPredictor, PromptHelper\n",
    "from langchain.chat_models import ChatOpenAI\n",
    "import json\n",
    "import glob\n",
    "from LLMSearch.TextSplitter import split_text\n",
    "\n",
    "import re"
   ]
  },
  {
   "cell_type": "code",
   "execution_count": 50,
   "metadata": {},
   "outputs": [],
   "source": [
    "with open('settings/settings.json') as f:\n",
    "    settings = json.load(f)\n",
    "\n",
    "original_folder_path=settings[\"data_path\"]+\"/original\"\n",
    "split_folder_path=settings[\"data_path\"]+\"/split\"\n",
    "chunk_size_limit=settings[\"chunk_size_limit\"]\n",
    "\n",
    "def filename_fn(filename): return {\"file_name\": filename}\n",
    "\n",
    "directory_reader = SimpleDirectoryReader(\n",
    "    original_folder_path,\n",
    "    file_metadata=filename_fn,\n",
    "    recursive=True,\n",
    ")\n",
    "\n",
    "available_file_list= [str(input_file)\n",
    "                for input_file in directory_reader.input_files]   \n",
    "\n",
    "#check for finished documents\n",
    "split_file_list=glob.glob(split_folder_path+\"/*\")\n",
    "fin_file_list=[re.sub(r\"_[0-9]+.txt\",\"\",file) for file in split_file_list]\n",
    "fin_file_list=list(set(fin_file_list))\n",
    "fin_file_list=[os.path.basename(file) for file in fin_file_list]\n",
    "fin_file_list=[original_folder_path+\"/\"+file for file in fin_file_list]\n",
    "\n",
    "fin_ids=[]\n",
    "for i,file in enumerate(available_file_list):\n",
    "    if file in fin_file_list:\n",
    "        fin_ids.append(i)\n",
    "\n",
    "for i in sorted(fin_ids, reverse=True):\n",
    "        directory_reader.input_files.pop(i)\n",
    "\n",
    "\n",
    "documents = directory_reader.load_data()\n",
    "\n",
    "for doc in documents:\n",
    "    text=doc.text\n",
    "    file_path=doc.extra_info[\"file_name\"]\n",
    "    file_name=os.path.basename(file_path)\n",
    "\n",
    "    chunk_list=split_text(text,chunk_size_limit)\n",
    "\n",
    "    for i,chunk in enumerate(chunk_list):\n",
    "        output_file=split_folder_path+\"/\"+file_name+\"_\"+str(i)+\".txt\"\n",
    "        with open(output_file, 'w') as f:\n",
    "            f.write(chunk)"
   ]
  },
  {
   "cell_type": "code",
   "execution_count": 51,
   "metadata": {},
   "outputs": [
    {
     "data": {
      "text/plain": [
       "[0, 1, 2]"
      ]
     },
     "execution_count": 51,
     "metadata": {},
     "output_type": "execute_result"
    }
   ],
   "source": [
    "fin_ids"
   ]
  },
  {
   "cell_type": "code",
   "execution_count": 52,
   "metadata": {},
   "outputs": [
    {
     "data": {
      "text/plain": [
       "[]"
      ]
     },
     "execution_count": 52,
     "metadata": {},
     "output_type": "execute_result"
    }
   ],
   "source": [
    "documents"
   ]
  },
  {
   "cell_type": "code",
   "execution_count": 56,
   "metadata": {},
   "outputs": [
    {
     "name": "stdout",
     "output_type": "stream",
     "text": [
      "skip: UserData/original/ginga_tets.txt\n",
      "skip: UserData/original/wagahai.txt\n",
      "split: sikkaku.pdf\n"
     ]
    }
   ],
   "source": [
    "from LLMSearch.DocSplitter import split_documents\n",
    "\n",
    "split_documents()\n"
   ]
  },
  {
   "cell_type": "code",
   "execution_count": null,
   "metadata": {},
   "outputs": [],
   "source": []
  }
 ],
 "metadata": {
  "kernelspec": {
   "display_name": "lora",
   "language": "python",
   "name": "python3"
  },
  "language_info": {
   "codemirror_mode": {
    "name": "ipython",
    "version": 3
   },
   "file_extension": ".py",
   "mimetype": "text/x-python",
   "name": "python",
   "nbconvert_exporter": "python",
   "pygments_lexer": "ipython3",
   "version": "3.10.10"
  },
  "orig_nbformat": 4
 },
 "nbformat": 4,
 "nbformat_minor": 2
}
