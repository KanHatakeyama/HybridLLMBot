{
 "cells": [
  {
   "cell_type": "code",
   "execution_count": 49,
   "metadata": {},
   "outputs": [
    {
     "name": "stdout",
     "output_type": "stream",
     "text": [
      "The autoreload extension is already loaded. To reload it, use:\n",
      "  %reload_ext autoreload\n"
     ]
    }
   ],
   "source": [
    "#ライブラリの自動リロード\n",
    "%load_ext autoreload\n",
    "%autoreload 2\n",
    "\n",
    "import openai\n",
    "from settings.key import GPT_API_KEY\n",
    "openai.api_key = GPT_API_KEY\n",
    "\n",
    "from LLMSearch.AnswerBot import AnswerBot,parse_answer\n",
    "from settings.key import GPT_API_KEY, DEEPL_API_KEY\n",
    "from LLMSearch.GPTQuery import GPTQuery\n",
    "from LLMSearch.BM25VecDB import BM25VecDB\n",
    "\n",
    "from LLMSearch.GPTQuery import GPTQuery\n"
   ]
  },
  {
   "cell_type": "code",
   "execution_count": 50,
   "metadata": {},
   "outputs": [],
   "source": [
    "\n",
    "#bm=BM25DB(initiate=True)\n",
    "#searcher=SQLTextDB()\n",
    "\n",
    "# initiate bot module\n",
    "bot1 = AnswerBot(query_module=GPTQuery(GPT_API_KEY),\n",
    "                searcher=BM25VecDB(),\n",
    "                DEEPL_API_KEY=DEEPL_API_KEY,\n",
    "                )\n"
   ]
  },
  {
   "cell_type": "code",
   "execution_count": 51,
   "metadata": {},
   "outputs": [
    {
     "name": "stdout",
     "output_type": "stream",
     "text": [
      "init database\n"
     ]
    },
    {
     "name": "stderr",
     "output_type": "stream",
     "text": [
      "100%|██████████| 4562/4562 [05:56<00:00, 12.79it/s] \n"
     ]
    }
   ],
   "source": [
    "#bot1.index_documents(initiate=True)"
   ]
  },
  {
   "cell_type": "code",
   "execution_count": null,
   "metadata": {},
   "outputs": [
    {
     "name": "stderr",
     "output_type": "stream",
     "text": [
      "100%|██████████| 1561/1561 [01:01<00:00, 25.31it/s] \n"
     ]
    }
   ],
   "source": [
    "bot1.index_documents(initiate=False)\n",
    "#bot2.index_documents(initiate=False)\n",
    "#bot3.index_documents(initiate=False)"
   ]
  },
  {
   "cell_type": "code",
   "execution_count": null,
   "metadata": {},
   "outputs": [],
   "source": [
    "query=\"イオン伝導度を上げるためには?\"\n",
    "query=\"低誘電特性 ポリマー\"\n",
    "query=\"低誘電率 ポリイミド 設計\"\n",
    "#query='DLC-BCPsはどのような構造が形成されることがわかりましたか？'\n",
    "#query= 'メタロセン触媒はどのような重合の可能性を与えますか？'\n",
    "\n",
    "related_documents=[]\n",
    "#for bot in [bot1,bot2,bot3]:\n",
    "for bot in [bot1]:\n",
    "    related_documents+=bot.search_related_documents(query, k=10)\n"
   ]
  },
  {
   "cell_type": "code",
   "execution_count": null,
   "metadata": {},
   "outputs": [
    {
     "name": "stdout",
     "output_type": "stream",
     "text": [
      "0 WO2016159102A1 - フッ素系樹脂含有非水系分散体、フッ素系樹脂含有ポリイミド前駆体溶液組成物、それを用いたポリイミド、ポリイミドフィルム、回路基板用接着剤組成物、およびそれらの製造方法\n",
      "1. 誘電率は低い方が求められております。\n",
      "2. フッ素系樹脂含有ポリイミド前駆体溶液組成物の分子構造は、詳細な情報は記載されていませんが、フッ素系樹脂が含まれており、フッ素が分散状態を均一にコントロールしているとされています。\n",
      "1 JP7206323B2 - ミリ波アンテナ用フィルム\n",
      "1. ポリエチレンは約2.3の誘電率を持ち、ポリテトラフルオロエチレンは約2.1の誘電率を持ちます。\n",
      "2. ポリイミド樹脂は高い絶縁性、寸法安定性、易成形性、軽量などの特徴を持っています。\n",
      "2 JP6295013B2 - 液晶ポリマー粒子を含有する樹脂組成物、それを用いた成形体、及びそれらの製造方法\n",
      "1. 誘電率が比較的高い樹脂としては、液晶ポリマーよりも誘電率が高い樹脂、例えば、５ＧＨｚにおける誘電率が３以上、又は３.２以上の樹脂が挙げられます。\n",
      "\n",
      "2. 文脈には分子構造に関する具体的な情報は提供されておらず、分子構造については明記されていません。\n",
      "3 JP5555225B2 - 金属酸化物多孔質体の製造方法\n",
      "1. 誘電率は2.5以下であり、好ましくは2.0以下です。\n",
      "2. 提供された文脈では、金属酸化物多孔質体の具体的な分子構造については言及されていません。\n",
      "4 JP6761588B2 - 低誘電接着剤組成物\n",
      "1. 文脈からは明確な数字が提供されていないため、具体的な誘電率の数値はわかりません。ただし、述べられているように、接着剤組成物の電気特性は誘電率が低く、良好であるとされています。\n",
      "\n",
      "2. 文脈からは分子構造に関する具体的な情報は提供されていません。ただし、述べられているように、接着剤組成物は結晶性酸変性ポリオレフィンを含んでいることが示唆されています。\n",
      "5 JP6936239B2 - ポリイミドフィルム、銅張積層板及び回路基板\n",
      "1. ポリイミドフィルムの誘電率は3.2以下です。\n",
      "2. ポリイミドフィルムは非熱可塑性ポリイミド層と熱可塑性ポリイミド層を含む分子構造を持っています。\n",
      "6 JP5884953B2 - 光学フィルター、固体撮像装置およびカメラモジュール\n",
      "1. 誘電率が1.2〜1.6の範囲にある材料が選択されることがあります。\n",
      "2. 具体的な分子構造については与えられていませんが、使用される材料としてはシリカ、アルミナ、フッ化ランタン、フッ化マグネシウムおよび六フッ化アルミニウムナトリウムが挙げられています。\n",
      "7 JP5884953B2 - 光学フィルター、固体撮像装置およびカメラモジュール\n",
      "1. 提供された文脈からは、光学フィルターの誘電体多層膜の誘電率の具体的な数値は明記されていません。文脈によって異なる可能性がありますので、詳細は提供された文脈以外の情報が必要です。\n",
      "\n",
      "2. 提供された文脈からは、化合物の分子構造に関する具体的な情報はわかりません。分子構造についての詳細は提供された文脈以外の情報が必要です。\n",
      "8 JP6908090B2 - 配線構造体\n",
      "1. 第１の有機材料膜１０６を構成する材料であるポリイミドの誘電率は、３.５以下です。\n",
      "2. 提供された文脈では、分子構造について具体的な情報は提供されていません。\n",
      "9 JP6662299B2 - 光学フィルタ及びこれを用いた装置\n",
      "1. 高屈折率膜の誘電率は1.6以上であり、より好ましくは2.2〜2.5です。\n",
      "2. 赤外光反射層の高屈折率膜材料として、例えばTiO2（二酸化チタン）、Ta2O5（五酸化タンタル）、Nb2O5（五酸化ニオブ）が挙げられます。特に、成膜性、屈折率の再現性、安定性の点から、TiO2が好ましいです。\n"
     ]
    }
   ],
   "source": [
    "from tqdm import tqdm\n",
    "gpt=GPTQuery(GPT_API_KEY)\n",
    "query_to_gpt=f\"\"\"\n",
    "{query}との関係性の有無を一言で｡\n",
    "\"\"\"\n",
    "query_to_gpt=\"\"\"\n",
    "1. どの程度の誘電率か?\n",
    "2. どのような分子構造か?\n",
    "\"\"\"\n",
    "for idx in (range(len(related_documents))):\n",
    "    text=related_documents[idx][\"text\"]\n",
    "    path=related_documents[idx][\"path\"]\n",
    "\n",
    "    with open(path, 'r') as f:\n",
    "        title= f.readline().strip()\n",
    "        \n",
    "    related_documents[idx][\"title\"]=title\n",
    "    \n",
    "    response=gpt.ask_gpt(query_to_gpt,context_text=f\"title: {title} content: {text}\")\n",
    "    related_documents[idx][\"gpt_response\"]=response\n",
    "    print(idx,title)\n",
    "    print(response)"
   ]
  },
  {
   "cell_type": "code",
   "execution_count": null,
   "metadata": {},
   "outputs": [],
   "source": []
  },
  {
   "cell_type": "code",
   "execution_count": null,
   "metadata": {},
   "outputs": [
    {
     "data": {
      "text/plain": [
       "'ポリイミドフィルムの低誘電特性'"
      ]
     },
     "execution_count": 21,
     "metadata": {},
     "output_type": "execute_result"
    }
   ],
   "source": []
  },
  {
   "cell_type": "code",
   "execution_count": null,
   "metadata": {},
   "outputs": [
    {
     "data": {
      "text/plain": [
       "'ただし、ｎ３＝０の場合、式（Ｃ１）中の２つのアミノ基はパラ位ではないものとする.]本発明の第１、第２又は第３の観点の銅張積層板は、絶縁層と、該絶縁層の少なくとも一方の面に銅箔を備え、前記絶縁層が、上記いずれかに記載のポリイミドフィルムを含むことを特徴とする.本発明の第１、第２又は第３の観点の回路基板は、上記銅張積層板の銅箔を配線に加工してなるものである.本発明の第１〜第３の観点のポリイミドフィルムは、特定の酸無水物を原料として非熱可塑性ポリイミド層を形成することによって、ベース樹脂層としての物性の担保と低吸湿率化の両立を可能とし、低誘電正接化を可能とする.また、本発明の第１又は第２の観点のポリイミドフィルムは、特定のジアミン化合物を導入した熱可塑性ポリイミドによって熱可塑性ポリイミド層を形成することで、低吸湿率化及び低誘電正接化を可能とした.そして、両樹脂層を組み合わせた多層フィルムは、吸湿性及び誘電正接が低く、且つ、銅箔の熱圧着後の寸法安定性においても優れるものである.従って、本発明のポリイミドフィルム及びそれを用いた銅張積層板をＦＰＣ材料として利用することによって、回路基板において信頼性と歩留まりの向上を図ることができ、例えば、１０ＧＨｚ以上という高周波信号を伝送する回路基板等への適用も可能となる.'"
      ]
     },
     "execution_count": 22,
     "metadata": {},
     "output_type": "execute_result"
    }
   ],
   "source": []
  },
  {
   "cell_type": "code",
   "execution_count": null,
   "metadata": {},
   "outputs": [],
   "source": []
  }
 ],
 "metadata": {
  "kernelspec": {
   "display_name": "lora",
   "language": "python",
   "name": "python3"
  },
  "language_info": {
   "codemirror_mode": {
    "name": "ipython",
    "version": 3
   },
   "file_extension": ".py",
   "mimetype": "text/x-python",
   "name": "python",
   "nbconvert_exporter": "python",
   "pygments_lexer": "ipython3",
   "version": "3.10.10"
  },
  "orig_nbformat": 4
 },
 "nbformat": 4,
 "nbformat_minor": 2
}
