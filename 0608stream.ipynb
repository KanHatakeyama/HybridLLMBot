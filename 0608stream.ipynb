{
 "cells": [
  {
   "cell_type": "code",
   "execution_count": null,
   "metadata": {},
   "outputs": [],
   "source": [
    "#ライブラリの自動リロード\n",
    "%load_ext autoreload\n",
    "%autoreload 2\n",
    "\n",
    "import openai\n",
    "from settings.key import GPT_API_KEY\n",
    "openai.api_key = GPT_API_KEY\n",
    "\n",
    "\"\"\"\n",
    "completion = openai.ChatCompletion.create(\n",
    "    model=\"gpt-3.5-turbo\",\n",
    "    messages=[{\"role\": \"user\", \"content\": \"昔々あるところに\"}],\n",
    "    stream=True,\n",
    ")\n",
    "for chunk in completion:\n",
    "    next = chunk['choices'][0]['delta'].get('content', '')\n",
    "    print(next, end='')\n",
    "\"\"\""
   ]
  },
  {
   "cell_type": "code",
   "execution_count": null,
   "metadata": {},
   "outputs": [],
   "source": [
    "from LLMSearch.AnswerBot import AnswerBot,parse_answer\n",
    "from settings.key import GPT_API_KEY, DEEPL_API_KEY\n",
    "from LLMSearch.GPTQuery import GPTQuery\n",
    "\n",
    "\n",
    "\n",
    "# initiate bot module\n",
    "bot = AnswerBot(query_module=GPTQuery(GPT_API_KEY),\n",
    "                DEEPL_API_KEY=DEEPL_API_KEY)\n",
    "\n"
   ]
  },
  {
   "cell_type": "code",
   "execution_count": null,
   "metadata": {},
   "outputs": [],
   "source": [
    "query=\"先生の業績は?\"\n",
    "query=\"先生の趣味は?\"\n",
    "related_documents=bot.search_related_documents(query, k=20)\n",
    "\n",
    "ans={}\n",
    "ans[\"answer\"]=\"\"\n",
    "ans[\"context\"]=related_documents\n",
    "str_ans=parse_answer(ans)"
   ]
  },
  {
   "cell_type": "code",
   "execution_count": null,
   "metadata": {},
   "outputs": [],
   "source": [
    "#related_documentを5こずつに分割\n",
    "related_documents_list=[related_documents[i:i+5] for i in range(0,len(related_documents),5)]\n",
    "related_documents_list"
   ]
  },
  {
   "cell_type": "code",
   "execution_count": null,
   "metadata": {},
   "outputs": [],
   "source": [
    "response=bot.ask(query,context_list= related_documents,stream=True)\n",
    "\n",
    "ans=response[\"answer\"]\n",
    "for chunk in ans:\n",
    "    next = chunk['choices'][0]['delta'].get('content', '')\n",
    "    print(next, end='')"
   ]
  },
  {
   "cell_type": "code",
   "execution_count": null,
   "metadata": {},
   "outputs": [],
   "source": []
  }
 ],
 "metadata": {
  "kernelspec": {
   "display_name": "lora",
   "language": "python",
   "name": "python3"
  },
  "language_info": {
   "codemirror_mode": {
    "name": "ipython",
    "version": 3
   },
   "file_extension": ".py",
   "mimetype": "text/x-python",
   "name": "python",
   "nbconvert_exporter": "python",
   "pygments_lexer": "ipython3",
   "version": "3.10.10"
  },
  "orig_nbformat": 4
 },
 "nbformat": 4,
 "nbformat_minor": 2
}
