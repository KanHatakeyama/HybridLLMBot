{
 "cells": [
  {
   "cell_type": "code",
   "execution_count": 1,
   "metadata": {},
   "outputs": [],
   "source": [
    "%load_ext autoreload\n",
    "%autoreload 2"
   ]
  },
  {
   "attachments": {},
   "cell_type": "markdown",
   "metadata": {},
   "source": [
    "#\n",
    "- Before running the program, launch embedding server\n",
    "  - python embed_server.py"
   ]
  },
  {
   "cell_type": "code",
   "execution_count": 16,
   "metadata": {},
   "outputs": [],
   "source": [
    "from LLMSearch.AnswerBot import AnswerBot\n",
    "from LLMSearch.GPTQuery import GPTQuery\n",
    "from settings.key import GPT_API_KEY,DEEPL_API_KEY\n",
    "bot=AnswerBot(query_module=GPTQuery(GPT_API_KEY),DEEPL_API_KEY=DEEPL_API_KEY)"
   ]
  },
  {
   "cell_type": "code",
   "execution_count": 8,
   "metadata": {},
   "outputs": [],
   "source": [
    "bot.load_model()"
   ]
  },
  {
   "cell_type": "code",
   "execution_count": 24,
   "metadata": {},
   "outputs": [
    {
     "name": "stdout",
     "output_type": "stream",
     "text": [
      "splitting...\n"
     ]
    },
    {
     "name": "stderr",
     "output_type": "stream",
     "text": [
      "100%|██████████| 44/44 [00:02<00:00, 15.41it/s]\n"
     ]
    },
    {
     "name": "stdout",
     "output_type": "stream",
     "text": [
      "calculating vectors...\n"
     ]
    },
    {
     "name": "stderr",
     "output_type": "stream",
     "text": [
      "100%|██████████| 1216/1216 [00:03<00:00, 305.96it/s]\n"
     ]
    }
   ],
   "source": [
    "#bot.index_documents(initiate=True)\n",
    "bot.index_documents(initiate=False)"
   ]
  },
  {
   "cell_type": "code",
   "execution_count": 20,
   "metadata": {},
   "outputs": [
    {
     "data": {
      "text/plain": [
       "[{'path': 'UserData/split/wagahai.txt_0_8678ec4686.txt',\n",
       "  'text': '吾輩は猫である.名前はまだ無い.どこで生れたかとんと見当がつかぬ.何でも薄暗いじめじめした所でニャーニャー泣いていた事だけは記憶している.吾輩はここで始めて人間というものを見た.しかもあとで聞くとそれは書生という人間中で一番獰悪な種族であったそうだ.この書生というのは時々我々を捕えて煮て食うという話である.しかしその当時は何という考もなかったから別段恐しいとも思わなかった.ただ彼の掌に載せられてスーと持ち上げられた時何だかフワフワした感じがあったばかりである..',\n",
       "  'sim': 0.44590127},\n",
       " {'path': 'UserData/split/ginga_tets.txt_0_df937e6923.txt',\n",
       "  'text': '「ではみなさんは、そういうふうに川だと云われたり、乳の流れたあとだと云われたりしていたこのぼんやりと白いものがほんとうは何かご承知ですか.」先生は、黒板に吊した大きな黒い星座の図の、上から下へ白くけぶった銀河帯のようなところを指しながら、みんなに問をかけました.カムパネルラが手をあげました.それから四五人手をあげました.ジョバンニも手をあげようとして、急いでそのままやめました.たしかにあれがみんな星だと、いつか雑誌で読んだのでしたが、このごろはジョバンニはまるで毎日教室でもねむく、本を読むひまも読む本もないので、なんだかどんなこともよくわからないという気持ちがするのでした.ところが先生は早くもそれを見附けたのでした.「ジョバンニさん.あなたはわかっているのでしょう.」.',\n",
       "  'sim': 0.24952209},\n",
       " {'path': 'UserData/split/sikkaku.pdf_0_80b0c06631.txt',\n",
       "  'text': '私は、その男の写真を三葉、見たことがある.一葉は、その男の、幼年時代、とでも言うべきであろうか、十歳前後かと推定される頃の写真であって、その子供が大勢の女のひとに取りかこまれ、（それは、その子供の姉たち、妹たち、それから、従姉妹たちかと想像される）庭園の池のほとりに、荒い縞の袴をはいて立ち、首を三十度ほど左に傾け、醜く笑っている写真である.醜く.けれども、鈍い人たち（つまり、美醜などに関心を持たぬ人たち）は、面白くも何とも無いような顔をして、「可愛い坊ちゃんですね」といい加減なお世辞を言っても、まんざら空お世辞に聞えないくらいの、謂わば通俗の「可愛らしさ」みたいな影もその子供の笑顔に無いわけではないのだが、しかし、いささかでも、美醜に就いての訓練を経て来たひとなら、ひとめ見てすぐ、「なんて、いやな子供だ」と頗る不快そうに呟き、毛虫でも払いのける時のような手つきで、その写真をほうり投げるかも.',\n",
       "  'sim': 0.23147915}]"
      ]
     },
     "execution_count": 20,
     "metadata": {},
     "output_type": "execute_result"
    }
   ],
   "source": [
    "txt=\"吾輩は猫である \"\n",
    "bot.search_related_documents(txt,k=3,pad=False)"
   ]
  },
  {
   "cell_type": "code",
   "execution_count": 21,
   "metadata": {},
   "outputs": [
    {
     "data": {
      "text/plain": [
       "'この文章では猫の名前はまだ無いと述べられています。\\n\\nReference 1 \\n吾輩は猫である.名前はまだ無い.どこで生れたかとんと見当がつかぬ.何でも薄暗いじめじめした所でニャーニャー泣いていた事だけは記憶している.吾輩はここで始めて人間というものを見た.しかもあとで聞くとそれは書生という人間中で一番獰悪な種族であったそうだ.この書生というのは時々我々を捕えて煮て食うという話である.しかしその当時は何という考もなかったから別段恐しいとも思わなかった.ただ彼の掌に載せられてスーと持ち上げられた時何だかフワフワした感じがあったばかりである.. \\nUserData/split/wagahai.txt_0_8678ec4686.txt \\nSimilarity 0.31155866384506226\\n---\\nReference 2 \\n「ではみなさんは、そういうふうに川だと云われたり、乳の流れたあとだと云われたりしていたこのぼんやりと白いものがほんとうは何かご承知ですか.」先生は、黒板に吊した大きな黒い星座の図の、上から下へ白くけぶった銀河帯のようなところを指しながら、みんなに問をかけました.カムパネルラが手をあげました.それから四五人手をあげました.ジョバンニも手をあげようとして、急いでそのままやめました.たしかにあれがみんな星だと、いつか雑誌で読んだのでしたが、このごろはジョバンニはまるで毎日教室でもねむく、本を読むひまも読む本もないので、なんだかどんなこともよくわからないという気持ちがするのでした.ところが先生は早くもそれを見附けたのでした.「ジョバンニさん.あなたはわかっているのでしょう.」. \\nUserData/split/ginga_tets.txt_0_df937e6923.txt \\nSimilarity 0.2430923581123352\\n---\\nReference 3 \\n私は、その男の写真を三葉、見たことがある.一葉は、その男の、幼年時代、とでも言うべきであろうか、十歳前後かと推定される頃の写真であって、その子供が大勢の女のひとに取りかこまれ、（それは、その子供の姉たち、妹たち、それから、従姉妹たちかと想像される）庭園の池のほとりに、荒い縞の袴をはいて立ち、首を三十度ほど左に傾け、醜く笑っている写真である.醜く.けれども、鈍い人たち（つまり、美醜などに関心を持たぬ人たち）は、面白くも何とも無いような顔をして、「可愛い坊ちゃんですね」といい加減なお世辞を言っても、まんざら空お世辞に聞えないくらいの、謂わば通俗の「可愛らしさ」みたいな影もその子供の笑顔に無いわけではないのだが、しかし、いささかでも、美醜に就いての訓練を経て来たひとなら、ひとめ見てすぐ、「なんて、いやな子供だ」と頗る不快そうに呟き、毛虫でも払いのける時のような手つきで、その写真をほうり投げるかも. \\nUserData/split/sikkaku.pdf_0_80b0c06631.txt \\nSimilarity 0.2206260710954666\\n---\\n'"
      ]
     },
     "execution_count": 21,
     "metadata": {},
     "output_type": "execute_result"
    }
   ],
   "source": [
    "question=\"猫の名前は?\"\n",
    "ans=bot.ask(question,k=3,pad=False)\n",
    "ans"
   ]
  },
  {
   "cell_type": "code",
   "execution_count": 22,
   "metadata": {},
   "outputs": [
    {
     "data": {
      "text/plain": [
       "'The cat\\'s name is not mentioned in the passage, but we can infer that the cat is the protagonist of the story and is referred to as \"wagahai\" (meaning \"I\" or \"myself\" in Japanese) by the cat himself.\\n\\nReference 1 \\n私は、その男の写真を三葉、見たことがある.一葉は、その男の、幼年時代、とでも言うべきであろうか、十歳前後かと推定される頃の写真であって、その子供が大勢の女のひとに取りかこまれ、（それは、その子供の姉たち、妹たち、それから、従姉妹たちかと想像される）庭園の池のほとりに、荒い縞の袴をはいて立ち、首を三十度ほど左に傾け、醜く笑っている写真である.醜く.けれども、鈍い人たち（つまり、美醜などに関心を持たぬ人たち）は、面白くも何とも無いような顔をして、「可愛い坊ちゃんですね」といい加減なお世辞を言っても、まんざら空お世辞に聞えないくらいの、謂わば通俗の「可愛らしさ」みたいな影もその子供の笑顔に無いわけではないのだが、しかし、いささかでも、美醜に就いての訓練を経て来たひとなら、ひとめ見てすぐ、「なんて、いやな子供だ」と頗る不快そうに呟き、毛虫でも払いのける時のような手つきで、その写真をほうり投げるかも. \\nUserData/split/sikkaku.pdf_0_80b0c06631.txt \\nSimilarity 0.2055223435163498\\n---\\n'"
      ]
     },
     "execution_count": 22,
     "metadata": {},
     "output_type": "execute_result"
    }
   ],
   "source": [
    "question=\"What is the name of the cat 'wagahai'?\"\n",
    "ans=bot.ask(question,k=1,pad=True)\n",
    "ans"
   ]
  },
  {
   "cell_type": "code",
   "execution_count": 25,
   "metadata": {},
   "outputs": [
    {
     "name": "stdout",
     "output_type": "stream",
     "text": [
      "回答: ベルナルドは、\"誰がいるんだ？\"という質問をした。\n",
      "Answer: Bernardo asked the question, \"Who's there?\"\n",
      "\n",
      "Reference 1 \n",
      "BERNARDO.Who's there..FRANCISCO.Nay, answer me.stand, and unfold yourself..BERNARDO.Long live the king..FRANCISCO.Bernardo.. \n",
      "UserData/split/hamlet.txt_0_ee5b8c602c.txt \n",
      "Similarity 0.3704254627227783\n",
      "---\n",
      "\n"
     ]
    }
   ],
   "source": [
    "question=\"そこに居るのは誰だと質問したのは誰?\"\n",
    "ans=bot.ask(question,k=1,pad=True,Ja_to_En=True)\n",
    "print(ans)"
   ]
  },
  {
   "cell_type": "code",
   "execution_count": 26,
   "metadata": {},
   "outputs": [
    {
     "name": "stdout",
     "output_type": "stream",
     "text": [
      "誰が質問したかは文中に記されていません。ただし、「カムパネルラが手をあげました。それから四五人手をあげました。」という記述があります。\n",
      "\n",
      "Reference 1 \n",
      "「ではみなさんは、そういうふうに川だと云われたり、乳の流れたあとだと云われたりしていたこのぼんやりと白いものがほんとうは何かご承知ですか.」先生は、黒板に吊した大きな黒い星座の図の、上から下へ白くけぶった銀河帯のようなところを指しながら、みんなに問をかけました.カムパネルラが手をあげました.それから四五人手をあげました.ジョバンニも手をあげようとして、急いでそのままやめました.たしかにあれがみんな星だと、いつか雑誌で読んだのでしたが、このごろはジョバンニはまるで毎日教室でもねむく、本を読むひまも読む本もないので、なんだかどんなこともよくわからないという気持ちがするのでした.ところが先生は早くもそれを見附けたのでした.「ジョバンニさん.あなたはわかっているのでしょう.」. \n",
      "UserData/split/ginga_tets.txt_0_df937e6923.txt \n",
      "Similarity 0.35472041368484497\n",
      "---\n",
      "\n"
     ]
    }
   ],
   "source": [
    "question=\"そこに居るのは誰だと質問したのは誰?\"\n",
    "ans=bot.ask(question,k=1,pad=True,Ja_to_En=False)\n",
    "print(ans)"
   ]
  },
  {
   "cell_type": "code",
   "execution_count": null,
   "metadata": {},
   "outputs": [],
   "source": []
  }
 ],
 "metadata": {
  "kernelspec": {
   "display_name": "lora",
   "language": "python",
   "name": "python3"
  },
  "language_info": {
   "codemirror_mode": {
    "name": "ipython",
    "version": 3
   },
   "file_extension": ".py",
   "mimetype": "text/x-python",
   "name": "python",
   "nbconvert_exporter": "python",
   "pygments_lexer": "ipython3",
   "version": "3.10.10"
  },
  "orig_nbformat": 4
 },
 "nbformat": 4,
 "nbformat_minor": 2
}
