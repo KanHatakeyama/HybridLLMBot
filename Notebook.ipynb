{
 "cells": [
  {
   "cell_type": "code",
   "execution_count": 1,
   "metadata": {},
   "outputs": [],
   "source": [
    "%load_ext autoreload\n",
    "%autoreload 2"
   ]
  },
  {
   "attachments": {},
   "cell_type": "markdown",
   "metadata": {},
   "source": [
    "#\n",
    "- Before running the program, launch embedding server\n",
    "  - python embed_server.py"
   ]
  },
  {
   "cell_type": "code",
   "execution_count": 2,
   "metadata": {},
   "outputs": [
    {
     "name": "stderr",
     "output_type": "stream",
     "text": [
      "INFO:faiss.loader:Loading faiss with AVX2 support.\n",
      "INFO:faiss.loader:Successfully loaded faiss with AVX2 support.\n",
      "[nltk_data] Downloading package punkt to /home/kh/nltk_data...\n",
      "[nltk_data]   Package punkt is already up-to-date!\n"
     ]
    }
   ],
   "source": [
    "from LLMSearch.AnswerBot import AnswerBot\n",
    "from LLMSearch.GPTQuery import GPTQuery\n",
    "from settings.key import GPT_API_KEY,DEEPL_API_KEY\n",
    "bot=AnswerBot(query_module=GPTQuery(GPT_API_KEY),DEEPL_API_KEY=DEEPL_API_KEY)"
   ]
  },
  {
   "cell_type": "code",
   "execution_count": 3,
   "metadata": {},
   "outputs": [],
   "source": [
    "#bot.load_model()"
   ]
  },
  {
   "cell_type": "code",
   "execution_count": 6,
   "metadata": {},
   "outputs": [
    {
     "name": "stderr",
     "output_type": "stream",
     "text": [
      " 28%|██▊       | 99/358 [03:19<08:40,  2.01s/it]\n"
     ]
    },
    {
     "ename": "KeyboardInterrupt",
     "evalue": "",
     "output_type": "error",
     "traceback": [
      "\u001b[0;31m---------------------------------------------------------------------------\u001b[0m",
      "\u001b[0;31mKeyboardInterrupt\u001b[0m                         Traceback (most recent call last)",
      "\u001b[1;32m/media/kh/python/2023/20230427rwkvGPT/Notebook.ipynb セル 5\u001b[0m in \u001b[0;36m<cell line: 3>\u001b[0;34m()\u001b[0m\n\u001b[1;32m      <a href='vscode-notebook-cell://ssh-remote%2Bold-ubuntu/media/kh/python/2023/20230427rwkvGPT/Notebook.ipynb#W4sdnNjb2RlLXJlbW90ZQ%3D%3D?line=0'>1</a>\u001b[0m initiate\u001b[39m=\u001b[39m\u001b[39mFalse\u001b[39;00m\n\u001b[1;32m      <a href='vscode-notebook-cell://ssh-remote%2Bold-ubuntu/media/kh/python/2023/20230427rwkvGPT/Notebook.ipynb#W4sdnNjb2RlLXJlbW90ZQ%3D%3D?line=1'>2</a>\u001b[0m initiate\u001b[39m=\u001b[39m\u001b[39mTrue\u001b[39;00m\n\u001b[0;32m----> <a href='vscode-notebook-cell://ssh-remote%2Bold-ubuntu/media/kh/python/2023/20230427rwkvGPT/Notebook.ipynb#W4sdnNjb2RlLXJlbW90ZQ%3D%3D?line=2'>3</a>\u001b[0m bot\u001b[39m.\u001b[39;49mindex_documents(initiate\u001b[39m=\u001b[39;49minitiate)\n",
      "File \u001b[0;32m/media/kh/python/2023/20230427rwkvGPT/LLMSearch/AnswerBot.py:61\u001b[0m, in \u001b[0;36mAnswerBot.index_documents\u001b[0;34m(self, initiate)\u001b[0m\n\u001b[1;32m     57\u001b[0m path_list \u001b[39m=\u001b[39m glob\u001b[39m.\u001b[39mglob(\n\u001b[1;32m     58\u001b[0m     \u001b[39mself\u001b[39m\u001b[39m.\u001b[39msettings[\u001b[39m\"\u001b[39m\u001b[39mdata_path\u001b[39m\u001b[39m\"\u001b[39m]\u001b[39m+\u001b[39m\u001b[39m\"\u001b[39m\u001b[39m/original/**/*.txt\u001b[39m\u001b[39m\"\u001b[39m, recursive\u001b[39m=\u001b[39m\u001b[39mTrue\u001b[39;00m)\n\u001b[1;32m     60\u001b[0m \u001b[39mfor\u001b[39;00m path \u001b[39min\u001b[39;00m tqdm(path_list):\n\u001b[0;32m---> 61\u001b[0m     \u001b[39mself\u001b[39;49m\u001b[39m.\u001b[39;49msearcher\u001b[39m.\u001b[39;49madd_text(path)\n",
      "File \u001b[0;32m/media/kh/python/2023/20230427rwkvGPT/LLMSearch/SQLTextDB.py:57\u001b[0m, in \u001b[0;36mSQLTextDB.add_text\u001b[0;34m(self, path)\u001b[0m\n\u001b[1;32m     55\u001b[0m chunk_list \u001b[39m=\u001b[39m split_text(text, \u001b[39mself\u001b[39m\u001b[39m.\u001b[39mchunk_size_limit)\n\u001b[1;32m     56\u001b[0m \u001b[39mfor\u001b[39;00m i, chunk \u001b[39min\u001b[39;00m \u001b[39menumerate\u001b[39m(chunk_list):\n\u001b[0;32m---> 57\u001b[0m     \u001b[39mself\u001b[39;49m\u001b[39m.\u001b[39;49madd_record(path, chunk, i)\n",
      "File \u001b[0;32m/media/kh/python/2023/20230427rwkvGPT/LLMSearch/SQLTextDB.py:35\u001b[0m, in \u001b[0;36mSQLTextDB.add_record\u001b[0;34m(self, path, text, split_id)\u001b[0m\n\u001b[1;32m     34\u001b[0m \u001b[39mdef\u001b[39;00m \u001b[39madd_record\u001b[39m(\u001b[39mself\u001b[39m, path, text, split_id):\n\u001b[0;32m---> 35\u001b[0m     \u001b[39mself\u001b[39;49m\u001b[39m.\u001b[39;49mdb[\u001b[39m'\u001b[39;49m\u001b[39mtext\u001b[39;49m\u001b[39m'\u001b[39;49m]\u001b[39m.\u001b[39;49minsert({\n\u001b[1;32m     36\u001b[0m         \u001b[39m\"\u001b[39;49m\u001b[39mpath\u001b[39;49m\u001b[39m\"\u001b[39;49m: path,\n\u001b[1;32m     37\u001b[0m         \u001b[39m'\u001b[39;49m\u001b[39msplit_id\u001b[39;49m\u001b[39m'\u001b[39;49m: split_id,\n\u001b[1;32m     38\u001b[0m         \u001b[39m'\u001b[39;49m\u001b[39mtext\u001b[39;49m\u001b[39m'\u001b[39;49m: text\n\u001b[1;32m     39\u001b[0m     })\n\u001b[1;32m     40\u001b[0m     \u001b[39mif\u001b[39;00m split_id \u001b[39m==\u001b[39m \u001b[39m0\u001b[39m:\n\u001b[1;32m     41\u001b[0m         \u001b[39mself\u001b[39m\u001b[39m.\u001b[39mdb[\u001b[39m'\u001b[39m\u001b[39mfinished\u001b[39m\u001b[39m'\u001b[39m]\u001b[39m.\u001b[39minsert({\u001b[39m\"\u001b[39m\u001b[39mpath\u001b[39m\u001b[39m\"\u001b[39m: path})\n",
      "File \u001b[0;32m~/anaconda3/envs/lora/lib/python3.10/site-packages/sqlite_utils/db.py:3017\u001b[0m, in \u001b[0;36mTable.insert\u001b[0;34m(self, record, pk, foreign_keys, column_order, not_null, defaults, hash_id, hash_id_columns, alter, ignore, replace, extracts, conversions, columns)\u001b[0m\n\u001b[1;32m   2968\u001b[0m \u001b[39mdef\u001b[39;00m \u001b[39minsert\u001b[39m(\n\u001b[1;32m   2969\u001b[0m     \u001b[39mself\u001b[39m,\n\u001b[1;32m   2970\u001b[0m     record: Dict[\u001b[39mstr\u001b[39m, Any],\n\u001b[0;32m   (...)\u001b[0m\n\u001b[1;32m   2983\u001b[0m     columns: Optional[Union[Dict[\u001b[39mstr\u001b[39m, Any], Default]] \u001b[39m=\u001b[39m DEFAULT,\n\u001b[1;32m   2984\u001b[0m ) \u001b[39m-\u001b[39m\u001b[39m>\u001b[39m \u001b[39m\"\u001b[39m\u001b[39mTable\u001b[39m\u001b[39m\"\u001b[39m:\n\u001b[1;32m   2985\u001b[0m \u001b[39m    \u001b[39m\u001b[39m\"\"\"\u001b[39;00m\n\u001b[1;32m   2986\u001b[0m \u001b[39m    Insert a single record into the table. The table will be created with a schema that matches\u001b[39;00m\n\u001b[1;32m   2987\u001b[0m \u001b[39m    the inserted record if it does not already exist, see :ref:`python_api_creating_tables`.\u001b[39;00m\n\u001b[0;32m   (...)\u001b[0m\n\u001b[1;32m   3015\u001b[0m \u001b[39m      ``{\"age\": int, \"weight\": float}``.\u001b[39;00m\n\u001b[1;32m   3016\u001b[0m \u001b[39m    \"\"\"\u001b[39;00m\n\u001b[0;32m-> 3017\u001b[0m     \u001b[39mreturn\u001b[39;00m \u001b[39mself\u001b[39;49m\u001b[39m.\u001b[39;49minsert_all(\n\u001b[1;32m   3018\u001b[0m         [record],\n\u001b[1;32m   3019\u001b[0m         pk\u001b[39m=\u001b[39;49mpk,\n\u001b[1;32m   3020\u001b[0m         foreign_keys\u001b[39m=\u001b[39;49mforeign_keys,\n\u001b[1;32m   3021\u001b[0m         column_order\u001b[39m=\u001b[39;49mcolumn_order,\n\u001b[1;32m   3022\u001b[0m         not_null\u001b[39m=\u001b[39;49mnot_null,\n\u001b[1;32m   3023\u001b[0m         defaults\u001b[39m=\u001b[39;49mdefaults,\n\u001b[1;32m   3024\u001b[0m         hash_id\u001b[39m=\u001b[39;49mhash_id,\n\u001b[1;32m   3025\u001b[0m         hash_id_columns\u001b[39m=\u001b[39;49mhash_id_columns,\n\u001b[1;32m   3026\u001b[0m         alter\u001b[39m=\u001b[39;49malter,\n\u001b[1;32m   3027\u001b[0m         ignore\u001b[39m=\u001b[39;49mignore,\n\u001b[1;32m   3028\u001b[0m         replace\u001b[39m=\u001b[39;49mreplace,\n\u001b[1;32m   3029\u001b[0m         extracts\u001b[39m=\u001b[39;49mextracts,\n\u001b[1;32m   3030\u001b[0m         conversions\u001b[39m=\u001b[39;49mconversions,\n\u001b[1;32m   3031\u001b[0m         columns\u001b[39m=\u001b[39;49mcolumns,\n\u001b[1;32m   3032\u001b[0m     )\n",
      "File \u001b[0;32m~/anaconda3/envs/lora/lib/python3.10/site-packages/sqlite_utils/db.py:3145\u001b[0m, in \u001b[0;36mTable.insert_all\u001b[0;34m(self, records, pk, foreign_keys, column_order, not_null, defaults, batch_size, hash_id, hash_id_columns, alter, ignore, replace, truncate, extracts, conversions, columns, upsert, analyze)\u001b[0m\n\u001b[1;32m   3139\u001b[0m             all_columns \u001b[39m+\u001b[39m\u001b[39m=\u001b[39m [\n\u001b[1;32m   3140\u001b[0m                 column \u001b[39mfor\u001b[39;00m column \u001b[39min\u001b[39;00m record \u001b[39mif\u001b[39;00m column \u001b[39mnot\u001b[39;00m \u001b[39min\u001b[39;00m all_columns\n\u001b[1;32m   3141\u001b[0m             ]\n\u001b[1;32m   3143\u001b[0m     first \u001b[39m=\u001b[39m \u001b[39mFalse\u001b[39;00m\n\u001b[0;32m-> 3145\u001b[0m     \u001b[39mself\u001b[39;49m\u001b[39m.\u001b[39;49minsert_chunk(\n\u001b[1;32m   3146\u001b[0m         alter,\n\u001b[1;32m   3147\u001b[0m         extracts,\n\u001b[1;32m   3148\u001b[0m         chunk,\n\u001b[1;32m   3149\u001b[0m         all_columns,\n\u001b[1;32m   3150\u001b[0m         hash_id,\n\u001b[1;32m   3151\u001b[0m         hash_id_columns,\n\u001b[1;32m   3152\u001b[0m         upsert,\n\u001b[1;32m   3153\u001b[0m         pk,\n\u001b[1;32m   3154\u001b[0m         not_null,\n\u001b[1;32m   3155\u001b[0m         conversions,\n\u001b[1;32m   3156\u001b[0m         num_records_processed,\n\u001b[1;32m   3157\u001b[0m         replace,\n\u001b[1;32m   3158\u001b[0m         ignore,\n\u001b[1;32m   3159\u001b[0m     )\n\u001b[1;32m   3161\u001b[0m \u001b[39mif\u001b[39;00m analyze:\n\u001b[1;32m   3162\u001b[0m     \u001b[39mself\u001b[39m\u001b[39m.\u001b[39manalyze()\n",
      "File \u001b[0;32m~/anaconda3/envs/lora/lib/python3.10/site-packages/sqlite_utils/db.py:2905\u001b[0m, in \u001b[0;36mTable.insert_chunk\u001b[0;34m(self, alter, extracts, chunk, all_columns, hash_id, hash_id_columns, upsert, pk, not_null, conversions, num_records_processed, replace, ignore)\u001b[0m\n\u001b[1;32m   2874\u001b[0m \u001b[39mdef\u001b[39;00m \u001b[39minsert_chunk\u001b[39m(\n\u001b[1;32m   2875\u001b[0m     \u001b[39mself\u001b[39m,\n\u001b[1;32m   2876\u001b[0m     alter,\n\u001b[0;32m   (...)\u001b[0m\n\u001b[1;32m   2888\u001b[0m     ignore,\n\u001b[1;32m   2889\u001b[0m ):\n\u001b[1;32m   2890\u001b[0m     queries_and_params \u001b[39m=\u001b[39m \u001b[39mself\u001b[39m\u001b[39m.\u001b[39mbuild_insert_queries_and_params(\n\u001b[1;32m   2891\u001b[0m         extracts,\n\u001b[1;32m   2892\u001b[0m         chunk,\n\u001b[0;32m   (...)\u001b[0m\n\u001b[1;32m   2902\u001b[0m         ignore,\n\u001b[1;32m   2903\u001b[0m     )\n\u001b[0;32m-> 2905\u001b[0m     \u001b[39mwith\u001b[39;00m \u001b[39mself\u001b[39m\u001b[39m.\u001b[39mdb\u001b[39m.\u001b[39mconn:\n\u001b[1;32m   2906\u001b[0m         result \u001b[39m=\u001b[39m \u001b[39mNone\u001b[39;00m\n\u001b[1;32m   2907\u001b[0m         \u001b[39mfor\u001b[39;00m query, params \u001b[39min\u001b[39;00m queries_and_params:\n",
      "\u001b[0;31mKeyboardInterrupt\u001b[0m: "
     ]
    }
   ],
   "source": [
    "initiate=False\n",
    "#initiate=True\n",
    "bot.index_documents(initiate=initiate)"
   ]
  },
  {
   "cell_type": "code",
   "execution_count": 3,
   "metadata": {},
   "outputs": [
    {
     "data": {
      "text/plain": [
       "[{'path': 'UserData/original/test/wagahai.txt',\n",
       "  'text': '吾輩は猫である.名前はまだ無い.どこで生れたかとんと見当がつかぬ.何でも薄暗いじめじめした所でニャーニャー泣いていた事だけは記憶している.吾輩はここで始めて人間というものを見た.しかもあとで聞くとそれは書生という人間中で一番獰悪な種族であったそうだ.この書生というのは時々我々を捕えて煮て食うという話である.しかしその当時は何という考もなかったから別段恐しいとも思わなかった.ただ彼の掌に載せられてスーと持ち上げられた時何だかフワフワした感じがあったばかりである..',\n",
       "  'sim': 3},\n",
       " {'path': 'UserData/original/text/kobunshi_ronbunshu/koron_73_6_73_2016-0037.txt',\n",
       "  'text': 'https.//www.jstage.jst.go.jp/article/koron/73/6/73_2016-0037/_pdf/-char/ja.高分子論文集〔総合論文〕アミロース誘導体の高い剛直性を利用した剛直な環状高分子の創製と溶液中における分子形態と分子間相互作用寺尾憲*1・領木研之*1（受付2016年6月2日・審査終了2016年7月13日）（早期公開2016年9月6日・DOI.10.1295 /koron.2016- 0037）.要旨アミロースカルバメート誘導体は，隣接した繰返し単位の置換基間の分子内水素結合，そして置換基のかさ高さ，さらには水素結合した溶媒分子によって ，さまざまならせん構造や剛直性を発現する.これらのうち ，とくに後者の剛直性は，ジメチルスルホキシド中のアミロースの 2倍から 20倍の範囲にわたる.われわれは最近，溶液中で比較的屈曲性の高い鎖として振舞う環状アミロースを原料としてさまざまな剛直性をもつ環状鎖が合成可能であることを提案した.本報では，アミロースカルバメート誘導体の剛直性の起源，そして剛直な環状アミロースカルバメート誘導体の溶液中での分子形態や分子間相互作用について報告する.剛直環状鎖の分子形態や分子間相互作用には線状鎖のみからは予想できない特徴がみられた..1はじめに環状高分子と線状高分子の違いは両末端が共有結合しているかどうかに過ぎないが ，溶液中における環状高分子の特性は線状鎖と大きく異なる場合がある.たとえば，高分子間の排除体積効果が消失するシータ温度は星形鎖1),2)や櫛形鎖3),4)など，分岐構造を含んでいても線状鎖との差が非常に小さいのに対し，環状鎖の場合，高分子間の位相幾何学(トポロジー )的な相互作用が顕著に現れることが ，実験的5),6)にも理論的7)～10)にも示されている.このような相互作用の違いは高分子の結晶化挙動や両親媒性環状高分子の集合挙動に顕著な違いとして観察されることも最近報告されている11)～15).さらには，原核生物が遺伝情報の保存に環状のDNAを選択したこと16)からも環状高分子の分子形態や分子間相互作用は興味深い研究分野である..このような環状高分子の溶液中における挙動は，制御重合により得られた線状高分子の両末端をカップリング法により結合した合成環状高分子，そして環状DNA17)～20)についておもに調べられてきた.',\n",
       "  'sim': 1},\n",
       " {'path': 'UserData/original/text/kobunshi_ronbunshu/koron_73_6_73_2016-0037.txt',\n",
       "  'text': '後者は二重らせん構造により環状化の際に生じるねじれに伴う超らせん構造をとる16)ため環状鎖のモデル分子としては必ずしも適切ではない.また前者の手法は末端のカップリングの際に両末端の接触確率がある一定以上でないと反応が進行しないため ，屈曲性高分子に限られる.このため，線状鎖の溶液研究がさまざまな局所形態(剛直性)のものについて網羅的に調べられている21),22 )のに対し，環状鎖の物性研究は前述の環状DNAの他にはポリスチレン23)～27)，ポリジメチルシロキサン28)，そしてアミロース29)～31)などの屈曲性高分子以外にはほとんどみられない.比較的最近の研究より，屈曲性環状高分子に適切な高分子鎖をグラフトしたものがチューブなどの高次の構造体を形成すること32)，さらには必ずしも高分子とはいえないが環状のペプチド類の両末端がつながっていることによるコンホメーション制限によって線状のペプチドとは大きく異なる生理活性を示し，創薬のターゲットの一つとなっていること33)が報告されている..これらの現象や環状高分子の機能性を明らかにするためには，さまざまな剛直性をもつ環状鎖を合成し，その溶液中における分子形態や分子間相互作用について調査することが重要であると考えられる..近年われわれは ，酵素合成アミロースから調製されるアミロースカルバメート誘導体類の溶液中における分子形態を詳細に調査し34)～41)，その置換基と溶媒に依存して剛直性とらせん構造が著しく変化すること ，そして，一部の溶媒系はシータ溶媒として振舞うことを報告した.さらに，酵素合成法により得られる環状アミロース31),42 )を原料とすることによって ，20量体から 300量体に及ぶ環状アミロースカルバメート誘導体を調製でき*1大阪大学大学院理学研究科高分子科学専攻 (〠560–0043豊中市待兼山町1–1)高分子論文集 (Kobunshi Ronbunshu ), Vol.73, No.6, pp.505 —513 (Nov., 2016 )505ることを見いだした43).したがって ，環状アミロース誘導体はさまざまな剛直性をもつ環状高分子のモデルとして適していると考えられる.本報では，後に環状鎖の研究へ発展させた二種類の線状アミロースカルバメート誘導体の溶液中における局所らせん構造と剛直性についてまとめるとともに ，Figure 1に化学構造を示す環状アミローストリス (フェニルカルバメート )(cATPC )43),44 )と環状アミローストリス (n-ブチルカルバメート )(cATBC )45)の分子形態および分子間相互作用についての最近の研究結果について報告する.',\n",
       "  'sim': 1},\n",
       " {'path': 'UserData/original/text/kobunshi_ronbunshu/koron_73_6_73_2016-0037.txt',\n",
       "  'text': '.2線状アミロース誘導体の分子形態溶液中のアミロースが剛直性パラメータである Kuhnの統計セグメント長 \\xad－1＝4n m程度の比較的屈曲性の高い鎖として溶液中で振舞う46),47 )のに対し，アミローストリス (フェニルカルバメート )(ATPC )が剛直な鎖として振舞うことは古くから知られていた48),49 ).この高分子の溶液中での円二色性は主鎖のグルコシド結合のみが異なるセルローストリス (フェニルカルバメート )(CTPC )と比べて顕著であったことから ，分子内水素結合で安定化されたらせん構造を取っていることが予想されており50)，最近希薄溶液の赤外吸収からも確認された51).ATPCのみみず鎖パラメータについてはいくつかのグループから報告されていたが49),52 )～54)，比較的値のバラつきが大きかった.この原因として排除体積効果を精密に考慮できる準二定数理論22),55 ),56 )を利用した解析法が確立する前の研究がほとんどであったことが挙げられる.さらには ，他の多くの高分子については化学構造や結晶構造からある程度決めることのできる経路長とモル質量の比例係数 (単位経路長あたりのモル質量ML)が，アミロースカルバメート誘導体の場合，主鎖軸方向に伸び縮みしやすいらせん構造をとるため ，溶液中でのMLを予測困難であったことも一因であったと推察される.実際にアミロースおよびそのエステル誘導体の結晶構造からは，らせん構造を反映する繰返し単位当たりのらせんのピッチ (あるいは繰返し単位当たりの経路長)hについて 0.1 nmから 0.4 nmまでの値が報告されており57)～63)，これらから結晶構造の報告のないアミロースカルバメート誘導体の溶液中の値を推定することは不可能である..溶液中における MLを正確に決めるためには分子量既知の試料について小角X線散乱測定を行うことが有効である.筆者らがアミロースカルバメート誘導体の研究に着手した 2005年当時，SPring -8にて入射光強度の時間変化が極めて小さくなる Top -up運転が一年を通して行われるようになり ，高分子希薄溶液についても静的光散乱に匹敵する高品質な散乱データが得られるようになった64).われわれはアミロースカルバメート誘導体について，従来の光散乱法，粘度法に並行して放射光小角X線散乱測定を用いて溶液データを収集するとともに ，半屈曲性高分子についてすでに確立されていたみみず鎖モデル65)と準二定数理論22)を組合せて解析することにより，アミロース誘導体の局所分子形態を反映する MLと\\xad－1の両方を精密に決定した34).',\n",
       "  'sim': 1}]"
      ]
     },
     "execution_count": 3,
     "metadata": {},
     "output_type": "execute_result"
    }
   ],
   "source": [
    "txt=\"吾輩は猫である \"\n",
    "#txt=\"猫の名前は?\"\n",
    "bot.search_related_documents(txt,k=4,pad=False)"
   ]
  },
  {
   "cell_type": "code",
   "execution_count": 4,
   "metadata": {},
   "outputs": [
    {
     "data": {
      "text/plain": [
       "'この文章の中で、猫の名前はまだ明かされていません。\\n\\nReference 1 \\n吾輩は猫である.名前はまだ無い.どこで生れたかとんと見当がつかぬ.何でも薄暗いじめじめした所でニャーニャー泣いていた事だけは記憶している.吾輩はここで始めて人間というものを見た.しかもあとで聞くとそれは書生という人間中で一番獰悪な種族であったそうだ.この書生というのは時々我々を捕えて煮て食うという話である.しかしその当時は何という考もなかったから別段恐しいとも思わなかった.ただ彼の掌に載せられてスーと持ち上げられた時何だかフワフワした感じがあったばかりである.. \\nUserData/original/test/wagahai.txt \\nSimilarity 1\\n---\\nReference 2 \\nただし，結晶性高分子が形成する構造は，いわゆる無機物質やタンパク質などの結晶とは異なり，分子のうちの一部分しか結晶化していない.すなわち，球晶の内部には，結晶部分と非晶部分が存在している.そのため，得られる結晶形態はラメラ構造と呼ばれる板状になる.ラメラの結晶内部を見ると，通常の結晶と同様に，分子鎖が規則正しくパッキングし，単位格子が存在して周期構造を形成している(Figure 1).ミクロンスケールの球晶は，偏光顕微鏡などで観察できる.ラメラの周期構造は，結晶化温度・高分子種などによっても異なるが，一般的に数 10\\ue30f数100Å程度であり， X線小角散乱( SAXS)でその構造を観察することができる.また，ラメラ内部の結晶単位格子はX線広角散乱( WAXS)で観察することができる.ところで，結晶性高分子からなるプラスチック製品は，世の中に広く流通しており，自動車のバンパーや内装材，包装フィルム，ディスプレーの保護フィルムや太陽電池の封止材，食品・洗剤などのボトル，電線被覆材や水道管など，非常に幅広い分野で使われている.これらの製品のほとんどすべては，原料の高分子から所望の形にするために，成形加工が施されている.結晶性高分子の場合の成形方法について大まかに分類すると，(1).一旦結晶成分を加熱・融解させ，流動性の高い溶融状態にしてから，外場によって鋳型に流し込んだり，延ばしたりして所望の形にする方法(例えば射出成形やインフレーション成形，溶融紡糸など)，と(2)加熱によって，結晶を残存させつつも変形しやすい状態にしてから外場を加えて試料を引き伸ばし，所望の形にする方法(例えばテンター延伸，ブロー成形など)に分類される..(1)の方法で成形した場合には，溶融状態の高分子に外場が加えられ，加工条件などによっては，シシケバブ構造と呼ばれる，球晶とは全く異なる特異な構造を形成することが知られている.高分子のシシケバブは，まさに串焼きのような変わった結晶形態であり，料理からそのまま名前をとってシシケバブ構造と言われている.このシシケバブ構造の発見以来，シシケバブ構造という不思議な結晶形態がどのようにして形成するのか，シシ部分の構造は一体どうなっているのか，また，その物性は528Figure 1.Hierarchical structure of crystalline polymer grown under staticfield and their observation methods. \\nUserData/original/text/kobunshi_ronbunshu/koron_66_12_66_12_527.txt \\nSimilarity 1\\n---\\n'"
      ]
     },
     "execution_count": 4,
     "metadata": {},
     "output_type": "execute_result"
    }
   ],
   "source": [
    "question=\"猫の名前は?\"\n",
    "ans=bot.ask(question,k=4,pad=False)\n",
    "ans"
   ]
  },
  {
   "cell_type": "code",
   "execution_count": 22,
   "metadata": {},
   "outputs": [
    {
     "data": {
      "text/plain": [
       "'The cat\\'s name is not mentioned in the passage, but we can infer that the cat is the protagonist of the story and is referred to as \"wagahai\" (meaning \"I\" or \"myself\" in Japanese) by the cat himself.\\n\\nReference 1 \\n私は、その男の写真を三葉、見たことがある.一葉は、その男の、幼年時代、とでも言うべきであろうか、十歳前後かと推定される頃の写真であって、その子供が大勢の女のひとに取りかこまれ、（それは、その子供の姉たち、妹たち、それから、従姉妹たちかと想像される）庭園の池のほとりに、荒い縞の袴をはいて立ち、首を三十度ほど左に傾け、醜く笑っている写真である.醜く.けれども、鈍い人たち（つまり、美醜などに関心を持たぬ人たち）は、面白くも何とも無いような顔をして、「可愛い坊ちゃんですね」といい加減なお世辞を言っても、まんざら空お世辞に聞えないくらいの、謂わば通俗の「可愛らしさ」みたいな影もその子供の笑顔に無いわけではないのだが、しかし、いささかでも、美醜に就いての訓練を経て来たひとなら、ひとめ見てすぐ、「なんて、いやな子供だ」と頗る不快そうに呟き、毛虫でも払いのける時のような手つきで、その写真をほうり投げるかも. \\nUserData/split/sikkaku.pdf_0_80b0c06631.txt \\nSimilarity 0.2055223435163498\\n---\\n'"
      ]
     },
     "execution_count": 22,
     "metadata": {},
     "output_type": "execute_result"
    }
   ],
   "source": [
    "question=\"What is the name of the cat 'wagahai'?\"\n",
    "ans=bot.ask(question,k=1,pad=True)\n",
    "ans"
   ]
  },
  {
   "cell_type": "code",
   "execution_count": 25,
   "metadata": {},
   "outputs": [
    {
     "name": "stdout",
     "output_type": "stream",
     "text": [
      "回答: ベルナルドは、\"誰がいるんだ？\"という質問をした。\n",
      "Answer: Bernardo asked the question, \"Who's there?\"\n",
      "\n",
      "Reference 1 \n",
      "BERNARDO.Who's there..FRANCISCO.Nay, answer me.stand, and unfold yourself..BERNARDO.Long live the king..FRANCISCO.Bernardo.. \n",
      "UserData/split/hamlet.txt_0_ee5b8c602c.txt \n",
      "Similarity 0.3704254627227783\n",
      "---\n",
      "\n"
     ]
    }
   ],
   "source": [
    "question=\"そこに居るのは誰だと質問したのは誰?\"\n",
    "ans=bot.ask(question,k=1,pad=True,Ja_to_En=True)\n",
    "print(ans)"
   ]
  },
  {
   "cell_type": "code",
   "execution_count": 26,
   "metadata": {},
   "outputs": [
    {
     "name": "stdout",
     "output_type": "stream",
     "text": [
      "誰が質問したかは文中に記されていません。ただし、「カムパネルラが手をあげました。それから四五人手をあげました。」という記述があります。\n",
      "\n",
      "Reference 1 \n",
      "「ではみなさんは、そういうふうに川だと云われたり、乳の流れたあとだと云われたりしていたこのぼんやりと白いものがほんとうは何かご承知ですか.」先生は、黒板に吊した大きな黒い星座の図の、上から下へ白くけぶった銀河帯のようなところを指しながら、みんなに問をかけました.カムパネルラが手をあげました.それから四五人手をあげました.ジョバンニも手をあげようとして、急いでそのままやめました.たしかにあれがみんな星だと、いつか雑誌で読んだのでしたが、このごろはジョバンニはまるで毎日教室でもねむく、本を読むひまも読む本もないので、なんだかどんなこともよくわからないという気持ちがするのでした.ところが先生は早くもそれを見附けたのでした.「ジョバンニさん.あなたはわかっているのでしょう.」. \n",
      "UserData/split/ginga_tets.txt_0_df937e6923.txt \n",
      "Similarity 0.35472041368484497\n",
      "---\n",
      "\n"
     ]
    }
   ],
   "source": [
    "question=\"そこに居るのは誰だと質問したのは誰?\"\n",
    "ans=bot.ask(question,k=1,pad=True,Ja_to_En=False)\n",
    "print(ans)"
   ]
  },
  {
   "cell_type": "code",
   "execution_count": null,
   "metadata": {},
   "outputs": [],
   "source": []
  }
 ],
 "metadata": {
  "kernelspec": {
   "display_name": "lora",
   "language": "python",
   "name": "python3"
  },
  "language_info": {
   "codemirror_mode": {
    "name": "ipython",
    "version": 3
   },
   "file_extension": ".py",
   "mimetype": "text/x-python",
   "name": "python",
   "nbconvert_exporter": "python",
   "pygments_lexer": "ipython3",
   "version": "3.10.10"
  },
  "orig_nbformat": 4
 },
 "nbformat": 4,
 "nbformat_minor": 2
}
