{
 "cells": [
  {
   "cell_type": "code",
   "execution_count": 1,
   "metadata": {},
   "outputs": [],
   "source": [
    "%load_ext autoreload\n",
    "%autoreload 2"
   ]
  },
  {
   "attachments": {},
   "cell_type": "markdown",
   "metadata": {},
   "source": [
    "#\n",
    "- Before running the program, launch embedding server\n",
    "  - python embed_server.py"
   ]
  },
  {
   "cell_type": "code",
   "execution_count": 16,
   "metadata": {},
   "outputs": [],
   "source": [
    "from LLMSearch.AnswerBot import AnswerBot\n",
    "from LLMSearch.GPTQuery import GPTQuery\n",
    "from settings.key import GPT_API_KEY,DEEPL_API_KEY\n",
    "bot=AnswerBot(query_module=GPTQuery(GPT_API_KEY),DEEPL_API_KEY=DEEPL_API_KEY)"
   ]
  },
  {
   "cell_type": "code",
   "execution_count": 10,
   "metadata": {},
   "outputs": [],
   "source": [
    "bot.load_model()"
   ]
  },
  {
   "cell_type": "code",
   "execution_count": 19,
   "metadata": {},
   "outputs": [
    {
     "name": "stdout",
     "output_type": "stream",
     "text": [
      "checking for finished files...\n",
      "splitting...\n"
     ]
    },
    {
     "name": "stderr",
     "output_type": "stream",
     "text": [
      "0it [00:00, ?it/s]\n"
     ]
    },
    {
     "name": "stdout",
     "output_type": "stream",
     "text": [
      "calculating vectors...\n"
     ]
    },
    {
     "name": "stderr",
     "output_type": "stream",
     "text": [
      "100%|██████████| 3340/3340 [45:20<00:00,  1.23it/s] \n"
     ]
    }
   ],
   "source": [
    "initiate=False\n",
    "#initiate=True\n",
    "bot.index_documents(initiate=initiate)"
   ]
  },
  {
   "cell_type": "code",
   "execution_count": 5,
   "metadata": {},
   "outputs": [
    {
     "data": {
      "text/plain": [
       "[{'path': 'UserData/split/wagahai.txt_0_79f0462dd0.txt',\n",
       "  'text': '吾輩は猫である.名前はまだ無い.どこで生れたかとんと見当がつかぬ.何でも薄暗いじめじめした所でニャーニャー泣いていた事だけは記憶している.吾輩はここで始めて人間というものを見た.しかもあとで聞くとそれは書生という人間中で一番獰悪な種族であったそうだ.この書生というのは時々我々を捕えて煮て食うという話である.しかしその当時は何という考もなかったから別段恐しいとも思わなかった.ただ彼の掌に載せられてスーと持ち上げられた時何だかフワフワした感じがあったばかりである..',\n",
       "  'sim': 0.44590127},\n",
       " {'path': 'UserData/split/koron_69_12_69_2012-0060.txt_2_39db92913c.txt',\n",
       "  'text': 'アメリカのパイロットプラントは全部酵素法で行われている.2012年五つのパイロットプラントが動いているようだ.とうもろこし原料からのエタノール製造工場に比べて数桁小さい生産量である.アメリカへ行く方が正確な知見が得られる.日本人研究者が留学しなくなった弊害であろう.「俺の目の黒い内は**」657 高分子論文集, Vol.69, No.12 (2012 ).',\n",
       "  'sim': 0.41232595},\n",
       " {'path': 'UserData/split/koron1974_55_12_55_12_760.txt_1_d304838118.txt',\n",
       "  'text': 'この囲にわたって調べてきた10)〜41).これまで筆者らが研究ため,多くの場合,純粋な多糖のみを得ることがむずかしてきた多糖は,ジェラン27),28),37),キサンタンナトリしく,実用上の重要性から多糖についての多くの研究がゥム塩17),29),37),41),ヒアルロン酸ナトリウム塩16),24),なされているにもかかわらず,用いた試料の相違によりローカストビーンガム40),セルローススルフェートナト異なった結果が得られることもあり,最近では純度の高リウム塩14),カルボキシメチルセルロースナトリウムい微生物由来の多糖を研究に用いることが多くなっている..塩18),22),アルギン酸ナトリウム塩15)などである.これらは,その物質の違いにもかかわらず高分子濃度の濃い多糖の性質は,それらの供給源に依存するだけではな領域でみな同様の挙動を示す.すなわち低温側から温度い.構造上の類似性から,“多糖 ” と呼ばれる物質の一を上昇させるにつれて,多糖と水が一体になったガラス群に含まれてはいても,物性的な性質は個々の多糖で大きく異なる.ジェランや κ-カラギーナンなど水溶液からゲルを形成,キサンタンガムなどはゾル状態にとどまのガラス転移,水の冷結晶化,系中の水の融解,の各転移を経て,液晶,溶液へと状態変化する様子が示差走査熱量計(DSC)による測定で観測されている.Fig..1に*1信州大学繊維学部精密素材工学科(〓386-8567長野県上田相図の一例を示す.ここで,Wcは市常田3-15-1)*2大妻女子大学家政学部被服学科(〓102-8357東京都千代田区三番町12)*3福井工業大学工学部応用理化学科(〓910-8505福井県福井市学園3-6-1)760Wc=(加えた水の重量)/(乾燥多糖試料の重量).で定義される濃度変数である.これらの事実のなかでも,特に水がガラス化するという事実は16),23),24),37),多糖分子鎖が水を介して何らかの形で会合体を形成しており,そのため多糖分子鎖に強く束縛された水が存在する溶液の熱処理が多糖/水系のゲル形成能に及ぼす効果性に及ぼす熱処理の効果,(2)多糖ヒドロゲルのゲルーゾル転移点に及ぼす熱処理の効果,(3)多糖水溶液の熱処理過程における不凍水量の変化,(4)多糖水溶液の熱処理過程における構造変化について述べる..2多糖ヒドロゲルの粘弾性に及ぼす熱処理の効果ジェラン水溶液を温度T=365Kで熱処理した後室温(298K)に冷却することにより,熱処理しない試料に比べて弾性率の高いゲルが得られることを見いだした.',\n",
       "  'sim': 0.3897771}]"
      ]
     },
     "execution_count": 5,
     "metadata": {},
     "output_type": "execute_result"
    }
   ],
   "source": [
    "txt=\"吾輩は猫である \"\n",
    "bot.search_related_documents(txt,k=3,pad=False)"
   ]
  },
  {
   "cell_type": "code",
   "execution_count": 21,
   "metadata": {},
   "outputs": [
    {
     "data": {
      "text/plain": [
       "'この文章では猫の名前はまだ無いと述べられています。\\n\\nReference 1 \\n吾輩は猫である.名前はまだ無い.どこで生れたかとんと見当がつかぬ.何でも薄暗いじめじめした所でニャーニャー泣いていた事だけは記憶している.吾輩はここで始めて人間というものを見た.しかもあとで聞くとそれは書生という人間中で一番獰悪な種族であったそうだ.この書生というのは時々我々を捕えて煮て食うという話である.しかしその当時は何という考もなかったから別段恐しいとも思わなかった.ただ彼の掌に載せられてスーと持ち上げられた時何だかフワフワした感じがあったばかりである.. \\nUserData/split/wagahai.txt_0_8678ec4686.txt \\nSimilarity 0.31155866384506226\\n---\\nReference 2 \\n「ではみなさんは、そういうふうに川だと云われたり、乳の流れたあとだと云われたりしていたこのぼんやりと白いものがほんとうは何かご承知ですか.」先生は、黒板に吊した大きな黒い星座の図の、上から下へ白くけぶった銀河帯のようなところを指しながら、みんなに問をかけました.カムパネルラが手をあげました.それから四五人手をあげました.ジョバンニも手をあげようとして、急いでそのままやめました.たしかにあれがみんな星だと、いつか雑誌で読んだのでしたが、このごろはジョバンニはまるで毎日教室でもねむく、本を読むひまも読む本もないので、なんだかどんなこともよくわからないという気持ちがするのでした.ところが先生は早くもそれを見附けたのでした.「ジョバンニさん.あなたはわかっているのでしょう.」. \\nUserData/split/ginga_tets.txt_0_df937e6923.txt \\nSimilarity 0.2430923581123352\\n---\\nReference 3 \\n私は、その男の写真を三葉、見たことがある.一葉は、その男の、幼年時代、とでも言うべきであろうか、十歳前後かと推定される頃の写真であって、その子供が大勢の女のひとに取りかこまれ、（それは、その子供の姉たち、妹たち、それから、従姉妹たちかと想像される）庭園の池のほとりに、荒い縞の袴をはいて立ち、首を三十度ほど左に傾け、醜く笑っている写真である.醜く.けれども、鈍い人たち（つまり、美醜などに関心を持たぬ人たち）は、面白くも何とも無いような顔をして、「可愛い坊ちゃんですね」といい加減なお世辞を言っても、まんざら空お世辞に聞えないくらいの、謂わば通俗の「可愛らしさ」みたいな影もその子供の笑顔に無いわけではないのだが、しかし、いささかでも、美醜に就いての訓練を経て来たひとなら、ひとめ見てすぐ、「なんて、いやな子供だ」と頗る不快そうに呟き、毛虫でも払いのける時のような手つきで、その写真をほうり投げるかも. \\nUserData/split/sikkaku.pdf_0_80b0c06631.txt \\nSimilarity 0.2206260710954666\\n---\\n'"
      ]
     },
     "execution_count": 21,
     "metadata": {},
     "output_type": "execute_result"
    }
   ],
   "source": [
    "question=\"猫の名前は?\"\n",
    "ans=bot.ask(question,k=3,pad=False)\n",
    "ans"
   ]
  },
  {
   "cell_type": "code",
   "execution_count": 22,
   "metadata": {},
   "outputs": [
    {
     "data": {
      "text/plain": [
       "'The cat\\'s name is not mentioned in the passage, but we can infer that the cat is the protagonist of the story and is referred to as \"wagahai\" (meaning \"I\" or \"myself\" in Japanese) by the cat himself.\\n\\nReference 1 \\n私は、その男の写真を三葉、見たことがある.一葉は、その男の、幼年時代、とでも言うべきであろうか、十歳前後かと推定される頃の写真であって、その子供が大勢の女のひとに取りかこまれ、（それは、その子供の姉たち、妹たち、それから、従姉妹たちかと想像される）庭園の池のほとりに、荒い縞の袴をはいて立ち、首を三十度ほど左に傾け、醜く笑っている写真である.醜く.けれども、鈍い人たち（つまり、美醜などに関心を持たぬ人たち）は、面白くも何とも無いような顔をして、「可愛い坊ちゃんですね」といい加減なお世辞を言っても、まんざら空お世辞に聞えないくらいの、謂わば通俗の「可愛らしさ」みたいな影もその子供の笑顔に無いわけではないのだが、しかし、いささかでも、美醜に就いての訓練を経て来たひとなら、ひとめ見てすぐ、「なんて、いやな子供だ」と頗る不快そうに呟き、毛虫でも払いのける時のような手つきで、その写真をほうり投げるかも. \\nUserData/split/sikkaku.pdf_0_80b0c06631.txt \\nSimilarity 0.2055223435163498\\n---\\n'"
      ]
     },
     "execution_count": 22,
     "metadata": {},
     "output_type": "execute_result"
    }
   ],
   "source": [
    "question=\"What is the name of the cat 'wagahai'?\"\n",
    "ans=bot.ask(question,k=1,pad=True)\n",
    "ans"
   ]
  },
  {
   "cell_type": "code",
   "execution_count": 25,
   "metadata": {},
   "outputs": [
    {
     "name": "stdout",
     "output_type": "stream",
     "text": [
      "回答: ベルナルドは、\"誰がいるんだ？\"という質問をした。\n",
      "Answer: Bernardo asked the question, \"Who's there?\"\n",
      "\n",
      "Reference 1 \n",
      "BERNARDO.Who's there..FRANCISCO.Nay, answer me.stand, and unfold yourself..BERNARDO.Long live the king..FRANCISCO.Bernardo.. \n",
      "UserData/split/hamlet.txt_0_ee5b8c602c.txt \n",
      "Similarity 0.3704254627227783\n",
      "---\n",
      "\n"
     ]
    }
   ],
   "source": [
    "question=\"そこに居るのは誰だと質問したのは誰?\"\n",
    "ans=bot.ask(question,k=1,pad=True,Ja_to_En=True)\n",
    "print(ans)"
   ]
  },
  {
   "cell_type": "code",
   "execution_count": 26,
   "metadata": {},
   "outputs": [
    {
     "name": "stdout",
     "output_type": "stream",
     "text": [
      "誰が質問したかは文中に記されていません。ただし、「カムパネルラが手をあげました。それから四五人手をあげました。」という記述があります。\n",
      "\n",
      "Reference 1 \n",
      "「ではみなさんは、そういうふうに川だと云われたり、乳の流れたあとだと云われたりしていたこのぼんやりと白いものがほんとうは何かご承知ですか.」先生は、黒板に吊した大きな黒い星座の図の、上から下へ白くけぶった銀河帯のようなところを指しながら、みんなに問をかけました.カムパネルラが手をあげました.それから四五人手をあげました.ジョバンニも手をあげようとして、急いでそのままやめました.たしかにあれがみんな星だと、いつか雑誌で読んだのでしたが、このごろはジョバンニはまるで毎日教室でもねむく、本を読むひまも読む本もないので、なんだかどんなこともよくわからないという気持ちがするのでした.ところが先生は早くもそれを見附けたのでした.「ジョバンニさん.あなたはわかっているのでしょう.」. \n",
      "UserData/split/ginga_tets.txt_0_df937e6923.txt \n",
      "Similarity 0.35472041368484497\n",
      "---\n",
      "\n"
     ]
    }
   ],
   "source": [
    "question=\"そこに居るのは誰だと質問したのは誰?\"\n",
    "ans=bot.ask(question,k=1,pad=True,Ja_to_En=False)\n",
    "print(ans)"
   ]
  },
  {
   "cell_type": "code",
   "execution_count": null,
   "metadata": {},
   "outputs": [],
   "source": []
  }
 ],
 "metadata": {
  "kernelspec": {
   "display_name": "lora",
   "language": "python",
   "name": "python3"
  },
  "language_info": {
   "codemirror_mode": {
    "name": "ipython",
    "version": 3
   },
   "file_extension": ".py",
   "mimetype": "text/x-python",
   "name": "python",
   "nbconvert_exporter": "python",
   "pygments_lexer": "ipython3",
   "version": "3.10.10"
  },
  "orig_nbformat": 4
 },
 "nbformat": 4,
 "nbformat_minor": 2
}
