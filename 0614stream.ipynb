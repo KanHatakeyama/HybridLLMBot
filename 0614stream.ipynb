{
 "cells": [
  {
   "cell_type": "code",
   "execution_count": null,
   "metadata": {},
   "outputs": [],
   "source": [
    "#ライブラリの自動リロード\n",
    "%load_ext autoreload\n",
    "%autoreload 2\n",
    "\n",
    "import openai\n",
    "from settings.key import GPT_API_KEY\n",
    "openai.api_key = GPT_API_KEY\n",
    "\n"
   ]
  },
  {
   "cell_type": "code",
   "execution_count": null,
   "metadata": {},
   "outputs": [],
   "source": [
    "from LLMSearch.AnswerBot import AnswerBot,parse_answer\n",
    "from settings.key import GPT_API_KEY, DEEPL_API_KEY\n",
    "from LLMSearch.GPTQuery import GPTQuery\n",
    "from LLMSearch.BM25DB import BM25DB\n",
    "from LLMSearch.SQLTextDB import SQLTextDB\n",
    "from LLMSearch.Embedding.SBERTFineTuneEmbedding import SBERTFineTuneEmbedding\n",
    "from LLMSearch.VectorSearcher import VectorSearcher\n",
    "\n",
    "embedder=SBERTFineTuneEmbedding()\n",
    "searcher=VectorSearcher(embedder,chunk_size_limit=500)\n",
    "\n",
    "\n",
    "#bm=BM25DB(initiate=True)\n",
    "#searcher=SQLTextDB()\n",
    "\n",
    "# initiate bot module\n",
    "bot1 = AnswerBot(query_module=GPTQuery(GPT_API_KEY),\n",
    "                searcher=searcher,\n",
    "                DEEPL_API_KEY=DEEPL_API_KEY,\n",
    "                )\n",
    "\n",
    "bot2=AnswerBot(query_module=GPTQuery(GPT_API_KEY),\n",
    "                searcher=SQLTextDB(), \n",
    "                DEEPL_API_KEY=DEEPL_API_KEY,\n",
    "                )\n",
    "\n",
    "bot3=AnswerBot(query_module=GPTQuery(GPT_API_KEY),\n",
    "                searcher=BM25DB(),\n",
    "                DEEPL_API_KEY=DEEPL_API_KEY,   \n",
    "                )"
   ]
  },
  {
   "cell_type": "code",
   "execution_count": null,
   "metadata": {},
   "outputs": [],
   "source": [
    "\n",
    "#bot1.index_documents(initiate=True)"
   ]
  },
  {
   "cell_type": "code",
   "execution_count": null,
   "metadata": {},
   "outputs": [],
   "source": [
    "bot1.index_documents(initiate=False)\n",
    "bot2.index_documents(initiate=False)\n",
    "bot3.index_documents(initiate=False)"
   ]
  },
  {
   "cell_type": "code",
   "execution_count": null,
   "metadata": {},
   "outputs": [],
   "source": [
    "query=\"先生の業績は?\"\n",
    "query=\"先生の趣味は?\"\n",
    "query=\"先生は何故自殺をしたのか?\"\n",
    "#query=\"藤田正博先生の業績は?\"\n",
    "#query=\"藤田正博先生の業績は?\"\n",
    "query=\"イオン伝導度を上げるためには?\"\n",
    "\n",
    "query=\"藤田正博\"\n",
    "query='DLC-BCPsはどのような構造が形成されることがわかりましたか？'\n",
    "query= 'メタロセン触媒はどのような重合の可能性を与えますか？'\n",
    "\n",
    "related_documents=[]\n",
    "#for bot in [bot1,bot2,bot3]:\n",
    "for bot in [bot1,bot3]:\n",
    "    related_documents+=bot.search_related_documents(query, k=10)\n"
   ]
  },
  {
   "cell_type": "code",
   "execution_count": null,
   "metadata": {},
   "outputs": [],
   "source": [
    "import json\n",
    "import numpy as np\n",
    "\n",
    "#related documentsから､重複を除く\n",
    "#related_documents=list(set(related_documents))\n",
    "#list_of_json = [json.dumps(d, sort_keys=True,cls=MyEncoder) for d in related_documents]\n",
    "\n",
    "#related_documents=[{\"path\":d[\"path\"],\"text\":d[\"text\"],\"sim\":float(d[\"sim\"])} for d in related_documents]\n",
    "related_documents=[{\"path\":d[\"path\"],\"text\":d[\"text\"],\"sim\":0} for d in related_documents]\n",
    "list_of_json = [json.dumps(d, sort_keys=True) for d in related_documents]\n",
    "related_documents= list(map(json.loads, set(list_of_json)))\n",
    "print(len(related_documents))\n",
    "related_documents"
   ]
  },
  {
   "cell_type": "code",
   "execution_count": null,
   "metadata": {},
   "outputs": [],
   "source": [
    "#related_documentを5こずつに分割\n",
    "related_documents_list=[related_documents[i:i+5] for i in range(0,len(related_documents),5)]\n",
    "#related_documents_list[1]"
   ]
  },
  {
   "cell_type": "code",
   "execution_count": null,
   "metadata": {},
   "outputs": [],
   "source": [
    "for related_documents in related_documents_list:\n",
    "    response=bot1.ask(query,context_list= related_documents,stream=True)\n",
    "\n",
    "    ans=response[\"answer\"]\n",
    "    for chunk in ans:\n",
    "        next = chunk['choices'][0]['delta'].get('content', '')\n",
    "        print(next, end='')\n",
    "\n",
    "    print(\"\\n\")"
   ]
  },
  {
   "cell_type": "code",
   "execution_count": null,
   "metadata": {},
   "outputs": [],
   "source": []
  }
 ],
 "metadata": {
  "kernelspec": {
   "display_name": "lora",
   "language": "python",
   "name": "python3"
  },
  "language_info": {
   "codemirror_mode": {
    "name": "ipython",
    "version": 3
   },
   "file_extension": ".py",
   "mimetype": "text/x-python",
   "name": "python",
   "nbconvert_exporter": "python",
   "pygments_lexer": "ipython3",
   "version": "3.10.10"
  },
  "orig_nbformat": 4
 },
 "nbformat": 4,
 "nbformat_minor": 2
}
