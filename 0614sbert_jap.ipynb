{
 "cells": [
  {
   "cell_type": "code",
   "execution_count": 1,
   "metadata": {},
   "outputs": [],
   "source": [
    "#ライブラリの自動リロード\n",
    "%load_ext autoreload\n",
    "%autoreload 2"
   ]
  },
  {
   "cell_type": "code",
   "execution_count": 2,
   "metadata": {},
   "outputs": [],
   "source": [
    "\n",
    "from LLMSearch.Embedding.SBERTFineTuneEmbedding import SBERTFineTuneEmbedding\n",
    "embedder=SBERTFineTuneEmbedding()"
   ]
  },
  {
   "cell_type": "code",
   "execution_count": 10,
   "metadata": {},
   "outputs": [
    {
     "name": "stdout",
     "output_type": "stream",
     "text": [
      "私は犬です (Score: 0.3843)\n",
      "\n",
      "I am a cat (Score: 0.2527)\n",
      "\n",
      "汝の名は女だ (Score: 0.2345)\n",
      "\n",
      "ピペットで試薬を三回分取した (Score: 0.2321)\n",
      "\n",
      "吾輩は猫である (Score: 0.1656)\n",
      "\n",
      "小森田友明は1981年7月10日に生まれました。 (Score: 0.1566)\n",
      "\n"
     ]
    }
   ],
   "source": [
    "from sentence_transformers import util\n",
    "import torch\n",
    "import numpy as np\n",
    "target_q=\"猫の名前は?\"\n",
    "#target_q=\"i am a cat\"\n",
    "#target_q=\"アセトンはどのような溶媒か?\"\n",
    "#target_q=\"非プロトン性溶媒に使われるものは?\"\n",
    "#target_q=\"貴方は動物ですか?\"\n",
    "#target_q=\"貴方は猫ですか?\"\n",
    "#target_q=\"スマホが良くない理由は？\"\n",
    "#target_q=\"小森田友明はいつ生まれたの？\"\n",
    "target_q=\"藤田は何の研究者？\"\n",
    "target_q=\"貴方は動物ですか\"\n",
    "answers=[\n",
    "\"吾輩は猫である\",\n",
    "\"汝の名は女だ\",\n",
    "\"I am a cat\",\n",
    "\"ピペットで試薬を三回分取した\",\n",
    "\"アセトンは有機溶媒である\",\n",
    "\"非プロトン性溶媒として､THF､トルエンなどが挙げられる\",\n",
    "\"トルエンをこぼしてしまいました\",\n",
    "\"私は猫です\",\n",
    "\"私は犬です\",\n",
    "\"日本的霊性は，鎌倉時代に禅と浄土系思想によって初めて明白に顕現し，その霊性的自覚が現在に及ぶと述べる．\",\n",
    " '常にスマホを操作しているのが良くないため。',\n",
    " \"小森田友明は1981年7月10日に生まれました。\",\n",
    " \"藤田はポリマーの研究者である\"\n",
    "]\n",
    "\n",
    "query_embedding = embedder(target_q)\n",
    "corpus_embeddings=[embedder(ans).reshape(-1) for ans in answers]\n",
    "corpus_embeddings=np.array(corpus_embeddings)\n",
    "\n",
    "cos_scores = util.cos_sim(query_embedding , corpus_embeddings)\n",
    "top_results =  torch.topk(cos_scores, k=6)\n",
    "\n",
    "for score, idx in zip(top_results[0][0], top_results[1][0]):\n",
    "    print(answers[idx], \"(Score: {:.4f})\\n\".format(score))"
   ]
  },
  {
   "cell_type": "code",
   "execution_count": 47,
   "metadata": {},
   "outputs": [
    {
     "name": "stdout",
     "output_type": "stream",
     "text": [
      "500 14.069967641029507\n",
      "501 5.888551766052842\n",
      "502 12.125710658961907\n",
      "503 11.39056515833363\n",
      "504 6.739990594331175\n",
      "505 13.619956326205283\n",
      "506 5.289513720199466\n",
      "507 17.123667421750724\n",
      "508 17.61580109130591\n",
      "509 86.57874302286655\n",
      "510 0.0\n",
      "511 0.0\n",
      "512 0.0\n",
      "513 0.0\n",
      "514 0.0\n",
      "515 0.0\n",
      "516 0.0\n",
      "517 0.0\n",
      "518 0.0\n",
      "519 0.0\n",
      "520 0.0\n",
      "521 0.0\n",
      "522 0.0\n",
      "523 0.0\n",
      "524 0.0\n",
      "525 0.0\n",
      "526 0.0\n",
      "527 0.0\n",
      "528 0.0\n",
      "529 0.0\n",
      "530 0.0\n",
      "531 0.0\n",
      "532 0.0\n",
      "533 0.0\n",
      "534 0.0\n",
      "535 0.0\n",
      "536 0.0\n",
      "537 0.0\n",
      "538 0.0\n",
      "539 0.0\n",
      "540 0.0\n",
      "541 0.0\n",
      "542 0.0\n",
      "543 0.0\n",
      "544 0.0\n",
      "545 0.0\n",
      "546 0.0\n",
      "547 0.0\n",
      "548 0.0\n",
      "549 0.0\n",
      "550 0.0\n",
      "551 0.0\n",
      "552 0.0\n",
      "553 0.0\n",
      "554 0.0\n",
      "555 0.0\n",
      "556 0.0\n",
      "557 0.0\n",
      "558 0.0\n",
      "559 0.0\n",
      "560 0.0\n",
      "561 0.0\n",
      "562 0.0\n",
      "563 0.0\n",
      "564 0.0\n",
      "565 0.0\n",
      "566 0.0\n",
      "567 0.0\n",
      "568 0.0\n",
      "569 0.0\n",
      "570 0.0\n",
      "571 0.0\n",
      "572 0.0\n",
      "573 0.0\n",
      "574 0.0\n",
      "575 0.0\n",
      "576 0.0\n",
      "577 0.0\n",
      "578 0.0\n",
      "579 0.0\n",
      "580 0.0\n",
      "581 0.0\n",
      "582 0.0\n",
      "583 0.0\n",
      "584 0.0\n",
      "585 0.0\n",
      "586 0.0\n",
      "587 0.0\n",
      "588 0.0\n",
      "589 0.0\n",
      "590 0.0\n",
      "591 0.0\n",
      "592 0.0\n",
      "593 0.0\n",
      "594 0.0\n",
      "595 0.0\n",
      "596 0.0\n",
      "597 0.0\n",
      "598 0.0\n",
      "599 0.0\n"
     ]
    }
   ],
   "source": [
    "t=\"猫\"\n",
    "for i in range(500,600):\n",
    "    vec1=embedder(t*i)\n",
    "    vec2=embedder(t*(i+1))\n",
    "\n",
    "    diff=sum(sum(abs(vec1-vec2)))\n",
    "    print(i,diff)"
   ]
  },
  {
   "cell_type": "code",
   "execution_count": 44,
   "metadata": {},
   "outputs": [
    {
     "data": {
      "text/plain": [
       "10.15841805539094"
      ]
     },
     "execution_count": 44,
     "metadata": {},
     "output_type": "execute_result"
    }
   ],
   "source": []
  },
  {
   "cell_type": "code",
   "execution_count": null,
   "metadata": {},
   "outputs": [],
   "source": []
  }
 ],
 "metadata": {
  "kernelspec": {
   "display_name": "lora",
   "language": "python",
   "name": "python3"
  },
  "language_info": {
   "codemirror_mode": {
    "name": "ipython",
    "version": 3
   },
   "file_extension": ".py",
   "mimetype": "text/x-python",
   "name": "python",
   "nbconvert_exporter": "python",
   "pygments_lexer": "ipython3",
   "version": "3.10.10"
  },
  "orig_nbformat": 4
 },
 "nbformat": 4,
 "nbformat_minor": 2
}
