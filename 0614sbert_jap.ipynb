{
 "cells": [
  {
   "cell_type": "code",
   "execution_count": 1,
   "metadata": {},
   "outputs": [],
   "source": [
    "#ライブラリの自動リロード\n",
    "%load_ext autoreload\n",
    "%autoreload 2"
   ]
  },
  {
   "cell_type": "code",
   "execution_count": 2,
   "metadata": {},
   "outputs": [
    {
     "data": {
      "application/vnd.jupyter.widget-view+json": {
       "model_id": "0399699b898848cf8091c67a1ac6cd6c",
       "version_major": 2,
       "version_minor": 0
      },
      "text/plain": [
       "Downloading (…)lve/main/config.json:   0%|          | 0.00/667 [00:00<?, ?B/s]"
      ]
     },
     "metadata": {},
     "output_type": "display_data"
    },
    {
     "data": {
      "application/vnd.jupyter.widget-view+json": {
       "model_id": "6740e3fd272849bdae06fac4837dcdad",
       "version_major": 2,
       "version_minor": 0
      },
      "text/plain": [
       "Downloading pytorch_model.bin:   0%|          | 0.00/443M [00:00<?, ?B/s]"
      ]
     },
     "metadata": {},
     "output_type": "display_data"
    },
    {
     "data": {
      "application/vnd.jupyter.widget-view+json": {
       "model_id": "ff5e6cf14e204856a5e1e7b2db54fc74",
       "version_major": 2,
       "version_minor": 0
      },
      "text/plain": [
       "Downloading (…)okenizer_config.json:   0%|          | 0.00/466 [00:00<?, ?B/s]"
      ]
     },
     "metadata": {},
     "output_type": "display_data"
    },
    {
     "data": {
      "application/vnd.jupyter.widget-view+json": {
       "model_id": "755cfd04a47f4406bbdf379396b5af49",
       "version_major": 2,
       "version_minor": 0
      },
      "text/plain": [
       "Downloading (…)solve/main/vocab.txt:   0%|          | 0.00/258k [00:00<?, ?B/s]"
      ]
     },
     "metadata": {},
     "output_type": "display_data"
    },
    {
     "data": {
      "application/vnd.jupyter.widget-view+json": {
       "model_id": "8f24002b382e4679b51caab4b28d6e83",
       "version_major": 2,
       "version_minor": 0
      },
      "text/plain": [
       "Downloading (…)cial_tokens_map.json:   0%|          | 0.00/112 [00:00<?, ?B/s]"
      ]
     },
     "metadata": {},
     "output_type": "display_data"
    }
   ],
   "source": [
    "from sentence_transformers import SentenceTransformer, SentencesDataset, InputExample, losses, models\n",
    "\n",
    "bert = models.Transformer('sonoisa/sentence-bert-base-ja-mean-tokens-v2')\n",
    "pooling = models.Pooling(bert.get_word_embedding_dimension())\n",
    "model = SentenceTransformer(modules=[bert, pooling])"
   ]
  },
  {
   "cell_type": "code",
   "execution_count": 17,
   "metadata": {},
   "outputs": [
    {
     "name": "stdout",
     "output_type": "stream",
     "text": [
      "私は犬です (Score: 0.3843)\n",
      "\n",
      "I am a cat (Score: 0.2527)\n",
      "\n",
      "汝の名は女だ (Score: 0.2345)\n",
      "\n",
      "ピペットで試薬を三回分取した (Score: 0.2321)\n",
      "\n",
      "吾輩は猫である (Score: 0.1656)\n",
      "\n",
      "小森田友明は1981年7月10日に生まれました。 (Score: 0.1566)\n",
      "\n"
     ]
    }
   ],
   "source": [
    "from sentence_transformers import util\n",
    "import torch\n",
    "target_q=\"猫の名前は?\"\n",
    "#target_q=\"i am a cat\"\n",
    "#target_q=\"アセトンはどのような溶媒か?\"\n",
    "#target_q=\"非プロトン性溶媒に使われるものは?\"\n",
    "#target_q=\"貴方は動物ですか?\"\n",
    "#target_q=\"貴方は猫ですか?\"\n",
    "#target_q=\"スマホが良くない理由は？\"\n",
    "#target_q=\"小森田友明はいつ生まれたの？\"\n",
    "target_q=\"藤田は何の研究者？\"\n",
    "target_q=\"貴方は動物ですか\"\n",
    "answers=[\n",
    "\"吾輩は猫である\",\n",
    "\"汝の名は女だ\",\n",
    "\"I am a cat\",\n",
    "\"ピペットで試薬を三回分取した\",\n",
    "\"アセトンは有機溶媒である\",\n",
    "\"非プロトン性溶媒として､THF､トルエンなどが挙げられる\",\n",
    "\"トルエンをこぼしてしまいました\",\n",
    "\"私は猫です\",\n",
    "\"私は犬です\",\n",
    "\"日本的霊性は，鎌倉時代に禅と浄土系思想によって初めて明白に顕現し，その霊性的自覚が現在に及ぶと述べる．\",\n",
    " '常にスマホを操作しているのが良くないため。',\n",
    " \"小森田友明は1981年7月10日に生まれました。\",\n",
    " \"藤田はポリマーの研究者である\"\n",
    "]\n",
    "\n",
    "query_embedding = model.encode(target_q, convert_to_tensor=True)\n",
    "corpus_embeddings=model.encode(answers, convert_to_tensor=True)\n",
    "\n",
    "cos_scores = util.cos_sim(query_embedding , corpus_embeddings)\n",
    "top_results =  torch.topk(cos_scores, k=6)\n",
    "\n",
    "for score, idx in zip(top_results[0][0], top_results[1][0]):\n",
    "    print(answers[idx], \"(Score: {:.4f})\\n\".format(score))"
   ]
  },
  {
   "cell_type": "code",
   "execution_count": 23,
   "metadata": {},
   "outputs": [],
   "source": [
    "\n",
    "from LLMSearch.Embedding.SBERTFineTuneEmbedding import SBERTFineTuneEmbedding"
   ]
  },
  {
   "cell_type": "code",
   "execution_count": 22,
   "metadata": {},
   "outputs": [],
   "source": [
    "from LLMSearch.TextSearcher import TextSearcher\n",
    "embedder=SBERTFineTuneEmbedding()"
   ]
  },
  {
   "cell_type": "code",
   "execution_count": 24,
   "metadata": {},
   "outputs": [],
   "source": [
    "vec=embedder(\"aa\")"
   ]
  },
  {
   "cell_type": "code",
   "execution_count": null,
   "metadata": {},
   "outputs": [],
   "source": [
    "vec"
   ]
  },
  {
   "cell_type": "code",
   "execution_count": null,
   "metadata": {},
   "outputs": [],
   "source": []
  }
 ],
 "metadata": {
  "kernelspec": {
   "display_name": "lora",
   "language": "python",
   "name": "python3"
  },
  "language_info": {
   "codemirror_mode": {
    "name": "ipython",
    "version": 3
   },
   "file_extension": ".py",
   "mimetype": "text/x-python",
   "name": "python",
   "nbconvert_exporter": "python",
   "pygments_lexer": "ipython3",
   "version": "3.10.10"
  },
  "orig_nbformat": 4
 },
 "nbformat": 4,
 "nbformat_minor": 2
}
