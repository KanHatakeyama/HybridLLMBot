{
 "cells": [
  {
   "cell_type": "code",
   "execution_count": 10,
   "metadata": {},
   "outputs": [],
   "source": [
    "import json\n",
    "import os\n",
    "from llama_index import SimpleDirectoryReader\n",
    "import glob\n",
    "import re\n",
    "\n",
    "#ライブラリの自動リロード\n",
    "%load_ext autoreload\n",
    "%autoreload 2\n",
    "\n",
    "def filename_fn(filename): return {\"file_name\": filename}\n"
   ]
  },
  {
   "cell_type": "code",
   "execution_count": 7,
   "metadata": {},
   "outputs": [],
   "source": [
    "\n",
    "original_folder_path=\"UserData/original\"\n",
    "directory_reader = SimpleDirectoryReader(\n",
    "    original_folder_path,\n",
    "    file_metadata=filename_fn,\n",
    "    recursive=True,\n",
    ")\n",
    "\n"
   ]
  },
  {
   "cell_type": "code",
   "execution_count": 19,
   "metadata": {},
   "outputs": [],
   "source": [
    "docs=directory_reader.load_data()\n",
    "doc=docs[-1]\n",
    "txt=doc.text"
   ]
  },
  {
   "cell_type": "code",
   "execution_count": 20,
   "metadata": {},
   "outputs": [
    {
     "data": {
      "text/plain": [
       "'基板表面改質材料を志向したヒドロキシ基含有ポリスチレン -block -ポリメタクリル酸メチルの精密合成東京工業大学物質理工学院材料系早川・難波江研究室学士 4年水嵜陸【緒言】ブロック共重合体（ BCP）のミクロ相分離構造の誘導自己組織化 （DSA）を利用した半導体微細加工技術である BCPリソグラフィーでは，パターン形成用保護膜内における構造制御が重要である.1  高解像度パターンを得るためには， ミクロ相分離構造におけるドメイン界面の基板面に対する垂直配向が求められる．そこで， BCPの各ブロック成分のシリコン基板界面への親和性を良好に，すなわち中性化するための表面改質材料（下地膜（NL））が必要となる .2 NLを塗布したシリコン基板では，成膜した保護膜内のミクロ相分離構造の垂直配向が実現される．一方で， DSAにより形成されるパターンでは，多様な形状からなる構造欠陥の低減が課題となっている．最近では， 構造欠陥が生じる主な原因の一つとして， NLの基板への定着に作用するヒドロキシ基の凝集に基づく微小なドメイン形成とその不均一性が考えられている． \\n本論文では ，構造欠陥の低減を志向した新たな NL材料の開発を目指し ，ポリスチレン（ PS）とポリメタクリル酸メチル（ PMMA）からなる BCPのブロック鎖の結合点にヒドロキシ基を定量的に導入した PS-OH 2-PMMAの合成とNLとしての評価を目的とした ．得られる BCPをNLとして用いたシリコン基板上への定着と，それに続く同一のBCPを保護膜材料に用いた薄膜の作製により，垂直配向ラメラ構造の形成に取り組んだ．  【実験および結果と考察】  Figure 1. Synthetic scheme of PS -OH 2-PMMA.  \\n1 Bates, C. M. et al.  Macromolecules  2014 , 47 (1), 2 -12. 2 Mansky, P. et al. Science  1997 , 275 (5305), 1458 -1460.  OHCl tert-BuMe2SiClimidazole, DMFOCl TBDMS\\nO\\nOH HOClC 6OTBSClC 6OTBSKI, K2CO3, DMFOO(CH2)6O O(H2C)6O TBDMS TBDMS\\nO\\nO(CH2)6O O(H2C)6O TBDMS TBDMSMePPh 3Brtert-BuOK, THFO(CH2)6O O(H2C)6O TBDMS TBDMSListyreneTHFm-1LiDPE-O TBS2DPE-O TBS2mO(CH2)6OO(CH2)6OTBDMSTBDMSLi1) MMA2) MeOHmO(CH2)6OO(CH2)6OTBDMS\\nTBDMSH\\nO OnmO(CH2)6OO(CH2)6OTBDMS\\nTBDMSH\\nO OnPS-O TBS2-PMMA\\nTBAF\\nTHFmO(CH2)6OHO(CH2)6OH\\nH\\nO On\\nPS-O H2-PMMA\\nPS-OH 2-PMMAの合成を目的に ，PSとPMMAの結合点に 1分子のみ定量的に導入することが可能となる 1,1-diphenylethylene （DPE） の誘導体の合成から取り掛かった ． tert-butyldimethylsilyl 基（TBDMS基）で 2つのヒドロキシ基を保護した DPE -OTBS 2の合成を行った．\\n続いて，得られた DPE-OTBS 2を用いたリビングアニオン重合による PS-b-PMMA誘導体（PS-OTBS 2-PMMA）の合成を行い，それに続く TBDMS 基の脱保護反応により目的とする PS-OH 2-PMMAを得た．1H NMRおよび13C NMRスペクトルの解析により， PS-OH 2-PMMAが得られたことが分かった ．サイズ排除クロマトグラフィー（ SEC）を用いた分子量，分子量分布の解析，および小角 X線散乱（ SAXS）を用いた BCPのバルクにおける高次構造解析を行った．  Table 1. Characterization of the synthesized PS -DPEC6OH2 -PMMA block copolymers.  Labels  Mna (kg mol-1) Ða fPSb Morphologyc d-spacingd (nm)  PS-OH 2-PMMA41  41.4 1.03 0.53 Lamella  22.7 PS-OH 2-PMMA8  8.40 1.11 0.53 Disorder  − a Determined by SEC. b Determined by 1H NMR spectra in CDCl 3. c Determined by SAXS.  d Calculated from the first -order peak position in the SAXS profiles.  得られたポリマーのうち， PS-OH 2-PMMA41 を用いて下地膜のシリコン基板への定着，それに続くPS-OH 2-PMMA41 の成膜を行い，原子間力顕微鏡（ AFM）による表面構造観察を行った． 垂直配向ラメラ構造の形成を目的に，NLの熱処理温度と時間について検討を行った．NLの熱処理時間が 1分以下の場合 ，薄膜内では水平配向されたラメラ構造の形成が示唆された．一方で，熱処理時間が2分から 15分の間では， 垂直配向が示唆される指紋状のAFM像が見られる領域と水平配向領域が混在する状態となり， 熱処理時間の延長により垂直配向領域が拡大する傾向にあることが分かった．さらに熱処理時間を長くすると ，20分以上の熱処理で基板全面において明瞭な指紋状のAFM像が観察され， 垂直配向ラメラ構造の形成が明らかとなった ． 以上の結果より， 熱処理時間の増加に伴いNLのシリコン基板への定着が進行するとともに， シリコン基板上に均一に定着し ，PS-OH 2-PMMAはNLとしての要求特性を満たすとともに保護膜としても利用可能であることが分かった． \\nFigure 2. AFM phase images of parallel (NL annealed for 1 min, left), mix of  parallel and perpendicular (NL annealed for 2 min, center), and perpendicular orientation (NL annealed for 30 min, right) of PS -OH 2-PMMA 41 thin films . '"
      ]
     },
     "execution_count": 20,
     "metadata": {},
     "output_type": "execute_result"
    }
   ],
   "source": [
    "from LLMSearch.CleanPDF import clean_text\n",
    "clean_text(txt)\n"
   ]
  },
  {
   "cell_type": "code",
   "execution_count": 17,
   "metadata": {},
   "outputs": [
    {
     "name": "stdout",
     "output_type": "stream",
     "text": [
      "元のテキスト: 全角　文字 から なる 単語 間 の スペース を 削除 する python this is a pen\n",
      "スペース削除後のテキスト: 全角文字からなる単語間のスペースを削除する python this is a pen\n"
     ]
    }
   ],
   "source": [
    "import re\n",
    "\n",
    "def remove_spaces(text):\n",
    "    # 全角文字だけの単語間のスペースを削除\n",
    "    text = re.sub(r'(?<=[\\u3000-\\u9FFF])[\\u3000\\s]+(?=[\\u3000-\\u9FFF])', '', text)\n",
    "    return text\n",
    "\n",
    "input_text = \"全角　文字 から なる 単語 間 の スペース を 削除 する python this is a pen\"\n",
    "output_text = remove_spaces(input_text)\n",
    "\n",
    "print(\"元のテキスト:\", input_text)\n",
    "print(\"スペース削除後のテキスト:\", output_text)"
   ]
  },
  {
   "cell_type": "code",
   "execution_count": 21,
   "metadata": {},
   "outputs": [
    {
     "data": {
      "text/plain": [
       "'垂直配向が求められる.そこで， BCPの各ブロック成分のシリコン基板界面への親和性を良好に，.すなわち中性化するための表面改質材料（下地膜（NL））が必要となる.2 NLを塗布したシリコン基.板では，成膜した保護膜内のミクロ相分離構造の垂直配向が実現される.一方で， DSAにより形.成されるパターンでは，多様な形状からなる構造欠陥の低減が課題となっている.最近では， 構造.欠陥が生じる主な原因の一つとして， NLの基板への定着に作用するヒドロキシ基の凝集に基づく.'"
      ]
     },
     "execution_count": 21,
     "metadata": {},
     "output_type": "execute_result"
    }
   ],
   "source": [
    "t=\"垂直配向が 求められる.そこで， BCPの各ブロック成分のシリコン基板界面への親和性を 良好に，.すなわち中性化する ための表面改質材 料（下地膜（NL））が必要となる.2 NLを塗布したシリコン基.板では，成膜した保護膜内の ミクロ相分離構造の垂直配向 が実現される.一方で， DSAにより形.成されるパターンでは，多様な形状からなる 構造欠陥 の低減が課題となって いる.最近では， 構造.欠陥が生じる 主な原因の一つとして， NLの基板への定着に作用する ヒドロキシ基 の凝集に基づく.\"\n",
    "remove_spaces(t)"
   ]
  },
  {
   "cell_type": "code",
   "execution_count": 27,
   "metadata": {},
   "outputs": [
    {
     "name": "stdout",
     "output_type": "stream",
     "text": [
      "元のテキスト: 全角　文字 から なる 単語 間 の スペース... を 削除 する python   this  is  a  pen,,,,\n",
      "スペースとピリオドの連続をまとめたテキスト: 全角　文字 から なる 単語 間 の スペース. を 削除 する python this is a pen,\n"
     ]
    }
   ],
   "source": [
    "import re\n",
    "\n",
    "def condense_spaces_and_periods(text):\n",
    "    # 半角スペースの連続を1回にまとめる\n",
    "    text = re.sub(r' +', ' ', text)\n",
    "    \n",
    "    # ピリオドの連続を1回にまとめる\n",
    "    text = re.sub(r',+', ',', text)\n",
    "    text = re.sub(r'\\.+', '.', text)\n",
    "    \n",
    "    return text\n",
    "\n",
    "input_text = \"全角　文字 から なる 単語 間 の スペース... を 削除 する python   this  is  a  pen,,,,\"\n",
    "output_text = condense_spaces_and_periods(input_text)\n",
    "\n",
    "print(\"元のテキスト:\", input_text)\n",
    "print(\"スペースとピリオドの連続をまとめたテキスト:\", output_text)"
   ]
  },
  {
   "cell_type": "code",
   "execution_count": 28,
   "metadata": {},
   "outputs": [
    {
     "name": "stdout",
     "output_type": "stream",
     "text": [
      "元のテキスト: 全角　文字 から なる 単語 間 の スペース を 削除 する python\n",
      "ユニークなコード: cc2d5077dad4c553ac027f8e852d45538d5f95497fefa48021d6f9f51552fdfd\n"
     ]
    }
   ],
   "source": [
    "import hashlib\n",
    "\n",
    "def generate_unique_code(text):\n",
    "    # 文字列をバイト列に変換\n",
    "    text_bytes = text.encode('utf-8')\n",
    "    \n",
    "    # SHA-256ハッシュを計算\n",
    "    hash_object = hashlib.sha256(text_bytes)\n",
    "    \n",
    "    # ハッシュを16進数の文字列に変換\n",
    "    unique_code = hash_object.hexdigest()\n",
    "    \n",
    "    return unique_code\n",
    "\n",
    "input_text = \"全角　文字 から なる 単語 間 の スペース を 削除 する python\"\n",
    "unique_code = generate_unique_code(input_text)\n",
    "\n",
    "print(\"元のテキスト:\", input_text)\n",
    "print(\"ユニークなコード:\", unique_code)"
   ]
  },
  {
   "cell_type": "code",
   "execution_count": null,
   "metadata": {},
   "outputs": [],
   "source": []
  }
 ],
 "metadata": {
  "kernelspec": {
   "display_name": "lora",
   "language": "python",
   "name": "python3"
  },
  "language_info": {
   "codemirror_mode": {
    "name": "ipython",
    "version": 3
   },
   "file_extension": ".py",
   "mimetype": "text/x-python",
   "name": "python",
   "nbconvert_exporter": "python",
   "pygments_lexer": "ipython3",
   "version": "3.10.10"
  },
  "orig_nbformat": 4
 },
 "nbformat": 4,
 "nbformat_minor": 2
}
